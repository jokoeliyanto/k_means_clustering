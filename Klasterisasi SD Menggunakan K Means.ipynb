{
 "cells": [
  {
   "cell_type": "markdown",
   "id": "4d0118d1",
   "metadata": {},
   "source": [
    "# Clasterisasi Sekolah Dasar Menggunakan K Means Clustering\n",
    "\n",
    "Assalamualaikum w.w.\n",
    "\n",
    "Ini merupakan python notebook untuk melakukan Klasterisasi Sekolah Dasar Menggunakan K-Means Clustering. Tujuan utama dari project ini adalah untuk membuat kelompok provinsi dengan SD kategori baik, sedang, dan rendah berdasarkan data jumlah guru, jumlah siswa dan jumlah sekolah."
   ]
  },
  {
   "cell_type": "markdown",
   "id": "8eeb2275",
   "metadata": {},
   "source": [
    "### Library Import"
   ]
  },
  {
   "cell_type": "code",
   "execution_count": 248,
   "id": "04dd70d2",
   "metadata": {},
   "outputs": [
    {
     "name": "stdout",
     "output_type": "stream",
     "text": [
      "Requirement already satisfied: yellowbrick in c:\\users\\acer\\anaconda3\\lib\\site-packages (1.5)\n",
      "Requirement already satisfied: cycler>=0.10.0 in c:\\users\\acer\\anaconda3\\lib\\site-packages (from yellowbrick) (0.11.0)\n",
      "Requirement already satisfied: numpy>=1.16.0 in c:\\users\\acer\\anaconda3\\lib\\site-packages (from yellowbrick) (1.23.5)\n",
      "Requirement already satisfied: scikit-learn>=1.0.0 in c:\\users\\acer\\anaconda3\\lib\\site-packages (from yellowbrick) (1.2.1)\n",
      "Requirement already satisfied: scipy>=1.0.0 in c:\\users\\acer\\anaconda3\\lib\\site-packages (from yellowbrick) (1.10.0)\n",
      "Requirement already satisfied: matplotlib!=3.0.0,>=2.0.2 in c:\\users\\acer\\anaconda3\\lib\\site-packages (from yellowbrick) (3.7.0)\n",
      "Requirement already satisfied: python-dateutil>=2.7 in c:\\users\\acer\\anaconda3\\lib\\site-packages (from matplotlib!=3.0.0,>=2.0.2->yellowbrick) (2.8.2)\n",
      "Requirement already satisfied: packaging>=20.0 in c:\\users\\acer\\anaconda3\\lib\\site-packages (from matplotlib!=3.0.0,>=2.0.2->yellowbrick) (22.0)\n",
      "Requirement already satisfied: pyparsing>=2.3.1 in c:\\users\\acer\\anaconda3\\lib\\site-packages (from matplotlib!=3.0.0,>=2.0.2->yellowbrick) (3.0.9)\n",
      "Requirement already satisfied: fonttools>=4.22.0 in c:\\users\\acer\\anaconda3\\lib\\site-packages (from matplotlib!=3.0.0,>=2.0.2->yellowbrick) (4.25.0)\n",
      "Requirement already satisfied: contourpy>=1.0.1 in c:\\users\\acer\\anaconda3\\lib\\site-packages (from matplotlib!=3.0.0,>=2.0.2->yellowbrick) (1.0.5)\n",
      "Requirement already satisfied: kiwisolver>=1.0.1 in c:\\users\\acer\\anaconda3\\lib\\site-packages (from matplotlib!=3.0.0,>=2.0.2->yellowbrick) (1.4.4)\n",
      "Requirement already satisfied: pillow>=6.2.0 in c:\\users\\acer\\anaconda3\\lib\\site-packages (from matplotlib!=3.0.0,>=2.0.2->yellowbrick) (9.4.0)\n",
      "Requirement already satisfied: joblib>=1.1.1 in c:\\users\\acer\\anaconda3\\lib\\site-packages (from scikit-learn>=1.0.0->yellowbrick) (1.1.1)\n",
      "Requirement already satisfied: threadpoolctl>=2.0.0 in c:\\users\\acer\\anaconda3\\lib\\site-packages (from scikit-learn>=1.0.0->yellowbrick) (2.2.0)\n",
      "Requirement already satisfied: six>=1.5 in c:\\users\\acer\\anaconda3\\lib\\site-packages (from python-dateutil>=2.7->matplotlib!=3.0.0,>=2.0.2->yellowbrick) (1.16.0)\n"
     ]
    }
   ],
   "source": [
    "!pip install yellowbrick"
   ]
  },
  {
   "cell_type": "code",
   "execution_count": 249,
   "id": "fab36fd5",
   "metadata": {},
   "outputs": [],
   "source": [
    "import pandas as pd                            #olah data tabel\n",
    "import numpy as np                             #olah data numerik\n",
    "import matplotlib.pyplot as plt                #visualisasi data\n",
    "import seaborn as sns                          #visualisasi data\n",
    "from mpl_toolkits import mplot3d\n",
    "import plotly.express as plotly_express\n",
    "\n",
    "import warnings\n",
    "warnings.filterwarnings('ignore')\n",
    "\n",
    "from yellowbrick.cluster import KElbowVisualizer           # Elbow method\n",
    "from sklearn.cluster import KMeans                         # K Means Clustering sklearn             "
   ]
  },
  {
   "cell_type": "markdown",
   "id": "ea910d8a",
   "metadata": {},
   "source": [
    "### Data"
   ]
  },
  {
   "cell_type": "code",
   "execution_count": 250,
   "id": "a807c812",
   "metadata": {},
   "outputs": [],
   "source": [
    "df = pd.read_csv('https://raw.githubusercontent.com/jokoeliyanto/k_means_clustering/main/SD.csv', sep=';')"
   ]
  },
  {
   "cell_type": "code",
   "execution_count": 251,
   "id": "b33c99e0",
   "metadata": {},
   "outputs": [
    {
     "data": {
      "text/html": [
       "<div>\n",
       "<style scoped>\n",
       "    .dataframe tbody tr th:only-of-type {\n",
       "        vertical-align: middle;\n",
       "    }\n",
       "\n",
       "    .dataframe tbody tr th {\n",
       "        vertical-align: top;\n",
       "    }\n",
       "\n",
       "    .dataframe thead th {\n",
       "        text-align: right;\n",
       "    }\n",
       "</style>\n",
       "<table border=\"1\" class=\"dataframe\">\n",
       "  <thead>\n",
       "    <tr style=\"text-align: right;\">\n",
       "      <th></th>\n",
       "      <th>No</th>\n",
       "      <th>Provinsi</th>\n",
       "      <th>Sekolah</th>\n",
       "      <th>Guru</th>\n",
       "      <th>Murid</th>\n",
       "    </tr>\n",
       "  </thead>\n",
       "  <tbody>\n",
       "    <tr>\n",
       "      <th>0</th>\n",
       "      <td>1</td>\n",
       "      <td>Aceh</td>\n",
       "      <td>3529</td>\n",
       "      <td>48541</td>\n",
       "      <td>486958</td>\n",
       "    </tr>\n",
       "    <tr>\n",
       "      <th>1</th>\n",
       "      <td>2</td>\n",
       "      <td>Sumatera Utara</td>\n",
       "      <td>9782</td>\n",
       "      <td>109585</td>\n",
       "      <td>1548652</td>\n",
       "    </tr>\n",
       "    <tr>\n",
       "      <th>2</th>\n",
       "      <td>3</td>\n",
       "      <td>Sumatera Barat</td>\n",
       "      <td>4260</td>\n",
       "      <td>46833</td>\n",
       "      <td>597218</td>\n",
       "    </tr>\n",
       "    <tr>\n",
       "      <th>3</th>\n",
       "      <td>4</td>\n",
       "      <td>Riau</td>\n",
       "      <td>3791</td>\n",
       "      <td>51378</td>\n",
       "      <td>773526</td>\n",
       "    </tr>\n",
       "    <tr>\n",
       "      <th>4</th>\n",
       "      <td>5</td>\n",
       "      <td>Jambi</td>\n",
       "      <td>2463</td>\n",
       "      <td>27161</td>\n",
       "      <td>368694</td>\n",
       "    </tr>\n",
       "  </tbody>\n",
       "</table>\n",
       "</div>"
      ],
      "text/plain": [
       "   No        Provinsi  Sekolah    Guru    Murid\n",
       "0   1            Aceh     3529   48541   486958\n",
       "1   2  Sumatera Utara     9782  109585  1548652\n",
       "2   3  Sumatera Barat     4260   46833   597218\n",
       "3   4            Riau     3791   51378   773526\n",
       "4   5           Jambi     2463   27161   368694"
      ]
     },
     "execution_count": 251,
     "metadata": {},
     "output_type": "execute_result"
    }
   ],
   "source": [
    "df.head()"
   ]
  },
  {
   "cell_type": "code",
   "execution_count": 252,
   "id": "45851c06",
   "metadata": {},
   "outputs": [
    {
     "name": "stdout",
     "output_type": "stream",
     "text": [
      "<class 'pandas.core.frame.DataFrame'>\n",
      "RangeIndex: 34 entries, 0 to 33\n",
      "Data columns (total 5 columns):\n",
      " #   Column    Non-Null Count  Dtype \n",
      "---  ------    --------------  ----- \n",
      " 0   No        34 non-null     int64 \n",
      " 1   Provinsi  34 non-null     object\n",
      " 2   Sekolah   34 non-null     int64 \n",
      " 3   Guru      34 non-null     int64 \n",
      " 4   Murid     34 non-null     int64 \n",
      "dtypes: int64(4), object(1)\n",
      "memory usage: 1.5+ KB\n"
     ]
    }
   ],
   "source": [
    "df.info()"
   ]
  },
  {
   "cell_type": "code",
   "execution_count": 253,
   "id": "577ec37c",
   "metadata": {},
   "outputs": [
    {
     "data": {
      "text/html": [
       "<div>\n",
       "<style scoped>\n",
       "    .dataframe tbody tr th:only-of-type {\n",
       "        vertical-align: middle;\n",
       "    }\n",
       "\n",
       "    .dataframe tbody tr th {\n",
       "        vertical-align: top;\n",
       "    }\n",
       "\n",
       "    .dataframe thead th {\n",
       "        text-align: right;\n",
       "    }\n",
       "</style>\n",
       "<table border=\"1\" class=\"dataframe\">\n",
       "  <thead>\n",
       "    <tr style=\"text-align: right;\">\n",
       "      <th></th>\n",
       "      <th>No</th>\n",
       "      <th>Sekolah</th>\n",
       "      <th>Guru</th>\n",
       "      <th>Murid</th>\n",
       "    </tr>\n",
       "  </thead>\n",
       "  <tbody>\n",
       "    <tr>\n",
       "      <th>count</th>\n",
       "      <td>34.000000</td>\n",
       "      <td>34.000000</td>\n",
       "      <td>34.000000</td>\n",
       "      <td>3.400000e+01</td>\n",
       "    </tr>\n",
       "    <tr>\n",
       "      <th>mean</th>\n",
       "      <td>17.500000</td>\n",
       "      <td>4381.617647</td>\n",
       "      <td>47220.852941</td>\n",
       "      <td>7.081327e+05</td>\n",
       "    </tr>\n",
       "    <tr>\n",
       "      <th>std</th>\n",
       "      <td>9.958246</td>\n",
       "      <td>5017.449255</td>\n",
       "      <td>50569.185611</td>\n",
       "      <td>8.970857e+05</td>\n",
       "    </tr>\n",
       "    <tr>\n",
       "      <th>min</th>\n",
       "      <td>1.000000</td>\n",
       "      <td>485.000000</td>\n",
       "      <td>6095.000000</td>\n",
       "      <td>7.852900e+04</td>\n",
       "    </tr>\n",
       "    <tr>\n",
       "      <th>25%</th>\n",
       "      <td>9.250000</td>\n",
       "      <td>1821.000000</td>\n",
       "      <td>18175.500000</td>\n",
       "      <td>2.178215e+05</td>\n",
       "    </tr>\n",
       "    <tr>\n",
       "      <th>50%</th>\n",
       "      <td>17.500000</td>\n",
       "      <td>2645.000000</td>\n",
       "      <td>27168.000000</td>\n",
       "      <td>3.975465e+05</td>\n",
       "    </tr>\n",
       "    <tr>\n",
       "      <th>75%</th>\n",
       "      <td>25.750000</td>\n",
       "      <td>4585.000000</td>\n",
       "      <td>53558.250000</td>\n",
       "      <td>7.714170e+05</td>\n",
       "    </tr>\n",
       "    <tr>\n",
       "      <th>max</th>\n",
       "      <td>34.000000</td>\n",
       "      <td>19659.000000</td>\n",
       "      <td>212849.000000</td>\n",
       "      <td>4.450934e+06</td>\n",
       "    </tr>\n",
       "  </tbody>\n",
       "</table>\n",
       "</div>"
      ],
      "text/plain": [
       "              No       Sekolah           Guru         Murid\n",
       "count  34.000000     34.000000      34.000000  3.400000e+01\n",
       "mean   17.500000   4381.617647   47220.852941  7.081327e+05\n",
       "std     9.958246   5017.449255   50569.185611  8.970857e+05\n",
       "min     1.000000    485.000000    6095.000000  7.852900e+04\n",
       "25%     9.250000   1821.000000   18175.500000  2.178215e+05\n",
       "50%    17.500000   2645.000000   27168.000000  3.975465e+05\n",
       "75%    25.750000   4585.000000   53558.250000  7.714170e+05\n",
       "max    34.000000  19659.000000  212849.000000  4.450934e+06"
      ]
     },
     "execution_count": 253,
     "metadata": {},
     "output_type": "execute_result"
    }
   ],
   "source": [
    "df.describe()"
   ]
  },
  {
   "cell_type": "markdown",
   "id": "0beeabed",
   "metadata": {},
   "source": [
    "### Exploratory Data Analysis"
   ]
  },
  {
   "cell_type": "markdown",
   "id": "c218fab4",
   "metadata": {},
   "source": [
    "#### 1. Check Missing Values"
   ]
  },
  {
   "cell_type": "code",
   "execution_count": 254,
   "id": "efbafb2e",
   "metadata": {},
   "outputs": [
    {
     "name": "stdout",
     "output_type": "stream",
     "text": [
      "<class 'pandas.core.frame.DataFrame'>\n",
      "RangeIndex: 34 entries, 0 to 33\n",
      "Data columns (total 5 columns):\n",
      " #   Column    Non-Null Count  Dtype \n",
      "---  ------    --------------  ----- \n",
      " 0   No        34 non-null     int64 \n",
      " 1   Provinsi  34 non-null     object\n",
      " 2   Sekolah   34 non-null     int64 \n",
      " 3   Guru      34 non-null     int64 \n",
      " 4   Murid     34 non-null     int64 \n",
      "dtypes: int64(4), object(1)\n",
      "memory usage: 1.5+ KB\n"
     ]
    }
   ],
   "source": [
    "df.info()"
   ]
  },
  {
   "cell_type": "code",
   "execution_count": 255,
   "id": "c3be8161",
   "metadata": {},
   "outputs": [
    {
     "data": {
      "text/plain": [
       "No          0\n",
       "Provinsi    0\n",
       "Sekolah     0\n",
       "Guru        0\n",
       "Murid       0\n",
       "dtype: int64"
      ]
     },
     "execution_count": 255,
     "metadata": {},
     "output_type": "execute_result"
    }
   ],
   "source": [
    "df.isnull().sum()"
   ]
  },
  {
   "cell_type": "code",
   "execution_count": 256,
   "id": "54c9a2bd",
   "metadata": {},
   "outputs": [
    {
     "data": {
      "text/plain": [
       "<Axes: >"
      ]
     },
     "execution_count": 256,
     "metadata": {},
     "output_type": "execute_result"
    },
    {
     "data": {
      "image/png": "[encoded data removed]",
      "text/plain": [
       "<Figure size 800x550 with 1 Axes>"
      ]
     },
     "metadata": {},
     "output_type": "display_data"
    }
   ],
   "source": [
    "sns.heatmap(df.isnull(),cbar=False,yticklabels=False,cmap = 'viridis')"
   ]
  },
  {
   "cell_type": "markdown",
   "id": "7122d262",
   "metadata": {},
   "source": [
    "Note : *Tidak ada Missing Values*"
   ]
  },
  {
   "cell_type": "markdown",
   "id": "7b0d65e5",
   "metadata": {},
   "source": [
    "#### 2. Check Duplikasi Data"
   ]
  },
  {
   "cell_type": "code",
   "execution_count": 257,
   "id": "0fe2f5af",
   "metadata": {},
   "outputs": [
    {
     "data": {
      "text/plain": [
       "0     False\n",
       "1     False\n",
       "2     False\n",
       "3     False\n",
       "4     False\n",
       "5     False\n",
       "6     False\n",
       "7     False\n",
       "8     False\n",
       "9     False\n",
       "10    False\n",
       "11    False\n",
       "12    False\n",
       "13    False\n",
       "14    False\n",
       "15    False\n",
       "16    False\n",
       "17    False\n",
       "18    False\n",
       "19    False\n",
       "20    False\n",
       "21    False\n",
       "22    False\n",
       "23    False\n",
       "24    False\n",
       "25    False\n",
       "26    False\n",
       "27    False\n",
       "28    False\n",
       "29    False\n",
       "30    False\n",
       "31    False\n",
       "32    False\n",
       "33    False\n",
       "dtype: bool"
      ]
     },
     "execution_count": 257,
     "metadata": {},
     "output_type": "execute_result"
    }
   ],
   "source": [
    "df.duplicated()"
   ]
  },
  {
   "cell_type": "markdown",
   "id": "95fadf1b",
   "metadata": {},
   "source": [
    "Note : Tidak ada Duplikasi Data"
   ]
  },
  {
   "cell_type": "markdown",
   "id": "749d3818",
   "metadata": {},
   "source": [
    "#### 3. Check Outlier Pada Data"
   ]
  },
  {
   "cell_type": "code",
   "execution_count": 258,
   "id": "03a186e6",
   "metadata": {},
   "outputs": [
    {
     "data": {
      "image/png": "[encoded data removed]",
      "text/plain": [
       "<Figure size 800x550 with 1 Axes>"
      ]
     },
     "metadata": {},
     "output_type": "display_data"
    }
   ],
   "source": [
    "df1=df.select_dtypes(include=['float64', 'int64'])#Memilih kolom numerik\n",
    "\n",
    "sns.boxplot(x=\"variable\", y=\"value\", color='green',orient='v', data=pd.melt(df1))\n",
    "plt.tight_layout()"
   ]
  },
  {
   "cell_type": "markdown",
   "id": "2d9ef753",
   "metadata": {},
   "source": [
    "Note : Terdapat Outlier di Variabe Murid dan Guru"
   ]
  },
  {
   "cell_type": "markdown",
   "id": "02900870",
   "metadata": {},
   "source": [
    "#### 4. Check Korelasi Data"
   ]
  },
  {
   "cell_type": "code",
   "execution_count": 259,
   "id": "0b4edbc7",
   "metadata": {},
   "outputs": [
    {
     "data": {
      "text/plain": [
       "<Axes: >"
      ]
     },
     "execution_count": 259,
     "metadata": {},
     "output_type": "execute_result"
    },
    {
     "data": {
      "image/png": "[encoded data removed]",
      "text/plain": [
       "<Figure size 1000x600 with 2 Axes>"
      ]
     },
     "metadata": {},
     "output_type": "display_data"
    }
   ],
   "source": [
    "k = len(df1.columns)\n",
    "cm = df1.corr()\n",
    "plt.figure(figsize=(10,6))\n",
    "sns.heatmap(cm, annot=True, cmap = 'viridis')"
   ]
  },
  {
   "cell_type": "markdown",
   "id": "8fcccbb4",
   "metadata": {},
   "source": [
    "Note : Terdapat Korelasi Tinggi antara jumlah Guru, Siswa, dan Sekolah (Make Sense sih)"
   ]
  },
  {
   "cell_type": "markdown",
   "id": "f756e0d2",
   "metadata": {},
   "source": [
    "#### 5. Check Distribusi Data"
   ]
  },
  {
   "cell_type": "code",
   "execution_count": 260,
   "id": "ae87b671",
   "metadata": {},
   "outputs": [
    {
     "data": {
      "image/png": "[encoded data removed]",
      "text/plain": [
       "<Figure size 800x17000 with 4 Axes>"
      ]
     },
     "metadata": {},
     "output_type": "display_data"
    }
   ],
   "source": [
    "l = df1.columns.values\n",
    "number_of_columns=len(df1.columns)\n",
    "number_of_rows = len(df)\n",
    "plt.figure(figsize=(2*number_of_columns,5*number_of_rows))\n",
    "for i in range(0,len(l)):\n",
    "    plt.subplot(number_of_rows + 1,number_of_columns,i+1)\n",
    "    sns.distplot(df[l[i]],kde=True) "
   ]
  },
  {
   "cell_type": "markdown",
   "id": "f173a711",
   "metadata": {},
   "source": [
    "Note : Variabel Sekolah, Guru, dan Murid memiliki Distribusi Skew Kiri"
   ]
  },
  {
   "cell_type": "code",
   "execution_count": 261,
   "id": "a2803fb7",
   "metadata": {},
   "outputs": [
    {
     "data": {
      "image/png": "[encoded data removed]",
      "text/plain": [
       "<Figure size 1000x1000 with 20 Axes>"
      ]
     },
     "metadata": {},
     "output_type": "display_data"
    }
   ],
   "source": [
    "g = sns.pairplot(df1)"
   ]
  },
  {
   "cell_type": "markdown",
   "id": "faf4e69f",
   "metadata": {},
   "source": [
    "#### 6. Check Statistik Data"
   ]
  },
  {
   "cell_type": "code",
   "execution_count": 262,
   "id": "f1662800",
   "metadata": {},
   "outputs": [
    {
     "data": {
      "text/html": [
       "<div>\n",
       "<style scoped>\n",
       "    .dataframe tbody tr th:only-of-type {\n",
       "        vertical-align: middle;\n",
       "    }\n",
       "\n",
       "    .dataframe tbody tr th {\n",
       "        vertical-align: top;\n",
       "    }\n",
       "\n",
       "    .dataframe thead th {\n",
       "        text-align: right;\n",
       "    }\n",
       "</style>\n",
       "<table border=\"1\" class=\"dataframe\">\n",
       "  <thead>\n",
       "    <tr style=\"text-align: right;\">\n",
       "      <th></th>\n",
       "      <th>No</th>\n",
       "      <th>Sekolah</th>\n",
       "      <th>Guru</th>\n",
       "      <th>Murid</th>\n",
       "    </tr>\n",
       "  </thead>\n",
       "  <tbody>\n",
       "    <tr>\n",
       "      <th>count</th>\n",
       "      <td>34.000000</td>\n",
       "      <td>34.000000</td>\n",
       "      <td>34.000000</td>\n",
       "      <td>3.400000e+01</td>\n",
       "    </tr>\n",
       "    <tr>\n",
       "      <th>mean</th>\n",
       "      <td>17.500000</td>\n",
       "      <td>4381.617647</td>\n",
       "      <td>47220.852941</td>\n",
       "      <td>7.081327e+05</td>\n",
       "    </tr>\n",
       "    <tr>\n",
       "      <th>std</th>\n",
       "      <td>9.958246</td>\n",
       "      <td>5017.449255</td>\n",
       "      <td>50569.185611</td>\n",
       "      <td>8.970857e+05</td>\n",
       "    </tr>\n",
       "    <tr>\n",
       "      <th>min</th>\n",
       "      <td>1.000000</td>\n",
       "      <td>485.000000</td>\n",
       "      <td>6095.000000</td>\n",
       "      <td>7.852900e+04</td>\n",
       "    </tr>\n",
       "    <tr>\n",
       "      <th>25%</th>\n",
       "      <td>9.250000</td>\n",
       "      <td>1821.000000</td>\n",
       "      <td>18175.500000</td>\n",
       "      <td>2.178215e+05</td>\n",
       "    </tr>\n",
       "    <tr>\n",
       "      <th>50%</th>\n",
       "      <td>17.500000</td>\n",
       "      <td>2645.000000</td>\n",
       "      <td>27168.000000</td>\n",
       "      <td>3.975465e+05</td>\n",
       "    </tr>\n",
       "    <tr>\n",
       "      <th>75%</th>\n",
       "      <td>25.750000</td>\n",
       "      <td>4585.000000</td>\n",
       "      <td>53558.250000</td>\n",
       "      <td>7.714170e+05</td>\n",
       "    </tr>\n",
       "    <tr>\n",
       "      <th>max</th>\n",
       "      <td>34.000000</td>\n",
       "      <td>19659.000000</td>\n",
       "      <td>212849.000000</td>\n",
       "      <td>4.450934e+06</td>\n",
       "    </tr>\n",
       "  </tbody>\n",
       "</table>\n",
       "</div>"
      ],
      "text/plain": [
       "              No       Sekolah           Guru         Murid\n",
       "count  34.000000     34.000000      34.000000  3.400000e+01\n",
       "mean   17.500000   4381.617647   47220.852941  7.081327e+05\n",
       "std     9.958246   5017.449255   50569.185611  8.970857e+05\n",
       "min     1.000000    485.000000    6095.000000  7.852900e+04\n",
       "25%     9.250000   1821.000000   18175.500000  2.178215e+05\n",
       "50%    17.500000   2645.000000   27168.000000  3.975465e+05\n",
       "75%    25.750000   4585.000000   53558.250000  7.714170e+05\n",
       "max    34.000000  19659.000000  212849.000000  4.450934e+06"
      ]
     },
     "execution_count": 262,
     "metadata": {},
     "output_type": "execute_result"
    }
   ],
   "source": [
    "df.describe()"
   ]
  },
  {
   "cell_type": "markdown",
   "id": "bc898dcb",
   "metadata": {},
   "source": [
    "Note : Terdapat perbedaan Skala yang cukup signifikan antara variabel Sekolah, Guru, dan Murid"
   ]
  },
  {
   "cell_type": "markdown",
   "id": "eefb672c",
   "metadata": {},
   "source": [
    "### Data Preprocessing"
   ]
  },
  {
   "cell_type": "markdown",
   "id": "252ca462",
   "metadata": {},
   "source": [
    "Dalam proses ini akan dilakukan beberapa langkah:\n",
    "\n",
    "1. Mencari Outlier & Menghapus\n",
    "2. Normalisasi Data"
   ]
  },
  {
   "cell_type": "code",
   "execution_count": 263,
   "id": "d2048efc",
   "metadata": {},
   "outputs": [],
   "source": [
    "df_num = df[['Sekolah', 'Guru', 'Murid']]"
   ]
  },
  {
   "cell_type": "markdown",
   "id": "6bdc0664",
   "metadata": {},
   "source": [
    "#### 1. Mencari & Menghapus Outlier"
   ]
  },
  {
   "cell_type": "markdown",
   "id": "2be5f25e",
   "metadata": {},
   "source": [
    "Rentang interkuartil (IQR) adalah ukuran penyebaran statistik dan dihitung sebagai perbedaan antara persentil ke-75 dan ke-25. Ini diwakili oleh rumus IQR = Q3 - Q1. Baris kode di bawah menghitung dan mencetak kisaran interkuartil untuk setiap variabel dalam dataset.\n",
    "\n",
    "Teknik ini menggunakan skor IQR yang dihitung sebelumnya untuk menghilangkan pencilan. Aturan praktisnya adalah bahwa segala sesuatu yang tidak berada dalam kisaran (Q1 - 1.5 IQR) dan (Q3 + 1.5 IQR) adalah pencilan, dan dapat dihapus.\n",
    "\n",
    "Metode ini dipakai karena untuk identifikasi outlier awal digunakan metode boxplot.\n",
    "\n",
    "Referensi: https://www.pluralsight.com/guides/cleaning-up-data-from-outliers"
   ]
  },
  {
   "cell_type": "code",
   "execution_count": 264,
   "id": "f81c2f13",
   "metadata": {},
   "outputs": [
    {
     "name": "stdout",
     "output_type": "stream",
     "text": [
      "No             16.50\n",
      "Sekolah      2764.00\n",
      "Guru        35382.75\n",
      "Murid      553595.50\n",
      "dtype: float64\n"
     ]
    }
   ],
   "source": [
    "#Menghitung Skor IQR\n",
    "sorted(df)\n",
    "\n",
    "Q1=df.quantile(0.25)\n",
    "Q3=df.quantile(0.75)\n",
    "IQR=Q3-Q1\n",
    "print(IQR)"
   ]
  },
  {
   "cell_type": "code",
   "execution_count": 265,
   "id": "fac97a00",
   "metadata": {},
   "outputs": [
    {
     "data": {
      "text/html": [
       "<div>\n",
       "<style scoped>\n",
       "    .dataframe tbody tr th:only-of-type {\n",
       "        vertical-align: middle;\n",
       "    }\n",
       "\n",
       "    .dataframe tbody tr th {\n",
       "        vertical-align: top;\n",
       "    }\n",
       "\n",
       "    .dataframe thead th {\n",
       "        text-align: right;\n",
       "    }\n",
       "</style>\n",
       "<table border=\"1\" class=\"dataframe\">\n",
       "  <thead>\n",
       "    <tr style=\"text-align: right;\">\n",
       "      <th></th>\n",
       "      <th>No</th>\n",
       "      <th>Provinsi</th>\n",
       "      <th>Sekolah</th>\n",
       "      <th>Guru</th>\n",
       "      <th>Murid</th>\n",
       "    </tr>\n",
       "  </thead>\n",
       "  <tbody>\n",
       "    <tr>\n",
       "      <th>0</th>\n",
       "      <td>1</td>\n",
       "      <td>Aceh</td>\n",
       "      <td>3529</td>\n",
       "      <td>48541</td>\n",
       "      <td>486958</td>\n",
       "    </tr>\n",
       "    <tr>\n",
       "      <th>2</th>\n",
       "      <td>3</td>\n",
       "      <td>Sumatera Barat</td>\n",
       "      <td>4260</td>\n",
       "      <td>46833</td>\n",
       "      <td>597218</td>\n",
       "    </tr>\n",
       "    <tr>\n",
       "      <th>3</th>\n",
       "      <td>4</td>\n",
       "      <td>Riau</td>\n",
       "      <td>3791</td>\n",
       "      <td>51378</td>\n",
       "      <td>773526</td>\n",
       "    </tr>\n",
       "    <tr>\n",
       "      <th>4</th>\n",
       "      <td>5</td>\n",
       "      <td>Jambi</td>\n",
       "      <td>2463</td>\n",
       "      <td>27161</td>\n",
       "      <td>368694</td>\n",
       "    </tr>\n",
       "    <tr>\n",
       "      <th>5</th>\n",
       "      <td>6</td>\n",
       "      <td>Sumatera Selatan</td>\n",
       "      <td>4696</td>\n",
       "      <td>59861</td>\n",
       "      <td>882534</td>\n",
       "    </tr>\n",
       "    <tr>\n",
       "      <th>6</th>\n",
       "      <td>7</td>\n",
       "      <td>Bengkulu</td>\n",
       "      <td>1398</td>\n",
       "      <td>16035</td>\n",
       "      <td>194381</td>\n",
       "    </tr>\n",
       "    <tr>\n",
       "      <th>7</th>\n",
       "      <td>8</td>\n",
       "      <td>Lampung</td>\n",
       "      <td>4732</td>\n",
       "      <td>57711</td>\n",
       "      <td>799619</td>\n",
       "    </tr>\n",
       "    <tr>\n",
       "      <th>8</th>\n",
       "      <td>9</td>\n",
       "      <td>Kepulauan Bangka Belitung</td>\n",
       "      <td>832</td>\n",
       "      <td>9678</td>\n",
       "      <td>162722</td>\n",
       "    </tr>\n",
       "    <tr>\n",
       "      <th>9</th>\n",
       "      <td>10</td>\n",
       "      <td>Kepulauan Riau</td>\n",
       "      <td>973</td>\n",
       "      <td>14033</td>\n",
       "      <td>225575</td>\n",
       "    </tr>\n",
       "    <tr>\n",
       "      <th>10</th>\n",
       "      <td>11</td>\n",
       "      <td>DKI Jakarta</td>\n",
       "      <td>2239</td>\n",
       "      <td>40344</td>\n",
       "      <td>765090</td>\n",
       "    </tr>\n",
       "    <tr>\n",
       "      <th>13</th>\n",
       "      <td>14</td>\n",
       "      <td>DI Yogyakarta</td>\n",
       "      <td>1848</td>\n",
       "      <td>20455</td>\n",
       "      <td>274438</td>\n",
       "    </tr>\n",
       "    <tr>\n",
       "      <th>15</th>\n",
       "      <td>16</td>\n",
       "      <td>Banten</td>\n",
       "      <td>4634</td>\n",
       "      <td>56887</td>\n",
       "      <td>1185883</td>\n",
       "    </tr>\n",
       "    <tr>\n",
       "      <th>16</th>\n",
       "      <td>17</td>\n",
       "      <td>Bali</td>\n",
       "      <td>2416</td>\n",
       "      <td>25719</td>\n",
       "      <td>382864</td>\n",
       "    </tr>\n",
       "    <tr>\n",
       "      <th>17</th>\n",
       "      <td>18</td>\n",
       "      <td>Nusa Tenggara Barat</td>\n",
       "      <td>3309</td>\n",
       "      <td>42159</td>\n",
       "      <td>509469</td>\n",
       "    </tr>\n",
       "    <tr>\n",
       "      <th>18</th>\n",
       "      <td>19</td>\n",
       "      <td>Nusa Tenggara Timur</td>\n",
       "      <td>5203</td>\n",
       "      <td>54285</td>\n",
       "      <td>669225</td>\n",
       "    </tr>\n",
       "    <tr>\n",
       "      <th>19</th>\n",
       "      <td>20</td>\n",
       "      <td>Kalimantan Barat</td>\n",
       "      <td>4438</td>\n",
       "      <td>39540</td>\n",
       "      <td>565648</td>\n",
       "    </tr>\n",
       "    <tr>\n",
       "      <th>20</th>\n",
       "      <td>21</td>\n",
       "      <td>Kalimantan Tengah</td>\n",
       "      <td>2648</td>\n",
       "      <td>25485</td>\n",
       "      <td>275040</td>\n",
       "    </tr>\n",
       "    <tr>\n",
       "      <th>21</th>\n",
       "      <td>22</td>\n",
       "      <td>Kalimantan Selatan</td>\n",
       "      <td>2915</td>\n",
       "      <td>30182</td>\n",
       "      <td>356919</td>\n",
       "    </tr>\n",
       "    <tr>\n",
       "      <th>22</th>\n",
       "      <td>23</td>\n",
       "      <td>Kalimantan Timur</td>\n",
       "      <td>1919</td>\n",
       "      <td>26112</td>\n",
       "      <td>412229</td>\n",
       "    </tr>\n",
       "    <tr>\n",
       "      <th>23</th>\n",
       "      <td>24</td>\n",
       "      <td>Kalimantan Utara</td>\n",
       "      <td>485</td>\n",
       "      <td>6095</td>\n",
       "      <td>78529</td>\n",
       "    </tr>\n",
       "    <tr>\n",
       "      <th>24</th>\n",
       "      <td>25</td>\n",
       "      <td>Sulawesi Utara</td>\n",
       "      <td>2203</td>\n",
       "      <td>18795</td>\n",
       "      <td>215237</td>\n",
       "    </tr>\n",
       "    <tr>\n",
       "      <th>25</th>\n",
       "      <td>26</td>\n",
       "      <td>Sulawesi Tengah</td>\n",
       "      <td>2926</td>\n",
       "      <td>27175</td>\n",
       "      <td>307722</td>\n",
       "    </tr>\n",
       "    <tr>\n",
       "      <th>26</th>\n",
       "      <td>27</td>\n",
       "      <td>Sulawesi Selatan</td>\n",
       "      <td>6438</td>\n",
       "      <td>70404</td>\n",
       "      <td>880177</td>\n",
       "    </tr>\n",
       "    <tr>\n",
       "      <th>27</th>\n",
       "      <td>28</td>\n",
       "      <td>Sulawesi Tenggara</td>\n",
       "      <td>2345</td>\n",
       "      <td>25567</td>\n",
       "      <td>291723</td>\n",
       "    </tr>\n",
       "    <tr>\n",
       "      <th>28</th>\n",
       "      <td>29</td>\n",
       "      <td>Gorontalo</td>\n",
       "      <td>928</td>\n",
       "      <td>8392</td>\n",
       "      <td>108142</td>\n",
       "    </tr>\n",
       "    <tr>\n",
       "      <th>29</th>\n",
       "      <td>30</td>\n",
       "      <td>Sulawesi Barat</td>\n",
       "      <td>1326</td>\n",
       "      <td>13755</td>\n",
       "      <td>143993</td>\n",
       "    </tr>\n",
       "    <tr>\n",
       "      <th>30</th>\n",
       "      <td>31</td>\n",
       "      <td>Maluku</td>\n",
       "      <td>1812</td>\n",
       "      <td>17969</td>\n",
       "      <td>207996</td>\n",
       "    </tr>\n",
       "    <tr>\n",
       "      <th>31</th>\n",
       "      <td>32</td>\n",
       "      <td>Maluku Utara</td>\n",
       "      <td>1315</td>\n",
       "      <td>12037</td>\n",
       "      <td>140564</td>\n",
       "    </tr>\n",
       "    <tr>\n",
       "      <th>32</th>\n",
       "      <td>33</td>\n",
       "      <td>Papua Barat</td>\n",
       "      <td>1104</td>\n",
       "      <td>9791</td>\n",
       "      <td>131171</td>\n",
       "    </tr>\n",
       "    <tr>\n",
       "      <th>33</th>\n",
       "      <td>34</td>\n",
       "      <td>Papua</td>\n",
       "      <td>2642</td>\n",
       "      <td>20227</td>\n",
       "      <td>472552</td>\n",
       "    </tr>\n",
       "  </tbody>\n",
       "</table>\n",
       "</div>"
      ],
      "text/plain": [
       "    No                   Provinsi  Sekolah   Guru    Murid\n",
       "0    1                       Aceh     3529  48541   486958\n",
       "2    3             Sumatera Barat     4260  46833   597218\n",
       "3    4                       Riau     3791  51378   773526\n",
       "4    5                      Jambi     2463  27161   368694\n",
       "5    6           Sumatera Selatan     4696  59861   882534\n",
       "6    7                   Bengkulu     1398  16035   194381\n",
       "7    8                    Lampung     4732  57711   799619\n",
       "8    9  Kepulauan Bangka Belitung      832   9678   162722\n",
       "9   10             Kepulauan Riau      973  14033   225575\n",
       "10  11                DKI Jakarta     2239  40344   765090\n",
       "13  14              DI Yogyakarta     1848  20455   274438\n",
       "15  16                     Banten     4634  56887  1185883\n",
       "16  17                       Bali     2416  25719   382864\n",
       "17  18        Nusa Tenggara Barat     3309  42159   509469\n",
       "18  19        Nusa Tenggara Timur     5203  54285   669225\n",
       "19  20           Kalimantan Barat     4438  39540   565648\n",
       "20  21          Kalimantan Tengah     2648  25485   275040\n",
       "21  22         Kalimantan Selatan     2915  30182   356919\n",
       "22  23           Kalimantan Timur     1919  26112   412229\n",
       "23  24           Kalimantan Utara      485   6095    78529\n",
       "24  25             Sulawesi Utara     2203  18795   215237\n",
       "25  26            Sulawesi Tengah     2926  27175   307722\n",
       "26  27           Sulawesi Selatan     6438  70404   880177\n",
       "27  28          Sulawesi Tenggara     2345  25567   291723\n",
       "28  29                  Gorontalo      928   8392   108142\n",
       "29  30             Sulawesi Barat     1326  13755   143993\n",
       "30  31                     Maluku     1812  17969   207996\n",
       "31  32               Maluku Utara     1315  12037   140564\n",
       "32  33                Papua Barat     1104   9791   131171\n",
       "33  34                      Papua     2642  20227   472552"
      ]
     },
     "execution_count": 265,
     "metadata": {},
     "output_type": "execute_result"
    }
   ],
   "source": [
    "#Menghapus Outlier\n",
    "df_clear = df[~((df < (Q1 - 1.5 * IQR)) |(df > (Q3 + 1.5 * IQR))).any(axis=1)]\n",
    "df_clear"
   ]
  },
  {
   "cell_type": "code",
   "execution_count": 266,
   "id": "a4222ebd",
   "metadata": {},
   "outputs": [
    {
     "name": "stdout",
     "output_type": "stream",
     "text": [
      "<class 'pandas.core.frame.DataFrame'>\n",
      "Int64Index: 30 entries, 0 to 33\n",
      "Data columns (total 5 columns):\n",
      " #   Column    Non-Null Count  Dtype \n",
      "---  ------    --------------  ----- \n",
      " 0   No        30 non-null     int64 \n",
      " 1   Provinsi  30 non-null     object\n",
      " 2   Sekolah   30 non-null     int64 \n",
      " 3   Guru      30 non-null     int64 \n",
      " 4   Murid     30 non-null     int64 \n",
      "dtypes: int64(4), object(1)\n",
      "memory usage: 1.4+ KB\n"
     ]
    }
   ],
   "source": [
    "df_clear.info()"
   ]
  },
  {
   "cell_type": "code",
   "execution_count": 267,
   "id": "c6890728",
   "metadata": {},
   "outputs": [],
   "source": [
    "#Outlier"
   ]
  },
  {
   "cell_type": "code",
   "execution_count": 268,
   "id": "dc50faa1",
   "metadata": {},
   "outputs": [
    {
     "data": {
      "text/html": [
       "<div>\n",
       "<style scoped>\n",
       "    .dataframe tbody tr th:only-of-type {\n",
       "        vertical-align: middle;\n",
       "    }\n",
       "\n",
       "    .dataframe tbody tr th {\n",
       "        vertical-align: top;\n",
       "    }\n",
       "\n",
       "    .dataframe thead th {\n",
       "        text-align: right;\n",
       "    }\n",
       "</style>\n",
       "<table border=\"1\" class=\"dataframe\">\n",
       "  <thead>\n",
       "    <tr style=\"text-align: right;\">\n",
       "      <th></th>\n",
       "      <th>No</th>\n",
       "      <th>Provinsi</th>\n",
       "      <th>Sekolah</th>\n",
       "      <th>Guru</th>\n",
       "      <th>Murid</th>\n",
       "    </tr>\n",
       "  </thead>\n",
       "  <tbody>\n",
       "    <tr>\n",
       "      <th>1</th>\n",
       "      <td>2</td>\n",
       "      <td>Sumatera Utara</td>\n",
       "      <td>9782</td>\n",
       "      <td>109585</td>\n",
       "      <td>1548652</td>\n",
       "    </tr>\n",
       "    <tr>\n",
       "      <th>11</th>\n",
       "      <td>12</td>\n",
       "      <td>Jawa Barat</td>\n",
       "      <td>19659</td>\n",
       "      <td>212849</td>\n",
       "      <td>4450934</td>\n",
       "    </tr>\n",
       "    <tr>\n",
       "      <th>12</th>\n",
       "      <td>13</td>\n",
       "      <td>Jawa Tengah</td>\n",
       "      <td>18760</td>\n",
       "      <td>173671</td>\n",
       "      <td>2631174</td>\n",
       "    </tr>\n",
       "    <tr>\n",
       "      <th>14</th>\n",
       "      <td>15</td>\n",
       "      <td>Jawa Timur</td>\n",
       "      <td>19007</td>\n",
       "      <td>186798</td>\n",
       "      <td>2579913</td>\n",
       "    </tr>\n",
       "  </tbody>\n",
       "</table>\n",
       "</div>"
      ],
      "text/plain": [
       "    No        Provinsi  Sekolah    Guru    Murid\n",
       "1    2  Sumatera Utara     9782  109585  1548652\n",
       "11  12      Jawa Barat    19659  212849  4450934\n",
       "12  13     Jawa Tengah    18760  173671  2631174\n",
       "14  15      Jawa Timur    19007  186798  2579913"
      ]
     },
     "execution_count": 268,
     "metadata": {},
     "output_type": "execute_result"
    }
   ],
   "source": [
    "df_outlier = df.iloc[[1,11,12,14]]\n",
    "df_outlier"
   ]
  },
  {
   "cell_type": "code",
   "execution_count": 269,
   "id": "bd25c333",
   "metadata": {},
   "outputs": [
    {
     "data": {
      "application/vnd.plotly.v1+json": {
       "config": {
        "plotlyServerURL": "https://plot.ly"
       },
       "data": [
        {
         "hovertemplate": "Provinsi=Aceh<br>Guru=%{x}<br>Murid=%{y}<br>Sekolah=%{z}<extra></extra>",
         "legendgroup": "Aceh",
         "marker": {
          "color": "#636efa",
          "symbol": "circle"
         },
         "mode": "markers",
         "name": "Aceh",
         "scene": "scene",
         "showlegend": true,
         "type": "scatter3d",
         "x": [
          48541
         ],
         "y": [
          486958
         ],
         "z": [
          3529
         ]
        },
        {
         "hovertemplate": "Provinsi=Sumatera Utara<br>Guru=%{x}<br>Murid=%{y}<br>Sekolah=%{z}<extra></extra>",
         "legendgroup": "Sumatera Utara",
         "marker": {
          "color": "#EF553B",
          "symbol": "circle"
         },
         "mode": "markers",
         "name": "Sumatera Utara",
         "scene": "scene",
         "showlegend": true,
         "type": "scatter3d",
         "x": [
          109585
         ],
         "y": [
          1548652
         ],
         "z": [
          9782
         ]
        },
        {
         "hovertemplate": "Provinsi=Sumatera Barat<br>Guru=%{x}<br>Murid=%{y}<br>Sekolah=%{z}<extra></extra>",
         "legendgroup": "Sumatera Barat",
         "marker": {
          "color": "#00cc96",
          "symbol": "circle"
         },
         "mode": "markers",
         "name": "Sumatera Barat",
         "scene": "scene",
         "showlegend": true,
         "type": "scatter3d",
         "x": [
          46833
         ],
         "y": [
          597218
         ],
         "z": [
          4260
         ]
        },
        {
         "hovertemplate": "Provinsi=Riau<br>Guru=%{x}<br>Murid=%{y}<br>Sekolah=%{z}<extra></extra>",
         "legendgroup": "Riau",
         "marker": {
          "color": "#ab63fa",
          "symbol": "circle"
         },
         "mode": "markers",
         "name": "Riau",
         "scene": "scene",
         "showlegend": true,
         "type": "scatter3d",
         "x": [
          51378
         ],
         "y": [
          773526
         ],
         "z": [
          3791
         ]
        },
        {
         "hovertemplate": "Provinsi=Jambi<br>Guru=%{x}<br>Murid=%{y}<br>Sekolah=%{z}<extra></extra>",
         "legendgroup": "Jambi",
         "marker": {
          "color": "#FFA15A",
          "symbol": "circle"
         },
         "mode": "markers",
         "name": "Jambi",
         "scene": "scene",
         "showlegend": true,
         "type": "scatter3d",
         "x": [
          27161
         ],
         "y": [
          368694
         ],
         "z": [
          2463
         ]
        },
        {
         "hovertemplate": "Provinsi=Sumatera Selatan<br>Guru=%{x}<br>Murid=%{y}<br>Sekolah=%{z}<extra></extra>",
         "legendgroup": "Sumatera Selatan",
         "marker": {
          "color": "#19d3f3",
          "symbol": "circle"
         },
         "mode": "markers",
         "name": "Sumatera Selatan",
         "scene": "scene",
         "showlegend": true,
         "type": "scatter3d",
         "x": [
          59861
         ],
         "y": [
          882534
         ],
         "z": [
          4696
         ]
        },
        {
         "hovertemplate": "Provinsi=Bengkulu<br>Guru=%{x}<br>Murid=%{y}<br>Sekolah=%{z}<extra></extra>",
         "legendgroup": "Bengkulu",
         "marker": {
          "color": "#FF6692",
          "symbol": "circle"
         },
         "mode": "markers",
         "name": "Bengkulu",
         "scene": "scene",
         "showlegend": true,
         "type": "scatter3d",
         "x": [
          16035
         ],
         "y": [
          194381
         ],
         "z": [
          1398
         ]
        },
        {
         "hovertemplate": "Provinsi=Lampung<br>Guru=%{x}<br>Murid=%{y}<br>Sekolah=%{z}<extra></extra>",
         "legendgroup": "Lampung",
         "marker": {
          "color": "#B6E880",
          "symbol": "circle"
         },
         "mode": "markers",
         "name": "Lampung",
         "scene": "scene",
         "showlegend": true,
         "type": "scatter3d",
         "x": [
          57711
         ],
         "y": [
          799619
         ],
         "z": [
          4732
         ]
        },
        {
         "hovertemplate": "Provinsi=Kepulauan Bangka Belitung<br>Guru=%{x}<br>Murid=%{y}<br>Sekolah=%{z}<extra></extra>",
         "legendgroup": "Kepulauan Bangka Belitung",
         "marker": {
          "color": "#FF97FF",
          "symbol": "circle"
         },
         "mode": "markers",
         "name": "Kepulauan Bangka Belitung",
         "scene": "scene",
         "showlegend": true,
         "type": "scatter3d",
         "x": [
          9678
         ],
         "y": [
          162722
         ],
         "z": [
          832
         ]
        },
        {
         "hovertemplate": "Provinsi=Kepulauan Riau<br>Guru=%{x}<br>Murid=%{y}<br>Sekolah=%{z}<extra></extra>",
         "legendgroup": "Kepulauan Riau",
         "marker": {
          "color": "#FECB52",
          "symbol": "circle"
         },
         "mode": "markers",
         "name": "Kepulauan Riau",
         "scene": "scene",
         "showlegend": true,
         "type": "scatter3d",
         "x": [
          14033
         ],
         "y": [
          225575
         ],
         "z": [
          973
         ]
        },
        {
         "hovertemplate": "Provinsi=DKI Jakarta<br>Guru=%{x}<br>Murid=%{y}<br>Sekolah=%{z}<extra></extra>",
         "legendgroup": "DKI Jakarta",
         "marker": {
          "color": "#636efa",
          "symbol": "circle"
         },
         "mode": "markers",
         "name": "DKI Jakarta",
         "scene": "scene",
         "showlegend": true,
         "type": "scatter3d",
         "x": [
          40344
         ],
         "y": [
          765090
         ],
         "z": [
          2239
         ]
        },
        {
         "hovertemplate": "Provinsi=Jawa Barat<br>Guru=%{x}<br>Murid=%{y}<br>Sekolah=%{z}<extra></extra>",
         "legendgroup": "Jawa Barat",
         "marker": {
          "color": "#EF553B",
          "symbol": "circle"
         },
         "mode": "markers",
         "name": "Jawa Barat",
         "scene": "scene",
         "showlegend": true,
         "type": "scatter3d",
         "x": [
          212849
         ],
         "y": [
          4450934
         ],
         "z": [
          19659
         ]
        },
        {
         "hovertemplate": "Provinsi=Jawa Tengah<br>Guru=%{x}<br>Murid=%{y}<br>Sekolah=%{z}<extra></extra>",
         "legendgroup": "Jawa Tengah",
         "marker": {
          "color": "#00cc96",
          "symbol": "circle"
         },
         "mode": "markers",
         "name": "Jawa Tengah",
         "scene": "scene",
         "showlegend": true,
         "type": "scatter3d",
         "x": [
          173671
         ],
         "y": [
          2631174
         ],
         "z": [
          18760
         ]
        },
        {
         "hovertemplate": "Provinsi=DI Yogyakarta<br>Guru=%{x}<br>Murid=%{y}<br>Sekolah=%{z}<extra></extra>",
         "legendgroup": "DI Yogyakarta",
         "marker": {
          "color": "#ab63fa",
          "symbol": "circle"
         },
         "mode": "markers",
         "name": "DI Yogyakarta",
         "scene": "scene",
         "showlegend": true,
         "type": "scatter3d",
         "x": [
          20455
         ],
         "y": [
          274438
         ],
         "z": [
          1848
         ]
        },
        {
         "hovertemplate": "Provinsi=Jawa Timur<br>Guru=%{x}<br>Murid=%{y}<br>Sekolah=%{z}<extra></extra>",
         "legendgroup": "Jawa Timur",
         "marker": {
          "color": "#FFA15A",
          "symbol": "circle"
         },
         "mode": "markers",
         "name": "Jawa Timur",
         "scene": "scene",
         "showlegend": true,
         "type": "scatter3d",
         "x": [
          186798
         ],
         "y": [
          2579913
         ],
         "z": [
          19007
         ]
        },
        {
         "hovertemplate": "Provinsi=Banten<br>Guru=%{x}<br>Murid=%{y}<br>Sekolah=%{z}<extra></extra>",
         "legendgroup": "Banten",
         "marker": {
          "color": "#19d3f3",
          "symbol": "circle"
         },
         "mode": "markers",
         "name": "Banten",
         "scene": "scene",
         "showlegend": true,
         "type": "scatter3d",
         "x": [
          56887
         ],
         "y": [
          1185883
         ],
         "z": [
          4634
         ]
        },
        {
         "hovertemplate": "Provinsi=Bali<br>Guru=%{x}<br>Murid=%{y}<br>Sekolah=%{z}<extra></extra>",
         "legendgroup": "Bali",
         "marker": {
          "color": "#FF6692",
          "symbol": "circle"
         },
         "mode": "markers",
         "name": "Bali",
         "scene": "scene",
         "showlegend": true,
         "type": "scatter3d",
         "x": [
          25719
         ],
         "y": [
          382864
         ],
         "z": [
          2416
         ]
        },
        {
         "hovertemplate": "Provinsi=Nusa Tenggara Barat<br>Guru=%{x}<br>Murid=%{y}<br>Sekolah=%{z}<extra></extra>",
         "legendgroup": "Nusa Tenggara Barat",
         "marker": {
          "color": "#B6E880",
          "symbol": "circle"
         },
         "mode": "markers",
         "name": "Nusa Tenggara Barat",
         "scene": "scene",
         "showlegend": true,
         "type": "scatter3d",
         "x": [
          42159
         ],
         "y": [
          509469
         ],
         "z": [
          3309
         ]
        },
        {
         "hovertemplate": "Provinsi=Nusa Tenggara Timur<br>Guru=%{x}<br>Murid=%{y}<br>Sekolah=%{z}<extra></extra>",
         "legendgroup": "Nusa Tenggara Timur",
         "marker": {
          "color": "#FF97FF",
          "symbol": "circle"
         },
         "mode": "markers",
         "name": "Nusa Tenggara Timur",
         "scene": "scene",
         "showlegend": true,
         "type": "scatter3d",
         "x": [
          54285
         ],
         "y": [
          669225
         ],
         "z": [
          5203
         ]
        },
        {
         "hovertemplate": "Provinsi=Kalimantan Barat<br>Guru=%{x}<br>Murid=%{y}<br>Sekolah=%{z}<extra></extra>",
         "legendgroup": "Kalimantan Barat",
         "marker": {
          "color": "#FECB52",
          "symbol": "circle"
         },
         "mode": "markers",
         "name": "Kalimantan Barat",
         "scene": "scene",
         "showlegend": true,
         "type": "scatter3d",
         "x": [
          39540
         ],
         "y": [
          565648
         ],
         "z": [
          4438
         ]
        },
        {
         "hovertemplate": "Provinsi=Kalimantan Tengah<br>Guru=%{x}<br>Murid=%{y}<br>Sekolah=%{z}<extra></extra>",
         "legendgroup": "Kalimantan Tengah",
         "marker": {
          "color": "#636efa",
          "symbol": "circle"
         },
         "mode": "markers",
         "name": "Kalimantan Tengah",
         "scene": "scene",
         "showlegend": true,
         "type": "scatter3d",
         "x": [
          25485
         ],
         "y": [
          275040
         ],
         "z": [
          2648
         ]
        },
        {
         "hovertemplate": "Provinsi=Kalimantan Selatan<br>Guru=%{x}<br>Murid=%{y}<br>Sekolah=%{z}<extra></extra>",
         "legendgroup": "Kalimantan Selatan",
         "marker": {
          "color": "#EF553B",
          "symbol": "circle"
         },
         "mode": "markers",
         "name": "Kalimantan Selatan",
         "scene": "scene",
         "showlegend": true,
         "type": "scatter3d",
         "x": [
          30182
         ],
         "y": [
          356919
         ],
         "z": [
          2915
         ]
        },
        {
         "hovertemplate": "Provinsi=Kalimantan Timur<br>Guru=%{x}<br>Murid=%{y}<br>Sekolah=%{z}<extra></extra>",
         "legendgroup": "Kalimantan Timur",
         "marker": {
          "color": "#00cc96",
          "symbol": "circle"
         },
         "mode": "markers",
         "name": "Kalimantan Timur",
         "scene": "scene",
         "showlegend": true,
         "type": "scatter3d",
         "x": [
          26112
         ],
         "y": [
          412229
         ],
         "z": [
          1919
         ]
        },
        {
         "hovertemplate": "Provinsi=Kalimantan Utara<br>Guru=%{x}<br>Murid=%{y}<br>Sekolah=%{z}<extra></extra>",
         "legendgroup": "Kalimantan Utara",
         "marker": {
          "color": "#ab63fa",
          "symbol": "circle"
         },
         "mode": "markers",
         "name": "Kalimantan Utara",
         "scene": "scene",
         "showlegend": true,
         "type": "scatter3d",
         "x": [
          6095
         ],
         "y": [
          78529
         ],
         "z": [
          485
         ]
        },
        {
         "hovertemplate": "Provinsi=Sulawesi Utara<br>Guru=%{x}<br>Murid=%{y}<br>Sekolah=%{z}<extra></extra>",
         "legendgroup": "Sulawesi Utara",
         "marker": {
          "color": "#FFA15A",
          "symbol": "circle"
         },
         "mode": "markers",
         "name": "Sulawesi Utara",
         "scene": "scene",
         "showlegend": true,
         "type": "scatter3d",
         "x": [
          18795
         ],
         "y": [
          215237
         ],
         "z": [
          2203
         ]
        },
        {
         "hovertemplate": "Provinsi=Sulawesi Tengah<br>Guru=%{x}<br>Murid=%{y}<br>Sekolah=%{z}<extra></extra>",
         "legendgroup": "Sulawesi Tengah",
         "marker": {
          "color": "#19d3f3",
          "symbol": "circle"
         },
         "mode": "markers",
         "name": "Sulawesi Tengah",
         "scene": "scene",
         "showlegend": true,
         "type": "scatter3d",
         "x": [
          27175
         ],
         "y": [
          307722
         ],
         "z": [
          2926
         ]
        },
        {
         "hovertemplate": "Provinsi=Sulawesi Selatan<br>Guru=%{x}<br>Murid=%{y}<br>Sekolah=%{z}<extra></extra>",
         "legendgroup": "Sulawesi Selatan",
         "marker": {
          "color": "#FF6692",
          "symbol": "circle"
         },
         "mode": "markers",
         "name": "Sulawesi Selatan",
         "scene": "scene",
         "showlegend": true,
         "type": "scatter3d",
         "x": [
          70404
         ],
         "y": [
          880177
         ],
         "z": [
          6438
         ]
        },
        {
         "hovertemplate": "Provinsi=Sulawesi Tenggara<br>Guru=%{x}<br>Murid=%{y}<br>Sekolah=%{z}<extra></extra>",
         "legendgroup": "Sulawesi Tenggara",
         "marker": {
          "color": "#B6E880",
          "symbol": "circle"
         },
         "mode": "markers",
         "name": "Sulawesi Tenggara",
         "scene": "scene",
         "showlegend": true,
         "type": "scatter3d",
         "x": [
          25567
         ],
         "y": [
          291723
         ],
         "z": [
          2345
         ]
        },
        {
         "hovertemplate": "Provinsi=Gorontalo<br>Guru=%{x}<br>Murid=%{y}<br>Sekolah=%{z}<extra></extra>",
         "legendgroup": "Gorontalo",
         "marker": {
          "color": "#FF97FF",
          "symbol": "circle"
         },
         "mode": "markers",
         "name": "Gorontalo",
         "scene": "scene",
         "showlegend": true,
         "type": "scatter3d",
         "x": [
          8392
         ],
         "y": [
          108142
         ],
         "z": [
          928
         ]
        },
        {
         "hovertemplate": "Provinsi=Sulawesi Barat<br>Guru=%{x}<br>Murid=%{y}<br>Sekolah=%{z}<extra></extra>",
         "legendgroup": "Sulawesi Barat",
         "marker": {
          "color": "#FECB52",
          "symbol": "circle"
         },
         "mode": "markers",
         "name": "Sulawesi Barat",
         "scene": "scene",
         "showlegend": true,
         "type": "scatter3d",
         "x": [
          13755
         ],
         "y": [
          143993
         ],
         "z": [
          1326
         ]
        },
        {
         "hovertemplate": "Provinsi=Maluku<br>Guru=%{x}<br>Murid=%{y}<br>Sekolah=%{z}<extra></extra>",
         "legendgroup": "Maluku",
         "marker": {
          "color": "#636efa",
          "symbol": "circle"
         },
         "mode": "markers",
         "name": "Maluku",
         "scene": "scene",
         "showlegend": true,
         "type": "scatter3d",
         "x": [
          17969
         ],
         "y": [
          207996
         ],
         "z": [
          1812
         ]
        },
        {
         "hovertemplate": "Provinsi=Maluku Utara<br>Guru=%{x}<br>Murid=%{y}<br>Sekolah=%{z}<extra></extra>",
         "legendgroup": "Maluku Utara",
         "marker": {
          "color": "#EF553B",
          "symbol": "circle"
         },
         "mode": "markers",
         "name": "Maluku Utara",
         "scene": "scene",
         "showlegend": true,
         "type": "scatter3d",
         "x": [
          12037
         ],
         "y": [
          140564
         ],
         "z": [
          1315
         ]
        },
        {
         "hovertemplate": "Provinsi=Papua Barat<br>Guru=%{x}<br>Murid=%{y}<br>Sekolah=%{z}<extra></extra>",
         "legendgroup": "Papua Barat",
         "marker": {
          "color": "#00cc96",
          "symbol": "circle"
         },
         "mode": "markers",
         "name": "Papua Barat",
         "scene": "scene",
         "showlegend": true,
         "type": "scatter3d",
         "x": [
          9791
         ],
         "y": [
          131171
         ],
         "z": [
          1104
         ]
        },
        {
         "hovertemplate": "Provinsi=Papua<br>Guru=%{x}<br>Murid=%{y}<br>Sekolah=%{z}<extra></extra>",
         "legendgroup": "Papua",
         "marker": {
          "color": "#ab63fa",
          "symbol": "circle"
         },
         "mode": "markers",
         "name": "Papua",
         "scene": "scene",
         "showlegend": true,
         "type": "scatter3d",
         "x": [
          20227
         ],
         "y": [
          472552
         ],
         "z": [
          2642
         ]
        }
       ],
       "layout": {
        "legend": {
         "title": {
          "text": "Provinsi"
         },
         "tracegroupgap": 0
        },
        "scene": {
         "domain": {
          "x": [
           0,
           1
          ],
          "y": [
           0,
           1
          ]
         },
         "xaxis": {
          "title": {
           "text": "Guru"
          }
         },
         "yaxis": {
          "title": {
           "text": "Murid"
          }
         },
         "zaxis": {
          "title": {
           "text": "Sekolah"
          }
         }
        },
        "showlegend": true,
        "template": {
         "data": {
          "bar": [
           {
            "error_x": {
             "color": "#2a3f5f"
            },
            "error_y": {
             "color": "#2a3f5f"
            },
            "marker": {
             "line": {
              "color": "#E5ECF6",
              "width": 0.5
             },
             "pattern": {
              "fillmode": "overlay",
              "size": 10,
              "solidity": 0.2
             }
            },
            "type": "bar"
           }
          ],
          "barpolar": [
           {
            "marker": {
             "line": {
              "color": "#E5ECF6",
              "width": 0.5
             },
             "pattern": {
              "fillmode": "overlay",
              "size": 10,
              "solidity": 0.2
             }
            },
            "type": "barpolar"
           }
          ],
          "carpet": [
           {
            "aaxis": {
             "endlinecolor": "#2a3f5f",
             "gridcolor": "white",
             "linecolor": "white",
             "minorgridcolor": "white",
             "startlinecolor": "#2a3f5f"
            },
            "baxis": {
             "endlinecolor": "#2a3f5f",
             "gridcolor": "white",
             "linecolor": "white",
             "minorgridcolor": "white",
             "startlinecolor": "#2a3f5f"
            },
            "type": "carpet"
           }
          ],
          "choropleth": [
           {
            "colorbar": {
             "outlinewidth": 0,
             "ticks": ""
            },
            "type": "choropleth"
           }
          ],
          "contour": [
           {
            "colorbar": {
             "outlinewidth": 0,
             "ticks": ""
            },
            "colorscale": [
             [
              0,
              "#0d0887"
             ],
             [
              0.1111111111111111,
              "#46039f"
             ],
             [
              0.2222222222222222,
              "#7201a8"
             ],
             [
              0.3333333333333333,
              "#9c179e"
             ],
             [
              0.4444444444444444,
              "#bd3786"
             ],
             [
              0.5555555555555556,
              "#d8576b"
             ],
             [
              0.6666666666666666,
              "#ed7953"
             ],
             [
              0.7777777777777778,
              "#fb9f3a"
             ],
             [
              0.8888888888888888,
              "#fdca26"
             ],
             [
              1,
              "#f0f921"
             ]
            ],
            "type": "contour"
           }
          ],
          "contourcarpet": [
           {
            "colorbar": {
             "outlinewidth": 0,
             "ticks": ""
            },
            "type": "contourcarpet"
           }
          ],
          "heatmap": [
           {
            "colorbar": {
             "outlinewidth": 0,
             "ticks": ""
            },
            "colorscale": [
             [
              0,
              "#0d0887"
             ],
             [
              0.1111111111111111,
              "#46039f"
             ],
             [
              0.2222222222222222,
              "#7201a8"
             ],
             [
              0.3333333333333333,
              "#9c179e"
             ],
             [
              0.4444444444444444,
              "#bd3786"
             ],
             [
              0.5555555555555556,
              "#d8576b"
             ],
             [
              0.6666666666666666,
              "#ed7953"
             ],
             [
              0.7777777777777778,
              "#fb9f3a"
             ],
             [
              0.8888888888888888,
              "#fdca26"
             ],
             [
              1,
              "#f0f921"
             ]
            ],
            "type": "heatmap"
           }
          ],
          "heatmapgl": [
           {
            "colorbar": {
             "outlinewidth": 0,
             "ticks": ""
            },
            "colorscale": [
             [
              0,
              "#0d0887"
             ],
             [
              0.1111111111111111,
              "#46039f"
             ],
             [
              0.2222222222222222,
              "#7201a8"
             ],
             [
              0.3333333333333333,
              "#9c179e"
             ],
             [
              0.4444444444444444,
              "#bd3786"
             ],
             [
              0.5555555555555556,
              "#d8576b"
             ],
             [
              0.6666666666666666,
              "#ed7953"
             ],
             [
              0.7777777777777778,
              "#fb9f3a"
             ],
             [
              0.8888888888888888,
              "#fdca26"
             ],
             [
              1,
              "#f0f921"
             ]
            ],
            "type": "heatmapgl"
           }
          ],
          "histogram": [
           {
            "marker": {
             "pattern": {
              "fillmode": "overlay",
              "size": 10,
              "solidity": 0.2
             }
            },
            "type": "histogram"
           }
          ],
          "histogram2d": [
           {
            "colorbar": {
             "outlinewidth": 0,
             "ticks": ""
            },
            "colorscale": [
             [
              0,
              "#0d0887"
             ],
             [
              0.1111111111111111,
              "#46039f"
             ],
             [
              0.2222222222222222,
              "#7201a8"
             ],
             [
              0.3333333333333333,
              "#9c179e"
             ],
             [
              0.4444444444444444,
              "#bd3786"
             ],
             [
              0.5555555555555556,
              "#d8576b"
             ],
             [
              0.6666666666666666,
              "#ed7953"
             ],
             [
              0.7777777777777778,
              "#fb9f3a"
             ],
             [
              0.8888888888888888,
              "#fdca26"
             ],
             [
              1,
              "#f0f921"
             ]
            ],
            "type": "histogram2d"
           }
          ],
          "histogram2dcontour": [
           {
            "colorbar": {
             "outlinewidth": 0,
             "ticks": ""
            },
            "colorscale": [
             [
              0,
              "#0d0887"
             ],
             [
              0.1111111111111111,
              "#46039f"
             ],
             [
              0.2222222222222222,
              "#7201a8"
             ],
             [
              0.3333333333333333,
              "#9c179e"
             ],
             [
              0.4444444444444444,
              "#bd3786"
             ],
             [
              0.5555555555555556,
              "#d8576b"
             ],
             [
              0.6666666666666666,
              "#ed7953"
             ],
             [
              0.7777777777777778,
              "#fb9f3a"
             ],
             [
              0.8888888888888888,
              "#fdca26"
             ],
             [
              1,
              "#f0f921"
             ]
            ],
            "type": "histogram2dcontour"
           }
          ],
          "mesh3d": [
           {
            "colorbar": {
             "outlinewidth": 0,
             "ticks": ""
            },
            "type": "mesh3d"
           }
          ],
          "parcoords": [
           {
            "line": {
             "colorbar": {
              "outlinewidth": 0,
              "ticks": ""
             }
            },
            "type": "parcoords"
           }
          ],
          "pie": [
           {
            "automargin": true,
            "type": "pie"
           }
          ],
          "scatter": [
           {
            "fillpattern": {
             "fillmode": "overlay",
             "size": 10,
             "solidity": 0.2
            },
            "type": "scatter"
           }
          ],
          "scatter3d": [
           {
            "line": {
             "colorbar": {
              "outlinewidth": 0,
              "ticks": ""
             }
            },
            "marker": {
             "colorbar": {
              "outlinewidth": 0,
              "ticks": ""
             }
            },
            "type": "scatter3d"
           }
          ],
          "scattercarpet": [
           {
            "marker": {
             "colorbar": {
              "outlinewidth": 0,
              "ticks": ""
             }
            },
            "type": "scattercarpet"
           }
          ],
          "scattergeo": [
           {
            "marker": {
             "colorbar": {
              "outlinewidth": 0,
              "ticks": ""
             }
            },
            "type": "scattergeo"
           }
          ],
          "scattergl": [
           {
            "marker": {
             "colorbar": {
              "outlinewidth": 0,
              "ticks": ""
             }
            },
            "type": "scattergl"
           }
          ],
          "scattermapbox": [
           {
            "marker": {
             "colorbar": {
              "outlinewidth": 0,
              "ticks": ""
             }
            },
            "type": "scattermapbox"
           }
          ],
          "scatterpolar": [
           {
            "marker": {
             "colorbar": {
              "outlinewidth": 0,
              "ticks": ""
             }
            },
            "type": "scatterpolar"
           }
          ],
          "scatterpolargl": [
           {
            "marker": {
             "colorbar": {
              "outlinewidth": 0,
              "ticks": ""
             }
            },
            "type": "scatterpolargl"
           }
          ],
          "scatterternary": [
           {
            "marker": {
             "colorbar": {
              "outlinewidth": 0,
              "ticks": ""
             }
            },
            "type": "scatterternary"
           }
          ],
          "surface": [
           {
            "colorbar": {
             "outlinewidth": 0,
             "ticks": ""
            },
            "colorscale": [
             [
              0,
              "#0d0887"
             ],
             [
              0.1111111111111111,
              "#46039f"
             ],
             [
              0.2222222222222222,
              "#7201a8"
             ],
             [
              0.3333333333333333,
              "#9c179e"
             ],
             [
              0.4444444444444444,
              "#bd3786"
             ],
             [
              0.5555555555555556,
              "#d8576b"
             ],
             [
              0.6666666666666666,
              "#ed7953"
             ],
             [
              0.7777777777777778,
              "#fb9f3a"
             ],
             [
              0.8888888888888888,
              "#fdca26"
             ],
             [
              1,
              "#f0f921"
             ]
            ],
            "type": "surface"
           }
          ],
          "table": [
           {
            "cells": {
             "fill": {
              "color": "#EBF0F8"
             },
             "line": {
              "color": "white"
             }
            },
            "header": {
             "fill": {
              "color": "#C8D4E3"
             },
             "line": {
              "color": "white"
             }
            },
            "type": "table"
           }
          ]
         },
         "layout": {
          "annotationdefaults": {
           "arrowcolor": "#2a3f5f",
           "arrowhead": 0,
           "arrowwidth": 1
          },
          "autotypenumbers": "strict",
          "coloraxis": {
           "colorbar": {
            "outlinewidth": 0,
            "ticks": ""
           }
          },
          "colorscale": {
           "diverging": [
            [
             0,
             "#8e0152"
            ],
            [
             0.1,
             "#c51b7d"
            ],
            [
             0.2,
             "#de77ae"
            ],
            [
             0.3,
             "#f1b6da"
            ],
            [
             0.4,
             "#fde0ef"
            ],
            [
             0.5,
             "#f7f7f7"
            ],
            [
             0.6,
             "#e6f5d0"
            ],
            [
             0.7,
             "#b8e186"
            ],
            [
             0.8,
             "#7fbc41"
            ],
            [
             0.9,
             "#4d9221"
            ],
            [
             1,
             "#276419"
            ]
           ],
           "sequential": [
            [
             0,
             "#0d0887"
            ],
            [
             0.1111111111111111,
             "#46039f"
            ],
            [
             0.2222222222222222,
             "#7201a8"
            ],
            [
             0.3333333333333333,
             "#9c179e"
            ],
            [
             0.4444444444444444,
             "#bd3786"
            ],
            [
             0.5555555555555556,
             "#d8576b"
            ],
            [
             0.6666666666666666,
             "#ed7953"
            ],
            [
             0.7777777777777778,
             "#fb9f3a"
            ],
            [
             0.8888888888888888,
             "#fdca26"
            ],
            [
             1,
             "#f0f921"
            ]
           ],
           "sequentialminus": [
            [
             0,
             "#0d0887"
            ],
            [
             0.1111111111111111,
             "#46039f"
            ],
            [
             0.2222222222222222,
             "#7201a8"
            ],
            [
             0.3333333333333333,
             "#9c179e"
            ],
            [
             0.4444444444444444,
             "#bd3786"
            ],
            [
             0.5555555555555556,
             "#d8576b"
            ],
            [
             0.6666666666666666,
             "#ed7953"
            ],
            [
             0.7777777777777778,
             "#fb9f3a"
            ],
            [
             0.8888888888888888,
             "#fdca26"
            ],
            [
             1,
             "#f0f921"
            ]
           ]
          },
          "colorway": [
           "#636efa",
           "#EF553B",
           "#00cc96",
           "#ab63fa",
           "#FFA15A",
           "#19d3f3",
           "#FF6692",
           "#B6E880",
           "#FF97FF",
           "#FECB52"
          ],
          "font": {
           "color": "#2a3f5f"
          },
          "geo": {
           "bgcolor": "white",
           "lakecolor": "white",
           "landcolor": "#E5ECF6",
           "showlakes": true,
           "showland": true,
           "subunitcolor": "white"
          },
          "hoverlabel": {
           "align": "left"
          },
          "hovermode": "closest",
          "mapbox": {
           "style": "light"
          },
          "paper_bgcolor": "white",
          "plot_bgcolor": "#E5ECF6",
          "polar": {
           "angularaxis": {
            "gridcolor": "white",
            "linecolor": "white",
            "ticks": ""
           },
           "bgcolor": "#E5ECF6",
           "radialaxis": {
            "gridcolor": "white",
            "linecolor": "white",
            "ticks": ""
           }
          },
          "scene": {
           "xaxis": {
            "backgroundcolor": "#E5ECF6",
            "gridcolor": "white",
            "gridwidth": 2,
            "linecolor": "white",
            "showbackground": true,
            "ticks": "",
            "zerolinecolor": "white"
           },
           "yaxis": {
            "backgroundcolor": "#E5ECF6",
            "gridcolor": "white",
            "gridwidth": 2,
            "linecolor": "white",
            "showbackground": true,
            "ticks": "",
            "zerolinecolor": "white"
           },
           "zaxis": {
            "backgroundcolor": "#E5ECF6",
            "gridcolor": "white",
            "gridwidth": 2,
            "linecolor": "white",
            "showbackground": true,
            "ticks": "",
            "zerolinecolor": "white"
           }
          },
          "shapedefaults": {
           "line": {
            "color": "#2a3f5f"
           }
          },
          "ternary": {
           "aaxis": {
            "gridcolor": "white",
            "linecolor": "white",
            "ticks": ""
           },
           "baxis": {
            "gridcolor": "white",
            "linecolor": "white",
            "ticks": ""
           },
           "bgcolor": "#E5ECF6",
           "caxis": {
            "gridcolor": "white",
            "linecolor": "white",
            "ticks": ""
           }
          },
          "title": {
           "x": 0.05
          },
          "xaxis": {
           "automargin": true,
           "gridcolor": "white",
           "linecolor": "white",
           "ticks": "",
           "title": {
            "standoff": 15
           },
           "zerolinecolor": "white",
           "zerolinewidth": 2
          },
          "yaxis": {
           "automargin": true,
           "gridcolor": "white",
           "linecolor": "white",
           "ticks": "",
           "title": {
            "standoff": 15
           },
           "zerolinecolor": "white",
           "zerolinewidth": 2
          }
         }
        },
        "title": {
         "text": "Sebaran Provinsi Berdasarkan Data Sekolah Dasar"
        }
       }
      },
      "text/html": [
       "<div>                            <div id=\"e6727a4e-23dc-4725-abfb-56cd28a608af\" class=\"plotly-graph-div\" style=\"height:525px; width:100%;\"></div>            <script type=\"text/javascript\">                require([\"plotly\"], function(Plotly) {                    window.PLOTLYENV=window.PLOTLYENV || {};                                    if (document.getElementById(\"e6727a4e-23dc-4725-abfb-56cd28a608af\")) {                    Plotly.newPlot(                        \"e6727a4e-23dc-4725-abfb-56cd28a608af\",                        [{\"hovertemplate\":\"Provinsi=Aceh<br>Guru=%{x}<br>Murid=%{y}<br>Sekolah=%{z}<extra></extra>\",\"legendgroup\":\"Aceh\",\"marker\":{\"color\":\"#636efa\",\"symbol\":\"circle\"},\"mode\":\"markers\",\"name\":\"Aceh\",\"scene\":\"scene\",\"showlegend\":true,\"x\":[48541],\"y\":[486958],\"z\":[3529],\"type\":\"scatter3d\"},{\"hovertemplate\":\"Provinsi=Sumatera Utara<br>Guru=%{x}<br>Murid=%{y}<br>Sekolah=%{z}<extra></extra>\",\"legendgroup\":\"Sumatera Utara\",\"marker\":{\"color\":\"#EF553B\",\"symbol\":\"circle\"},\"mode\":\"markers\",\"name\":\"Sumatera Utara\",\"scene\":\"scene\",\"showlegend\":true,\"x\":[109585],\"y\":[1548652],\"z\":[9782],\"type\":\"scatter3d\"},{\"hovertemplate\":\"Provinsi=Sumatera Barat<br>Guru=%{x}<br>Murid=%{y}<br>Sekolah=%{z}<extra></extra>\",\"legendgroup\":\"Sumatera Barat\",\"marker\":{\"color\":\"#00cc96\",\"symbol\":\"circle\"},\"mode\":\"markers\",\"name\":\"Sumatera Barat\",\"scene\":\"scene\",\"showlegend\":true,\"x\":[46833],\"y\":[597218],\"z\":[4260],\"type\":\"scatter3d\"},{\"hovertemplate\":\"Provinsi=Riau<br>Guru=%{x}<br>Murid=%{y}<br>Sekolah=%{z}<extra></extra>\",\"legendgroup\":\"Riau\",\"marker\":{\"color\":\"#ab63fa\",\"symbol\":\"circle\"},\"mode\":\"markers\",\"name\":\"Riau\",\"scene\":\"scene\",\"showlegend\":true,\"x\":[51378],\"y\":[773526],\"z\":[3791],\"type\":\"scatter3d\"},{\"hovertemplate\":\"Provinsi=Jambi<br>Guru=%{x}<br>Murid=%{y}<br>Sekolah=%{z}<extra></extra>\",\"legendgroup\":\"Jambi\",\"marker\":{\"color\":\"#FFA15A\",\"symbol\":\"circle\"},\"mode\":\"markers\",\"name\":\"Jambi\",\"scene\":\"scene\",\"showlegend\":true,\"x\":[27161],\"y\":[368694],\"z\":[2463],\"type\":\"scatter3d\"},{\"hovertemplate\":\"Provinsi=Sumatera Selatan<br>Guru=%{x}<br>Murid=%{y}<br>Sekolah=%{z}<extra></extra>\",\"legendgroup\":\"Sumatera Selatan\",\"marker\":{\"color\":\"#19d3f3\",\"symbol\":\"circle\"},\"mode\":\"markers\",\"name\":\"Sumatera Selatan\",\"scene\":\"scene\",\"showlegend\":true,\"x\":[59861],\"y\":[882534],\"z\":[4696],\"type\":\"scatter3d\"},{\"hovertemplate\":\"Provinsi=Bengkulu<br>Guru=%{x}<br>Murid=%{y}<br>Sekolah=%{z}<extra></extra>\",\"legendgroup\":\"Bengkulu\",\"marker\":{\"color\":\"#FF6692\",\"symbol\":\"circle\"},\"mode\":\"markers\",\"name\":\"Bengkulu\",\"scene\":\"scene\",\"showlegend\":true,\"x\":[16035],\"y\":[194381],\"z\":[1398],\"type\":\"scatter3d\"},{\"hovertemplate\":\"Provinsi=Lampung<br>Guru=%{x}<br>Murid=%{y}<br>Sekolah=%{z}<extra></extra>\",\"legendgroup\":\"Lampung\",\"marker\":{\"color\":\"#B6E880\",\"symbol\":\"circle\"},\"mode\":\"markers\",\"name\":\"Lampung\",\"scene\":\"scene\",\"showlegend\":true,\"x\":[57711],\"y\":[799619],\"z\":[4732],\"type\":\"scatter3d\"},{\"hovertemplate\":\"Provinsi=Kepulauan Bangka Belitung<br>Guru=%{x}<br>Murid=%{y}<br>Sekolah=%{z}<extra></extra>\",\"legendgroup\":\"Kepulauan Bangka Belitung\",\"marker\":{\"color\":\"#FF97FF\",\"symbol\":\"circle\"},\"mode\":\"markers\",\"name\":\"Kepulauan Bangka Belitung\",\"scene\":\"scene\",\"showlegend\":true,\"x\":[9678],\"y\":[162722],\"z\":[832],\"type\":\"scatter3d\"},{\"hovertemplate\":\"Provinsi=Kepulauan Riau<br>Guru=%{x}<br>Murid=%{y}<br>Sekolah=%{z}<extra></extra>\",\"legendgroup\":\"Kepulauan Riau\",\"marker\":{\"color\":\"#FECB52\",\"symbol\":\"circle\"},\"mode\":\"markers\",\"name\":\"Kepulauan Riau\",\"scene\":\"scene\",\"showlegend\":true,\"x\":[14033],\"y\":[225575],\"z\":[973],\"type\":\"scatter3d\"},{\"hovertemplate\":\"Provinsi=DKI Jakarta<br>Guru=%{x}<br>Murid=%{y}<br>Sekolah=%{z}<extra></extra>\",\"legendgroup\":\"DKI Jakarta\",\"marker\":{\"color\":\"#636efa\",\"symbol\":\"circle\"},\"mode\":\"markers\",\"name\":\"DKI Jakarta\",\"scene\":\"scene\",\"showlegend\":true,\"x\":[40344],\"y\":[765090],\"z\":[2239],\"type\":\"scatter3d\"},{\"hovertemplate\":\"Provinsi=Jawa Barat<br>Guru=%{x}<br>Murid=%{y}<br>Sekolah=%{z}<extra></extra>\",\"legendgroup\":\"Jawa Barat\",\"marker\":{\"color\":\"#EF553B\",\"symbol\":\"circle\"},\"mode\":\"markers\",\"name\":\"Jawa Barat\",\"scene\":\"scene\",\"showlegend\":true,\"x\":[212849],\"y\":[4450934],\"z\":[19659],\"type\":\"scatter3d\"},{\"hovertemplate\":\"Provinsi=Jawa Tengah<br>Guru=%{x}<br>Murid=%{y}<br>Sekolah=%{z}<extra></extra>\",\"legendgroup\":\"Jawa Tengah\",\"marker\":{\"color\":\"#00cc96\",\"symbol\":\"circle\"},\"mode\":\"markers\",\"name\":\"Jawa Tengah\",\"scene\":\"scene\",\"showlegend\":true,\"x\":[173671],\"y\":[2631174],\"z\":[18760],\"type\":\"scatter3d\"},{\"hovertemplate\":\"Provinsi=DI Yogyakarta<br>Guru=%{x}<br>Murid=%{y}<br>Sekolah=%{z}<extra></extra>\",\"legendgroup\":\"DI Yogyakarta\",\"marker\":{\"color\":\"#ab63fa\",\"symbol\":\"circle\"},\"mode\":\"markers\",\"name\":\"DI Yogyakarta\",\"scene\":\"scene\",\"showlegend\":true,\"x\":[20455],\"y\":[274438],\"z\":[1848],\"type\":\"scatter3d\"},{\"hovertemplate\":\"Provinsi=Jawa Timur<br>Guru=%{x}<br>Murid=%{y}<br>Sekolah=%{z}<extra></extra>\",\"legendgroup\":\"Jawa Timur\",\"marker\":{\"color\":\"#FFA15A\",\"symbol\":\"circle\"},\"mode\":\"markers\",\"name\":\"Jawa Timur\",\"scene\":\"scene\",\"showlegend\":true,\"x\":[186798],\"y\":[2579913],\"z\":[19007],\"type\":\"scatter3d\"},{\"hovertemplate\":\"Provinsi=Banten<br>Guru=%{x}<br>Murid=%{y}<br>Sekolah=%{z}<extra></extra>\",\"legendgroup\":\"Banten\",\"marker\":{\"color\":\"#19d3f3\",\"symbol\":\"circle\"},\"mode\":\"markers\",\"name\":\"Banten\",\"scene\":\"scene\",\"showlegend\":true,\"x\":[56887],\"y\":[1185883],\"z\":[4634],\"type\":\"scatter3d\"},{\"hovertemplate\":\"Provinsi=Bali<br>Guru=%{x}<br>Murid=%{y}<br>Sekolah=%{z}<extra></extra>\",\"legendgroup\":\"Bali\",\"marker\":{\"color\":\"#FF6692\",\"symbol\":\"circle\"},\"mode\":\"markers\",\"name\":\"Bali\",\"scene\":\"scene\",\"showlegend\":true,\"x\":[25719],\"y\":[382864],\"z\":[2416],\"type\":\"scatter3d\"},{\"hovertemplate\":\"Provinsi=Nusa Tenggara Barat<br>Guru=%{x}<br>Murid=%{y}<br>Sekolah=%{z}<extra></extra>\",\"legendgroup\":\"Nusa Tenggara Barat\",\"marker\":{\"color\":\"#B6E880\",\"symbol\":\"circle\"},\"mode\":\"markers\",\"name\":\"Nusa Tenggara Barat\",\"scene\":\"scene\",\"showlegend\":true,\"x\":[42159],\"y\":[509469],\"z\":[3309],\"type\":\"scatter3d\"},{\"hovertemplate\":\"Provinsi=Nusa Tenggara Timur<br>Guru=%{x}<br>Murid=%{y}<br>Sekolah=%{z}<extra></extra>\",\"legendgroup\":\"Nusa Tenggara Timur\",\"marker\":{\"color\":\"#FF97FF\",\"symbol\":\"circle\"},\"mode\":\"markers\",\"name\":\"Nusa Tenggara Timur\",\"scene\":\"scene\",\"showlegend\":true,\"x\":[54285],\"y\":[669225],\"z\":[5203],\"type\":\"scatter3d\"},{\"hovertemplate\":\"Provinsi=Kalimantan Barat<br>Guru=%{x}<br>Murid=%{y}<br>Sekolah=%{z}<extra></extra>\",\"legendgroup\":\"Kalimantan Barat\",\"marker\":{\"color\":\"#FECB52\",\"symbol\":\"circle\"},\"mode\":\"markers\",\"name\":\"Kalimantan Barat\",\"scene\":\"scene\",\"showlegend\":true,\"x\":[39540],\"y\":[565648],\"z\":[4438],\"type\":\"scatter3d\"},{\"hovertemplate\":\"Provinsi=Kalimantan Tengah<br>Guru=%{x}<br>Murid=%{y}<br>Sekolah=%{z}<extra></extra>\",\"legendgroup\":\"Kalimantan Tengah\",\"marker\":{\"color\":\"#636efa\",\"symbol\":\"circle\"},\"mode\":\"markers\",\"name\":\"Kalimantan Tengah\",\"scene\":\"scene\",\"showlegend\":true,\"x\":[25485],\"y\":[275040],\"z\":[2648],\"type\":\"scatter3d\"},{\"hovertemplate\":\"Provinsi=Kalimantan Selatan<br>Guru=%{x}<br>Murid=%{y}<br>Sekolah=%{z}<extra></extra>\",\"legendgroup\":\"Kalimantan Selatan\",\"marker\":{\"color\":\"#EF553B\",\"symbol\":\"circle\"},\"mode\":\"markers\",\"name\":\"Kalimantan Selatan\",\"scene\":\"scene\",\"showlegend\":true,\"x\":[30182],\"y\":[356919],\"z\":[2915],\"type\":\"scatter3d\"},{\"hovertemplate\":\"Provinsi=Kalimantan Timur<br>Guru=%{x}<br>Murid=%{y}<br>Sekolah=%{z}<extra></extra>\",\"legendgroup\":\"Kalimantan Timur\",\"marker\":{\"color\":\"#00cc96\",\"symbol\":\"circle\"},\"mode\":\"markers\",\"name\":\"Kalimantan Timur\",\"scene\":\"scene\",\"showlegend\":true,\"x\":[26112],\"y\":[412229],\"z\":[1919],\"type\":\"scatter3d\"},{\"hovertemplate\":\"Provinsi=Kalimantan Utara<br>Guru=%{x}<br>Murid=%{y}<br>Sekolah=%{z}<extra></extra>\",\"legendgroup\":\"Kalimantan Utara\",\"marker\":{\"color\":\"#ab63fa\",\"symbol\":\"circle\"},\"mode\":\"markers\",\"name\":\"Kalimantan Utara\",\"scene\":\"scene\",\"showlegend\":true,\"x\":[6095],\"y\":[78529],\"z\":[485],\"type\":\"scatter3d\"},{\"hovertemplate\":\"Provinsi=Sulawesi Utara<br>Guru=%{x}<br>Murid=%{y}<br>Sekolah=%{z}<extra></extra>\",\"legendgroup\":\"Sulawesi Utara\",\"marker\":{\"color\":\"#FFA15A\",\"symbol\":\"circle\"},\"mode\":\"markers\",\"name\":\"Sulawesi Utara\",\"scene\":\"scene\",\"showlegend\":true,\"x\":[18795],\"y\":[215237],\"z\":[2203],\"type\":\"scatter3d\"},{\"hovertemplate\":\"Provinsi=Sulawesi Tengah<br>Guru=%{x}<br>Murid=%{y}<br>Sekolah=%{z}<extra></extra>\",\"legendgroup\":\"Sulawesi Tengah\",\"marker\":{\"color\":\"#19d3f3\",\"symbol\":\"circle\"},\"mode\":\"markers\",\"name\":\"Sulawesi Tengah\",\"scene\":\"scene\",\"showlegend\":true,\"x\":[27175],\"y\":[307722],\"z\":[2926],\"type\":\"scatter3d\"},{\"hovertemplate\":\"Provinsi=Sulawesi Selatan<br>Guru=%{x}<br>Murid=%{y}<br>Sekolah=%{z}<extra></extra>\",\"legendgroup\":\"Sulawesi Selatan\",\"marker\":{\"color\":\"#FF6692\",\"symbol\":\"circle\"},\"mode\":\"markers\",\"name\":\"Sulawesi Selatan\",\"scene\":\"scene\",\"showlegend\":true,\"x\":[70404],\"y\":[880177],\"z\":[6438],\"type\":\"scatter3d\"},{\"hovertemplate\":\"Provinsi=Sulawesi Tenggara<br>Guru=%{x}<br>Murid=%{y}<br>Sekolah=%{z}<extra></extra>\",\"legendgroup\":\"Sulawesi Tenggara\",\"marker\":{\"color\":\"#B6E880\",\"symbol\":\"circle\"},\"mode\":\"markers\",\"name\":\"Sulawesi Tenggara\",\"scene\":\"scene\",\"showlegend\":true,\"x\":[25567],\"y\":[291723],\"z\":[2345],\"type\":\"scatter3d\"},{\"hovertemplate\":\"Provinsi=Gorontalo<br>Guru=%{x}<br>Murid=%{y}<br>Sekolah=%{z}<extra></extra>\",\"legendgroup\":\"Gorontalo\",\"marker\":{\"color\":\"#FF97FF\",\"symbol\":\"circle\"},\"mode\":\"markers\",\"name\":\"Gorontalo\",\"scene\":\"scene\",\"showlegend\":true,\"x\":[8392],\"y\":[108142],\"z\":[928],\"type\":\"scatter3d\"},{\"hovertemplate\":\"Provinsi=Sulawesi Barat<br>Guru=%{x}<br>Murid=%{y}<br>Sekolah=%{z}<extra></extra>\",\"legendgroup\":\"Sulawesi Barat\",\"marker\":{\"color\":\"#FECB52\",\"symbol\":\"circle\"},\"mode\":\"markers\",\"name\":\"Sulawesi Barat\",\"scene\":\"scene\",\"showlegend\":true,\"x\":[13755],\"y\":[143993],\"z\":[1326],\"type\":\"scatter3d\"},{\"hovertemplate\":\"Provinsi=Maluku<br>Guru=%{x}<br>Murid=%{y}<br>Sekolah=%{z}<extra></extra>\",\"legendgroup\":\"Maluku\",\"marker\":{\"color\":\"#636efa\",\"symbol\":\"circle\"},\"mode\":\"markers\",\"name\":\"Maluku\",\"scene\":\"scene\",\"showlegend\":true,\"x\":[17969],\"y\":[207996],\"z\":[1812],\"type\":\"scatter3d\"},{\"hovertemplate\":\"Provinsi=Maluku Utara<br>Guru=%{x}<br>Murid=%{y}<br>Sekolah=%{z}<extra></extra>\",\"legendgroup\":\"Maluku Utara\",\"marker\":{\"color\":\"#EF553B\",\"symbol\":\"circle\"},\"mode\":\"markers\",\"name\":\"Maluku Utara\",\"scene\":\"scene\",\"showlegend\":true,\"x\":[12037],\"y\":[140564],\"z\":[1315],\"type\":\"scatter3d\"},{\"hovertemplate\":\"Provinsi=Papua Barat<br>Guru=%{x}<br>Murid=%{y}<br>Sekolah=%{z}<extra></extra>\",\"legendgroup\":\"Papua Barat\",\"marker\":{\"color\":\"#00cc96\",\"symbol\":\"circle\"},\"mode\":\"markers\",\"name\":\"Papua Barat\",\"scene\":\"scene\",\"showlegend\":true,\"x\":[9791],\"y\":[131171],\"z\":[1104],\"type\":\"scatter3d\"},{\"hovertemplate\":\"Provinsi=Papua<br>Guru=%{x}<br>Murid=%{y}<br>Sekolah=%{z}<extra></extra>\",\"legendgroup\":\"Papua\",\"marker\":{\"color\":\"#ab63fa\",\"symbol\":\"circle\"},\"mode\":\"markers\",\"name\":\"Papua\",\"scene\":\"scene\",\"showlegend\":true,\"x\":[20227],\"y\":[472552],\"z\":[2642],\"type\":\"scatter3d\"}],                        {\"template\":{\"data\":{\"histogram2dcontour\":[{\"type\":\"histogram2dcontour\",\"colorbar\":{\"outlinewidth\":0,\"ticks\":\"\"},\"colorscale\":[[0.0,\"#0d0887\"],[0.1111111111111111,\"#46039f\"],[0.2222222222222222,\"#7201a8\"],[0.3333333333333333,\"#9c179e\"],[0.4444444444444444,\"#bd3786\"],[0.5555555555555556,\"#d8576b\"],[0.6666666666666666,\"#ed7953\"],[0.7777777777777778,\"#fb9f3a\"],[0.8888888888888888,\"#fdca26\"],[1.0,\"#f0f921\"]]}],\"choropleth\":[{\"type\":\"choropleth\",\"colorbar\":{\"outlinewidth\":0,\"ticks\":\"\"}}],\"histogram2d\":[{\"type\":\"histogram2d\",\"colorbar\":{\"outlinewidth\":0,\"ticks\":\"\"},\"colorscale\":[[0.0,\"#0d0887\"],[0.1111111111111111,\"#46039f\"],[0.2222222222222222,\"#7201a8\"],[0.3333333333333333,\"#9c179e\"],[0.4444444444444444,\"#bd3786\"],[0.5555555555555556,\"#d8576b\"],[0.6666666666666666,\"#ed7953\"],[0.7777777777777778,\"#fb9f3a\"],[0.8888888888888888,\"#fdca26\"],[1.0,\"#f0f921\"]]}],\"heatmap\":[{\"type\":\"heatmap\",\"colorbar\":{\"outlinewidth\":0,\"ticks\":\"\"},\"colorscale\":[[0.0,\"#0d0887\"],[0.1111111111111111,\"#46039f\"],[0.2222222222222222,\"#7201a8\"],[0.3333333333333333,\"#9c179e\"],[0.4444444444444444,\"#bd3786\"],[0.5555555555555556,\"#d8576b\"],[0.6666666666666666,\"#ed7953\"],[0.7777777777777778,\"#fb9f3a\"],[0.8888888888888888,\"#fdca26\"],[1.0,\"#f0f921\"]]}],\"heatmapgl\":[{\"type\":\"heatmapgl\",\"colorbar\":{\"outlinewidth\":0,\"ticks\":\"\"},\"colorscale\":[[0.0,\"#0d0887\"],[0.1111111111111111,\"#46039f\"],[0.2222222222222222,\"#7201a8\"],[0.3333333333333333,\"#9c179e\"],[0.4444444444444444,\"#bd3786\"],[0.5555555555555556,\"#d8576b\"],[0.6666666666666666,\"#ed7953\"],[0.7777777777777778,\"#fb9f3a\"],[0.8888888888888888,\"#fdca26\"],[1.0,\"#f0f921\"]]}],\"contourcarpet\":[{\"type\":\"contourcarpet\",\"colorbar\":{\"outlinewidth\":0,\"ticks\":\"\"}}],\"contour\":[{\"type\":\"contour\",\"colorbar\":{\"outlinewidth\":0,\"ticks\":\"\"},\"colorscale\":[[0.0,\"#0d0887\"],[0.1111111111111111,\"#46039f\"],[0.2222222222222222,\"#7201a8\"],[0.3333333333333333,\"#9c179e\"],[0.4444444444444444,\"#bd3786\"],[0.5555555555555556,\"#d8576b\"],[0.6666666666666666,\"#ed7953\"],[0.7777777777777778,\"#fb9f3a\"],[0.8888888888888888,\"#fdca26\"],[1.0,\"#f0f921\"]]}],\"surface\":[{\"type\":\"surface\",\"colorbar\":{\"outlinewidth\":0,\"ticks\":\"\"},\"colorscale\":[[0.0,\"#0d0887\"],[0.1111111111111111,\"#46039f\"],[0.2222222222222222,\"#7201a8\"],[0.3333333333333333,\"#9c179e\"],[0.4444444444444444,\"#bd3786\"],[0.5555555555555556,\"#d8576b\"],[0.6666666666666666,\"#ed7953\"],[0.7777777777777778,\"#fb9f3a\"],[0.8888888888888888,\"#fdca26\"],[1.0,\"#f0f921\"]]}],\"mesh3d\":[{\"type\":\"mesh3d\",\"colorbar\":{\"outlinewidth\":0,\"ticks\":\"\"}}],\"scatter\":[{\"fillpattern\":{\"fillmode\":\"overlay\",\"size\":10,\"solidity\":0.2},\"type\":\"scatter\"}],\"parcoords\":[{\"type\":\"parcoords\",\"line\":{\"colorbar\":{\"outlinewidth\":0,\"ticks\":\"\"}}}],\"scatterpolargl\":[{\"type\":\"scatterpolargl\",\"marker\":{\"colorbar\":{\"outlinewidth\":0,\"ticks\":\"\"}}}],\"bar\":[{\"error_x\":{\"color\":\"#2a3f5f\"},\"error_y\":{\"color\":\"#2a3f5f\"},\"marker\":{\"line\":{\"color\":\"#E5ECF6\",\"width\":0.5},\"pattern\":{\"fillmode\":\"overlay\",\"size\":10,\"solidity\":0.2}},\"type\":\"bar\"}],\"scattergeo\":[{\"type\":\"scattergeo\",\"marker\":{\"colorbar\":{\"outlinewidth\":0,\"ticks\":\"\"}}}],\"scatterpolar\":[{\"type\":\"scatterpolar\",\"marker\":{\"colorbar\":{\"outlinewidth\":0,\"ticks\":\"\"}}}],\"histogram\":[{\"marker\":{\"pattern\":{\"fillmode\":\"overlay\",\"size\":10,\"solidity\":0.2}},\"type\":\"histogram\"}],\"scattergl\":[{\"type\":\"scattergl\",\"marker\":{\"colorbar\":{\"outlinewidth\":0,\"ticks\":\"\"}}}],\"scatter3d\":[{\"type\":\"scatter3d\",\"line\":{\"colorbar\":{\"outlinewidth\":0,\"ticks\":\"\"}},\"marker\":{\"colorbar\":{\"outlinewidth\":0,\"ticks\":\"\"}}}],\"scattermapbox\":[{\"type\":\"scattermapbox\",\"marker\":{\"colorbar\":{\"outlinewidth\":0,\"ticks\":\"\"}}}],\"scatterternary\":[{\"type\":\"scatterternary\",\"marker\":{\"colorbar\":{\"outlinewidth\":0,\"ticks\":\"\"}}}],\"scattercarpet\":[{\"type\":\"scattercarpet\",\"marker\":{\"colorbar\":{\"outlinewidth\":0,\"ticks\":\"\"}}}],\"carpet\":[{\"aaxis\":{\"endlinecolor\":\"#2a3f5f\",\"gridcolor\":\"white\",\"linecolor\":\"white\",\"minorgridcolor\":\"white\",\"startlinecolor\":\"#2a3f5f\"},\"baxis\":{\"endlinecolor\":\"#2a3f5f\",\"gridcolor\":\"white\",\"linecolor\":\"white\",\"minorgridcolor\":\"white\",\"startlinecolor\":\"#2a3f5f\"},\"type\":\"carpet\"}],\"table\":[{\"cells\":{\"fill\":{\"color\":\"#EBF0F8\"},\"line\":{\"color\":\"white\"}},\"header\":{\"fill\":{\"color\":\"#C8D4E3\"},\"line\":{\"color\":\"white\"}},\"type\":\"table\"}],\"barpolar\":[{\"marker\":{\"line\":{\"color\":\"#E5ECF6\",\"width\":0.5},\"pattern\":{\"fillmode\":\"overlay\",\"size\":10,\"solidity\":0.2}},\"type\":\"barpolar\"}],\"pie\":[{\"automargin\":true,\"type\":\"pie\"}]},\"layout\":{\"autotypenumbers\":\"strict\",\"colorway\":[\"#636efa\",\"#EF553B\",\"#00cc96\",\"#ab63fa\",\"#FFA15A\",\"#19d3f3\",\"#FF6692\",\"#B6E880\",\"#FF97FF\",\"#FECB52\"],\"font\":{\"color\":\"#2a3f5f\"},\"hovermode\":\"closest\",\"hoverlabel\":{\"align\":\"left\"},\"paper_bgcolor\":\"white\",\"plot_bgcolor\":\"#E5ECF6\",\"polar\":{\"bgcolor\":\"#E5ECF6\",\"angularaxis\":{\"gridcolor\":\"white\",\"linecolor\":\"white\",\"ticks\":\"\"},\"radialaxis\":{\"gridcolor\":\"white\",\"linecolor\":\"white\",\"ticks\":\"\"}},\"ternary\":{\"bgcolor\":\"#E5ECF6\",\"aaxis\":{\"gridcolor\":\"white\",\"linecolor\":\"white\",\"ticks\":\"\"},\"baxis\":{\"gridcolor\":\"white\",\"linecolor\":\"white\",\"ticks\":\"\"},\"caxis\":{\"gridcolor\":\"white\",\"linecolor\":\"white\",\"ticks\":\"\"}},\"coloraxis\":{\"colorbar\":{\"outlinewidth\":0,\"ticks\":\"\"}},\"colorscale\":{\"sequential\":[[0.0,\"#0d0887\"],[0.1111111111111111,\"#46039f\"],[0.2222222222222222,\"#7201a8\"],[0.3333333333333333,\"#9c179e\"],[0.4444444444444444,\"#bd3786\"],[0.5555555555555556,\"#d8576b\"],[0.6666666666666666,\"#ed7953\"],[0.7777777777777778,\"#fb9f3a\"],[0.8888888888888888,\"#fdca26\"],[1.0,\"#f0f921\"]],\"sequentialminus\":[[0.0,\"#0d0887\"],[0.1111111111111111,\"#46039f\"],[0.2222222222222222,\"#7201a8\"],[0.3333333333333333,\"#9c179e\"],[0.4444444444444444,\"#bd3786\"],[0.5555555555555556,\"#d8576b\"],[0.6666666666666666,\"#ed7953\"],[0.7777777777777778,\"#fb9f3a\"],[0.8888888888888888,\"#fdca26\"],[1.0,\"#f0f921\"]],\"diverging\":[[0,\"#8e0152\"],[0.1,\"#c51b7d\"],[0.2,\"#de77ae\"],[0.3,\"#f1b6da\"],[0.4,\"#fde0ef\"],[0.5,\"#f7f7f7\"],[0.6,\"#e6f5d0\"],[0.7,\"#b8e186\"],[0.8,\"#7fbc41\"],[0.9,\"#4d9221\"],[1,\"#276419\"]]},\"xaxis\":{\"gridcolor\":\"white\",\"linecolor\":\"white\",\"ticks\":\"\",\"title\":{\"standoff\":15},\"zerolinecolor\":\"white\",\"automargin\":true,\"zerolinewidth\":2},\"yaxis\":{\"gridcolor\":\"white\",\"linecolor\":\"white\",\"ticks\":\"\",\"title\":{\"standoff\":15},\"zerolinecolor\":\"white\",\"automargin\":true,\"zerolinewidth\":2},\"scene\":{\"xaxis\":{\"backgroundcolor\":\"#E5ECF6\",\"gridcolor\":\"white\",\"linecolor\":\"white\",\"showbackground\":true,\"ticks\":\"\",\"zerolinecolor\":\"white\",\"gridwidth\":2},\"yaxis\":{\"backgroundcolor\":\"#E5ECF6\",\"gridcolor\":\"white\",\"linecolor\":\"white\",\"showbackground\":true,\"ticks\":\"\",\"zerolinecolor\":\"white\",\"gridwidth\":2},\"zaxis\":{\"backgroundcolor\":\"#E5ECF6\",\"gridcolor\":\"white\",\"linecolor\":\"white\",\"showbackground\":true,\"ticks\":\"\",\"zerolinecolor\":\"white\",\"gridwidth\":2}},\"shapedefaults\":{\"line\":{\"color\":\"#2a3f5f\"}},\"annotationdefaults\":{\"arrowcolor\":\"#2a3f5f\",\"arrowhead\":0,\"arrowwidth\":1},\"geo\":{\"bgcolor\":\"white\",\"landcolor\":\"#E5ECF6\",\"subunitcolor\":\"white\",\"showland\":true,\"showlakes\":true,\"lakecolor\":\"white\"},\"title\":{\"x\":0.05},\"mapbox\":{\"style\":\"light\"}}},\"scene\":{\"domain\":{\"x\":[0.0,1.0],\"y\":[0.0,1.0]},\"xaxis\":{\"title\":{\"text\":\"Guru\"}},\"yaxis\":{\"title\":{\"text\":\"Murid\"}},\"zaxis\":{\"title\":{\"text\":\"Sekolah\"}}},\"legend\":{\"title\":{\"text\":\"Provinsi\"},\"tracegroupgap\":0},\"title\":{\"text\":\"Sebaran Provinsi Berdasarkan Data Sekolah Dasar\"},\"showlegend\":true},                        {\"responsive\": true}                    ).then(function(){\n",
       "                            \n",
       "var gd = document.getElementById('e6727a4e-23dc-4725-abfb-56cd28a608af');\n",
       "var x = new MutationObserver(function (mutations, observer) {{\n",
       "        var display = window.getComputedStyle(gd).display;\n",
       "        if (!display || display === 'none') {{\n",
       "            console.log([gd, 'removed!']);\n",
       "            Plotly.purge(gd);\n",
       "            observer.disconnect();\n",
       "        }}\n",
       "}});\n",
       "\n",
       "// Listen for the removal of the full notebook cells\n",
       "var notebookContainer = gd.closest('#notebook-container');\n",
       "if (notebookContainer) {{\n",
       "    x.observe(notebookContainer, {childList: true});\n",
       "}}\n",
       "\n",
       "// Listen for the clearing of the current output cell\n",
       "var outputEl = gd.closest('.output');\n",
       "if (outputEl) {{\n",
       "    x.observe(outputEl, {childList: true});\n",
       "}}\n",
       "\n",
       "                        })                };                });            </script>        </div>"
      ]
     },
     "metadata": {},
     "output_type": "display_data"
    }
   ],
   "source": [
    "figure = plotly_express.scatter_3d(df,\n",
    "                 x='Guru', y='Murid',\n",
    "                 z='Sekolah', color=\"Provinsi\",\n",
    "                 title=\"Sebaran Provinsi Berdasarkan Data Sekolah Dasar\")\n",
    " \n",
    "figure.update_layout(showlegend=True)\n",
    " \n",
    "figure.show()"
   ]
  },
  {
   "cell_type": "markdown",
   "id": "8bce2059",
   "metadata": {},
   "source": [
    "#### 3. Normalisasi Data"
   ]
  },
  {
   "cell_type": "markdown",
   "id": "901279da",
   "metadata": {},
   "source": [
    "Dilakukan normalisasi data agar tidak berdistribusi skewed"
   ]
  },
  {
   "cell_type": "code",
   "execution_count": 270,
   "id": "d991e775",
   "metadata": {},
   "outputs": [
    {
     "data": {
      "text/html": [
       "<div>\n",
       "<style scoped>\n",
       "    .dataframe tbody tr th:only-of-type {\n",
       "        vertical-align: middle;\n",
       "    }\n",
       "\n",
       "    .dataframe tbody tr th {\n",
       "        vertical-align: top;\n",
       "    }\n",
       "\n",
       "    .dataframe thead th {\n",
       "        text-align: right;\n",
       "    }\n",
       "</style>\n",
       "<table border=\"1\" class=\"dataframe\">\n",
       "  <thead>\n",
       "    <tr style=\"text-align: right;\">\n",
       "      <th></th>\n",
       "      <th>No</th>\n",
       "      <th>Sekolah</th>\n",
       "      <th>Guru</th>\n",
       "      <th>Murid</th>\n",
       "    </tr>\n",
       "  </thead>\n",
       "  <tbody>\n",
       "    <tr>\n",
       "      <th>0</th>\n",
       "      <td>0.000000</td>\n",
       "      <td>0.511339</td>\n",
       "      <td>0.660032</td>\n",
       "      <td>0.368833</td>\n",
       "    </tr>\n",
       "    <tr>\n",
       "      <th>1</th>\n",
       "      <td>0.060606</td>\n",
       "      <td>0.634134</td>\n",
       "      <td>0.633473</td>\n",
       "      <td>0.468404</td>\n",
       "    </tr>\n",
       "    <tr>\n",
       "      <th>2</th>\n",
       "      <td>0.090909</td>\n",
       "      <td>0.555350</td>\n",
       "      <td>0.704147</td>\n",
       "      <td>0.627620</td>\n",
       "    </tr>\n",
       "    <tr>\n",
       "      <th>3</th>\n",
       "      <td>0.121212</td>\n",
       "      <td>0.332269</td>\n",
       "      <td>0.327575</td>\n",
       "      <td>0.262035</td>\n",
       "    </tr>\n",
       "    <tr>\n",
       "      <th>4</th>\n",
       "      <td>0.151515</td>\n",
       "      <td>0.707374</td>\n",
       "      <td>0.836057</td>\n",
       "      <td>0.726060</td>\n",
       "    </tr>\n",
       "    <tr>\n",
       "      <th>5</th>\n",
       "      <td>0.181818</td>\n",
       "      <td>0.153368</td>\n",
       "      <td>0.154566</td>\n",
       "      <td>0.104621</td>\n",
       "    </tr>\n",
       "    <tr>\n",
       "      <th>6</th>\n",
       "      <td>0.212121</td>\n",
       "      <td>0.713422</td>\n",
       "      <td>0.802625</td>\n",
       "      <td>0.651183</td>\n",
       "    </tr>\n",
       "    <tr>\n",
       "      <th>7</th>\n",
       "      <td>0.242424</td>\n",
       "      <td>0.058290</td>\n",
       "      <td>0.055715</td>\n",
       "      <td>0.076031</td>\n",
       "    </tr>\n",
       "    <tr>\n",
       "      <th>8</th>\n",
       "      <td>0.272727</td>\n",
       "      <td>0.081975</td>\n",
       "      <td>0.123435</td>\n",
       "      <td>0.132790</td>\n",
       "    </tr>\n",
       "    <tr>\n",
       "      <th>9</th>\n",
       "      <td>0.303030</td>\n",
       "      <td>0.294641</td>\n",
       "      <td>0.532569</td>\n",
       "      <td>0.620001</td>\n",
       "    </tr>\n",
       "    <tr>\n",
       "      <th>10</th>\n",
       "      <td>0.393939</td>\n",
       "      <td>0.228960</td>\n",
       "      <td>0.223297</td>\n",
       "      <td>0.176916</td>\n",
       "    </tr>\n",
       "    <tr>\n",
       "      <th>11</th>\n",
       "      <td>0.454545</td>\n",
       "      <td>0.696960</td>\n",
       "      <td>0.789812</td>\n",
       "      <td>1.000000</td>\n",
       "    </tr>\n",
       "    <tr>\n",
       "      <th>12</th>\n",
       "      <td>0.484848</td>\n",
       "      <td>0.324374</td>\n",
       "      <td>0.305152</td>\n",
       "      <td>0.274831</td>\n",
       "    </tr>\n",
       "    <tr>\n",
       "      <th>13</th>\n",
       "      <td>0.515152</td>\n",
       "      <td>0.474383</td>\n",
       "      <td>0.560792</td>\n",
       "      <td>0.389162</td>\n",
       "    </tr>\n",
       "    <tr>\n",
       "      <th>14</th>\n",
       "      <td>0.545455</td>\n",
       "      <td>0.792542</td>\n",
       "      <td>0.749351</td>\n",
       "      <td>0.533430</td>\n",
       "    </tr>\n",
       "    <tr>\n",
       "      <th>15</th>\n",
       "      <td>0.575758</td>\n",
       "      <td>0.664035</td>\n",
       "      <td>0.520067</td>\n",
       "      <td>0.439895</td>\n",
       "    </tr>\n",
       "    <tr>\n",
       "      <th>16</th>\n",
       "      <td>0.606061</td>\n",
       "      <td>0.363346</td>\n",
       "      <td>0.301513</td>\n",
       "      <td>0.177460</td>\n",
       "    </tr>\n",
       "    <tr>\n",
       "      <th>17</th>\n",
       "      <td>0.636364</td>\n",
       "      <td>0.408198</td>\n",
       "      <td>0.374551</td>\n",
       "      <td>0.251401</td>\n",
       "    </tr>\n",
       "    <tr>\n",
       "      <th>18</th>\n",
       "      <td>0.666667</td>\n",
       "      <td>0.240887</td>\n",
       "      <td>0.311263</td>\n",
       "      <td>0.301349</td>\n",
       "    </tr>\n",
       "    <tr>\n",
       "      <th>19</th>\n",
       "      <td>0.696970</td>\n",
       "      <td>0.000000</td>\n",
       "      <td>0.000000</td>\n",
       "      <td>0.000000</td>\n",
       "    </tr>\n",
       "    <tr>\n",
       "      <th>20</th>\n",
       "      <td>0.727273</td>\n",
       "      <td>0.288594</td>\n",
       "      <td>0.197484</td>\n",
       "      <td>0.123455</td>\n",
       "    </tr>\n",
       "    <tr>\n",
       "      <th>21</th>\n",
       "      <td>0.757576</td>\n",
       "      <td>0.410045</td>\n",
       "      <td>0.327792</td>\n",
       "      <td>0.206974</td>\n",
       "    </tr>\n",
       "    <tr>\n",
       "      <th>22</th>\n",
       "      <td>0.787879</td>\n",
       "      <td>1.000000</td>\n",
       "      <td>1.000000</td>\n",
       "      <td>0.723931</td>\n",
       "    </tr>\n",
       "    <tr>\n",
       "      <th>23</th>\n",
       "      <td>0.818182</td>\n",
       "      <td>0.312448</td>\n",
       "      <td>0.302788</td>\n",
       "      <td>0.192526</td>\n",
       "    </tr>\n",
       "    <tr>\n",
       "      <th>24</th>\n",
       "      <td>0.848485</td>\n",
       "      <td>0.074416</td>\n",
       "      <td>0.035718</td>\n",
       "      <td>0.026742</td>\n",
       "    </tr>\n",
       "    <tr>\n",
       "      <th>25</th>\n",
       "      <td>0.878788</td>\n",
       "      <td>0.141273</td>\n",
       "      <td>0.119112</td>\n",
       "      <td>0.059117</td>\n",
       "    </tr>\n",
       "    <tr>\n",
       "      <th>26</th>\n",
       "      <td>0.909091</td>\n",
       "      <td>0.222913</td>\n",
       "      <td>0.184640</td>\n",
       "      <td>0.116916</td>\n",
       "    </tr>\n",
       "    <tr>\n",
       "      <th>27</th>\n",
       "      <td>0.939394</td>\n",
       "      <td>0.139425</td>\n",
       "      <td>0.092398</td>\n",
       "      <td>0.056021</td>\n",
       "    </tr>\n",
       "    <tr>\n",
       "      <th>28</th>\n",
       "      <td>0.969697</td>\n",
       "      <td>0.103981</td>\n",
       "      <td>0.057473</td>\n",
       "      <td>0.047539</td>\n",
       "    </tr>\n",
       "    <tr>\n",
       "      <th>29</th>\n",
       "      <td>1.000000</td>\n",
       "      <td>0.362338</td>\n",
       "      <td>0.219752</td>\n",
       "      <td>0.355824</td>\n",
       "    </tr>\n",
       "  </tbody>\n",
       "</table>\n",
       "</div>"
      ],
      "text/plain": [
       "          No   Sekolah      Guru     Murid\n",
       "0   0.000000  0.511339  0.660032  0.368833\n",
       "1   0.060606  0.634134  0.633473  0.468404\n",
       "2   0.090909  0.555350  0.704147  0.627620\n",
       "3   0.121212  0.332269  0.327575  0.262035\n",
       "4   0.151515  0.707374  0.836057  0.726060\n",
       "5   0.181818  0.153368  0.154566  0.104621\n",
       "6   0.212121  0.713422  0.802625  0.651183\n",
       "7   0.242424  0.058290  0.055715  0.076031\n",
       "8   0.272727  0.081975  0.123435  0.132790\n",
       "9   0.303030  0.294641  0.532569  0.620001\n",
       "10  0.393939  0.228960  0.223297  0.176916\n",
       "11  0.454545  0.696960  0.789812  1.000000\n",
       "12  0.484848  0.324374  0.305152  0.274831\n",
       "13  0.515152  0.474383  0.560792  0.389162\n",
       "14  0.545455  0.792542  0.749351  0.533430\n",
       "15  0.575758  0.664035  0.520067  0.439895\n",
       "16  0.606061  0.363346  0.301513  0.177460\n",
       "17  0.636364  0.408198  0.374551  0.251401\n",
       "18  0.666667  0.240887  0.311263  0.301349\n",
       "19  0.696970  0.000000  0.000000  0.000000\n",
       "20  0.727273  0.288594  0.197484  0.123455\n",
       "21  0.757576  0.410045  0.327792  0.206974\n",
       "22  0.787879  1.000000  1.000000  0.723931\n",
       "23  0.818182  0.312448  0.302788  0.192526\n",
       "24  0.848485  0.074416  0.035718  0.026742\n",
       "25  0.878788  0.141273  0.119112  0.059117\n",
       "26  0.909091  0.222913  0.184640  0.116916\n",
       "27  0.939394  0.139425  0.092398  0.056021\n",
       "28  0.969697  0.103981  0.057473  0.047539\n",
       "29  1.000000  0.362338  0.219752  0.355824"
      ]
     },
     "execution_count": 270,
     "metadata": {},
     "output_type": "execute_result"
    }
   ],
   "source": [
    "#Normalisasi data dengan MinMaxScaler\n",
    "from sklearn.preprocessing import MinMaxScaler\n",
    "df2=df_clear.select_dtypes(include=['float64', 'int64'])#Memilih kolom numerik\n",
    "\n",
    "scaler = MinMaxScaler()\n",
    "df_norm = pd.DataFrame(scaler.fit_transform(df2), columns=df2.columns)\n",
    "\n",
    "df_norm"
   ]
  },
  {
   "cell_type": "markdown",
   "id": "fb5c698f",
   "metadata": {},
   "source": [
    "### Pemodelan Klasterisasi K Means"
   ]
  },
  {
   "cell_type": "markdown",
   "id": "3f16fc3f",
   "metadata": {},
   "source": [
    "#### Rekomendasi Jumlah Klaster"
   ]
  },
  {
   "cell_type": "code",
   "execution_count": 271,
   "id": "e85ed3e3",
   "metadata": {},
   "outputs": [
    {
     "data": {
      "image/png": "[encoded data removed]",
      "text/plain": [
       "<Figure size 800x550 with 2 Axes>"
      ]
     },
     "metadata": {},
     "output_type": "display_data"
    }
   ],
   "source": [
    "model = KMeans()                                               # Instantiate the clustering model and visualizer\n",
    "visualizer = KElbowVisualizer(model, k=(1, 11))                # Check the distortion/average distance in cluster if we create 1 to 11 group\n",
    "visualizer.fit(df2)                                            # Fit the data to the visualizer\n",
    "visualizer.show()                                              # Finalize and render the figure\n",
    "plt.show()"
   ]
  },
  {
   "cell_type": "markdown",
   "id": "f16d32c0",
   "metadata": {},
   "source": [
    "Note : Jumlah Klaster Rekomendasi 3, sesuai dengan plan membagi data menjadi 3 klaster (Baik, Sedang, Rendah)"
   ]
  },
  {
   "cell_type": "markdown",
   "id": "509b93b5",
   "metadata": {},
   "source": [
    "#### Pemodelan Klasterisasi"
   ]
  },
  {
   "cell_type": "code",
   "execution_count": 272,
   "id": "fdb8c881",
   "metadata": {},
   "outputs": [],
   "source": [
    "km_model = KMeans(n_clusters=3, random_state=10)              # instatiate KMeans class and set the number of clusters\n",
    "cluster_result = km_model.fit_predict(df2)                    # call fit method with data \n",
    "centroids = km_model.cluster_centers_                         # coordinates of cluster center\n",
    "labels = km_model.labels_                                     # cluster label for each data point"
   ]
  },
  {
   "cell_type": "code",
   "execution_count": 273,
   "id": "8b2f63d1",
   "metadata": {},
   "outputs": [],
   "source": [
    "df_clear['Label'] = labels"
   ]
  },
  {
   "cell_type": "code",
   "execution_count": 274,
   "id": "816b7aef",
   "metadata": {},
   "outputs": [
    {
     "data": {
      "text/html": [
       "<div>\n",
       "<style scoped>\n",
       "    .dataframe tbody tr th:only-of-type {\n",
       "        vertical-align: middle;\n",
       "    }\n",
       "\n",
       "    .dataframe tbody tr th {\n",
       "        vertical-align: top;\n",
       "    }\n",
       "\n",
       "    .dataframe thead th {\n",
       "        text-align: right;\n",
       "    }\n",
       "</style>\n",
       "<table border=\"1\" class=\"dataframe\">\n",
       "  <thead>\n",
       "    <tr style=\"text-align: right;\">\n",
       "      <th></th>\n",
       "      <th>No</th>\n",
       "      <th>Provinsi</th>\n",
       "      <th>Sekolah</th>\n",
       "      <th>Guru</th>\n",
       "      <th>Murid</th>\n",
       "      <th>Label</th>\n",
       "    </tr>\n",
       "  </thead>\n",
       "  <tbody>\n",
       "    <tr>\n",
       "      <th>0</th>\n",
       "      <td>1</td>\n",
       "      <td>Aceh</td>\n",
       "      <td>3529</td>\n",
       "      <td>48541</td>\n",
       "      <td>486958</td>\n",
       "      <td>1</td>\n",
       "    </tr>\n",
       "    <tr>\n",
       "      <th>2</th>\n",
       "      <td>3</td>\n",
       "      <td>Sumatera Barat</td>\n",
       "      <td>4260</td>\n",
       "      <td>46833</td>\n",
       "      <td>597218</td>\n",
       "      <td>1</td>\n",
       "    </tr>\n",
       "    <tr>\n",
       "      <th>3</th>\n",
       "      <td>4</td>\n",
       "      <td>Riau</td>\n",
       "      <td>3791</td>\n",
       "      <td>51378</td>\n",
       "      <td>773526</td>\n",
       "      <td>0</td>\n",
       "    </tr>\n",
       "    <tr>\n",
       "      <th>4</th>\n",
       "      <td>5</td>\n",
       "      <td>Jambi</td>\n",
       "      <td>2463</td>\n",
       "      <td>27161</td>\n",
       "      <td>368694</td>\n",
       "      <td>1</td>\n",
       "    </tr>\n",
       "    <tr>\n",
       "      <th>5</th>\n",
       "      <td>6</td>\n",
       "      <td>Sumatera Selatan</td>\n",
       "      <td>4696</td>\n",
       "      <td>59861</td>\n",
       "      <td>882534</td>\n",
       "      <td>0</td>\n",
       "    </tr>\n",
       "    <tr>\n",
       "      <th>6</th>\n",
       "      <td>7</td>\n",
       "      <td>Bengkulu</td>\n",
       "      <td>1398</td>\n",
       "      <td>16035</td>\n",
       "      <td>194381</td>\n",
       "      <td>2</td>\n",
       "    </tr>\n",
       "    <tr>\n",
       "      <th>7</th>\n",
       "      <td>8</td>\n",
       "      <td>Lampung</td>\n",
       "      <td>4732</td>\n",
       "      <td>57711</td>\n",
       "      <td>799619</td>\n",
       "      <td>0</td>\n",
       "    </tr>\n",
       "    <tr>\n",
       "      <th>8</th>\n",
       "      <td>9</td>\n",
       "      <td>Kepulauan Bangka Belitung</td>\n",
       "      <td>832</td>\n",
       "      <td>9678</td>\n",
       "      <td>162722</td>\n",
       "      <td>2</td>\n",
       "    </tr>\n",
       "    <tr>\n",
       "      <th>9</th>\n",
       "      <td>10</td>\n",
       "      <td>Kepulauan Riau</td>\n",
       "      <td>973</td>\n",
       "      <td>14033</td>\n",
       "      <td>225575</td>\n",
       "      <td>2</td>\n",
       "    </tr>\n",
       "    <tr>\n",
       "      <th>10</th>\n",
       "      <td>11</td>\n",
       "      <td>DKI Jakarta</td>\n",
       "      <td>2239</td>\n",
       "      <td>40344</td>\n",
       "      <td>765090</td>\n",
       "      <td>0</td>\n",
       "    </tr>\n",
       "    <tr>\n",
       "      <th>13</th>\n",
       "      <td>14</td>\n",
       "      <td>DI Yogyakarta</td>\n",
       "      <td>1848</td>\n",
       "      <td>20455</td>\n",
       "      <td>274438</td>\n",
       "      <td>2</td>\n",
       "    </tr>\n",
       "    <tr>\n",
       "      <th>15</th>\n",
       "      <td>16</td>\n",
       "      <td>Banten</td>\n",
       "      <td>4634</td>\n",
       "      <td>56887</td>\n",
       "      <td>1185883</td>\n",
       "      <td>0</td>\n",
       "    </tr>\n",
       "    <tr>\n",
       "      <th>16</th>\n",
       "      <td>17</td>\n",
       "      <td>Bali</td>\n",
       "      <td>2416</td>\n",
       "      <td>25719</td>\n",
       "      <td>382864</td>\n",
       "      <td>1</td>\n",
       "    </tr>\n",
       "    <tr>\n",
       "      <th>17</th>\n",
       "      <td>18</td>\n",
       "      <td>Nusa Tenggara Barat</td>\n",
       "      <td>3309</td>\n",
       "      <td>42159</td>\n",
       "      <td>509469</td>\n",
       "      <td>1</td>\n",
       "    </tr>\n",
       "    <tr>\n",
       "      <th>18</th>\n",
       "      <td>19</td>\n",
       "      <td>Nusa Tenggara Timur</td>\n",
       "      <td>5203</td>\n",
       "      <td>54285</td>\n",
       "      <td>669225</td>\n",
       "      <td>0</td>\n",
       "    </tr>\n",
       "    <tr>\n",
       "      <th>19</th>\n",
       "      <td>20</td>\n",
       "      <td>Kalimantan Barat</td>\n",
       "      <td>4438</td>\n",
       "      <td>39540</td>\n",
       "      <td>565648</td>\n",
       "      <td>1</td>\n",
       "    </tr>\n",
       "    <tr>\n",
       "      <th>20</th>\n",
       "      <td>21</td>\n",
       "      <td>Kalimantan Tengah</td>\n",
       "      <td>2648</td>\n",
       "      <td>25485</td>\n",
       "      <td>275040</td>\n",
       "      <td>2</td>\n",
       "    </tr>\n",
       "    <tr>\n",
       "      <th>21</th>\n",
       "      <td>22</td>\n",
       "      <td>Kalimantan Selatan</td>\n",
       "      <td>2915</td>\n",
       "      <td>30182</td>\n",
       "      <td>356919</td>\n",
       "      <td>1</td>\n",
       "    </tr>\n",
       "    <tr>\n",
       "      <th>22</th>\n",
       "      <td>23</td>\n",
       "      <td>Kalimantan Timur</td>\n",
       "      <td>1919</td>\n",
       "      <td>26112</td>\n",
       "      <td>412229</td>\n",
       "      <td>1</td>\n",
       "    </tr>\n",
       "    <tr>\n",
       "      <th>23</th>\n",
       "      <td>24</td>\n",
       "      <td>Kalimantan Utara</td>\n",
       "      <td>485</td>\n",
       "      <td>6095</td>\n",
       "      <td>78529</td>\n",
       "      <td>2</td>\n",
       "    </tr>\n",
       "    <tr>\n",
       "      <th>24</th>\n",
       "      <td>25</td>\n",
       "      <td>Sulawesi Utara</td>\n",
       "      <td>2203</td>\n",
       "      <td>18795</td>\n",
       "      <td>215237</td>\n",
       "      <td>2</td>\n",
       "    </tr>\n",
       "    <tr>\n",
       "      <th>25</th>\n",
       "      <td>26</td>\n",
       "      <td>Sulawesi Tengah</td>\n",
       "      <td>2926</td>\n",
       "      <td>27175</td>\n",
       "      <td>307722</td>\n",
       "      <td>2</td>\n",
       "    </tr>\n",
       "    <tr>\n",
       "      <th>26</th>\n",
       "      <td>27</td>\n",
       "      <td>Sulawesi Selatan</td>\n",
       "      <td>6438</td>\n",
       "      <td>70404</td>\n",
       "      <td>880177</td>\n",
       "      <td>0</td>\n",
       "    </tr>\n",
       "    <tr>\n",
       "      <th>27</th>\n",
       "      <td>28</td>\n",
       "      <td>Sulawesi Tenggara</td>\n",
       "      <td>2345</td>\n",
       "      <td>25567</td>\n",
       "      <td>291723</td>\n",
       "      <td>2</td>\n",
       "    </tr>\n",
       "    <tr>\n",
       "      <th>28</th>\n",
       "      <td>29</td>\n",
       "      <td>Gorontalo</td>\n",
       "      <td>928</td>\n",
       "      <td>8392</td>\n",
       "      <td>108142</td>\n",
       "      <td>2</td>\n",
       "    </tr>\n",
       "    <tr>\n",
       "      <th>29</th>\n",
       "      <td>30</td>\n",
       "      <td>Sulawesi Barat</td>\n",
       "      <td>1326</td>\n",
       "      <td>13755</td>\n",
       "      <td>143993</td>\n",
       "      <td>2</td>\n",
       "    </tr>\n",
       "    <tr>\n",
       "      <th>30</th>\n",
       "      <td>31</td>\n",
       "      <td>Maluku</td>\n",
       "      <td>1812</td>\n",
       "      <td>17969</td>\n",
       "      <td>207996</td>\n",
       "      <td>2</td>\n",
       "    </tr>\n",
       "    <tr>\n",
       "      <th>31</th>\n",
       "      <td>32</td>\n",
       "      <td>Maluku Utara</td>\n",
       "      <td>1315</td>\n",
       "      <td>12037</td>\n",
       "      <td>140564</td>\n",
       "      <td>2</td>\n",
       "    </tr>\n",
       "    <tr>\n",
       "      <th>32</th>\n",
       "      <td>33</td>\n",
       "      <td>Papua Barat</td>\n",
       "      <td>1104</td>\n",
       "      <td>9791</td>\n",
       "      <td>131171</td>\n",
       "      <td>2</td>\n",
       "    </tr>\n",
       "    <tr>\n",
       "      <th>33</th>\n",
       "      <td>34</td>\n",
       "      <td>Papua</td>\n",
       "      <td>2642</td>\n",
       "      <td>20227</td>\n",
       "      <td>472552</td>\n",
       "      <td>1</td>\n",
       "    </tr>\n",
       "  </tbody>\n",
       "</table>\n",
       "</div>"
      ],
      "text/plain": [
       "    No                   Provinsi  Sekolah   Guru    Murid  Label\n",
       "0    1                       Aceh     3529  48541   486958      1\n",
       "2    3             Sumatera Barat     4260  46833   597218      1\n",
       "3    4                       Riau     3791  51378   773526      0\n",
       "4    5                      Jambi     2463  27161   368694      1\n",
       "5    6           Sumatera Selatan     4696  59861   882534      0\n",
       "6    7                   Bengkulu     1398  16035   194381      2\n",
       "7    8                    Lampung     4732  57711   799619      0\n",
       "8    9  Kepulauan Bangka Belitung      832   9678   162722      2\n",
       "9   10             Kepulauan Riau      973  14033   225575      2\n",
       "10  11                DKI Jakarta     2239  40344   765090      0\n",
       "13  14              DI Yogyakarta     1848  20455   274438      2\n",
       "15  16                     Banten     4634  56887  1185883      0\n",
       "16  17                       Bali     2416  25719   382864      1\n",
       "17  18        Nusa Tenggara Barat     3309  42159   509469      1\n",
       "18  19        Nusa Tenggara Timur     5203  54285   669225      0\n",
       "19  20           Kalimantan Barat     4438  39540   565648      1\n",
       "20  21          Kalimantan Tengah     2648  25485   275040      2\n",
       "21  22         Kalimantan Selatan     2915  30182   356919      1\n",
       "22  23           Kalimantan Timur     1919  26112   412229      1\n",
       "23  24           Kalimantan Utara      485   6095    78529      2\n",
       "24  25             Sulawesi Utara     2203  18795   215237      2\n",
       "25  26            Sulawesi Tengah     2926  27175   307722      2\n",
       "26  27           Sulawesi Selatan     6438  70404   880177      0\n",
       "27  28          Sulawesi Tenggara     2345  25567   291723      2\n",
       "28  29                  Gorontalo      928   8392   108142      2\n",
       "29  30             Sulawesi Barat     1326  13755   143993      2\n",
       "30  31                     Maluku     1812  17969   207996      2\n",
       "31  32               Maluku Utara     1315  12037   140564      2\n",
       "32  33                Papua Barat     1104   9791   131171      2\n",
       "33  34                      Papua     2642  20227   472552      1"
      ]
     },
     "execution_count": 274,
     "metadata": {},
     "output_type": "execute_result"
    }
   ],
   "source": [
    "df_clear"
   ]
  },
  {
   "cell_type": "markdown",
   "id": "eba10b12",
   "metadata": {},
   "source": [
    "#### Menambahkan Provinsi Outlier"
   ]
  },
  {
   "cell_type": "code",
   "execution_count": 275,
   "id": "01be96df",
   "metadata": {},
   "outputs": [
    {
     "data": {
      "text/html": [
       "<div>\n",
       "<style scoped>\n",
       "    .dataframe tbody tr th:only-of-type {\n",
       "        vertical-align: middle;\n",
       "    }\n",
       "\n",
       "    .dataframe tbody tr th {\n",
       "        vertical-align: top;\n",
       "    }\n",
       "\n",
       "    .dataframe thead th {\n",
       "        text-align: right;\n",
       "    }\n",
       "</style>\n",
       "<table border=\"1\" class=\"dataframe\">\n",
       "  <thead>\n",
       "    <tr style=\"text-align: right;\">\n",
       "      <th></th>\n",
       "      <th>Label</th>\n",
       "      <th>Sekolah</th>\n",
       "      <th>Guru</th>\n",
       "      <th>Murid</th>\n",
       "    </tr>\n",
       "  </thead>\n",
       "  <tbody>\n",
       "    <tr>\n",
       "      <th>0</th>\n",
       "      <td>0</td>\n",
       "      <td>4533.285714</td>\n",
       "      <td>55838.571429</td>\n",
       "      <td>850864.857143</td>\n",
       "    </tr>\n",
       "    <tr>\n",
       "      <th>1</th>\n",
       "      <td>1</td>\n",
       "      <td>3099.000000</td>\n",
       "      <td>34052.666667</td>\n",
       "      <td>461394.555556</td>\n",
       "    </tr>\n",
       "    <tr>\n",
       "      <th>2</th>\n",
       "      <td>2</td>\n",
       "      <td>1581.642857</td>\n",
       "      <td>16090.142857</td>\n",
       "      <td>196945.214286</td>\n",
       "    </tr>\n",
       "  </tbody>\n",
       "</table>\n",
       "</div>"
      ],
      "text/plain": [
       "   Label      Sekolah          Guru          Murid\n",
       "0      0  4533.285714  55838.571429  850864.857143\n",
       "1      1  3099.000000  34052.666667  461394.555556\n",
       "2      2  1581.642857  16090.142857  196945.214286"
      ]
     },
     "execution_count": 275,
     "metadata": {},
     "output_type": "execute_result"
    }
   ],
   "source": [
    "df_plot = df_clear.groupby('Label').agg({\"Sekolah\":np.mean, \"Guru\":np.mean, \"Murid\":np.mean}).reset_index()\n",
    "df_plot"
   ]
  },
  {
   "cell_type": "code",
   "execution_count": 276,
   "id": "977d5759",
   "metadata": {},
   "outputs": [
    {
     "data": {
      "text/html": [
       "<div>\n",
       "<style scoped>\n",
       "    .dataframe tbody tr th:only-of-type {\n",
       "        vertical-align: middle;\n",
       "    }\n",
       "\n",
       "    .dataframe tbody tr th {\n",
       "        vertical-align: top;\n",
       "    }\n",
       "\n",
       "    .dataframe thead th {\n",
       "        text-align: right;\n",
       "    }\n",
       "</style>\n",
       "<table border=\"1\" class=\"dataframe\">\n",
       "  <thead>\n",
       "    <tr style=\"text-align: right;\">\n",
       "      <th></th>\n",
       "      <th>No</th>\n",
       "      <th>Provinsi</th>\n",
       "      <th>Sekolah</th>\n",
       "      <th>Guru</th>\n",
       "      <th>Murid</th>\n",
       "    </tr>\n",
       "  </thead>\n",
       "  <tbody>\n",
       "    <tr>\n",
       "      <th>1</th>\n",
       "      <td>2</td>\n",
       "      <td>Sumatera Utara</td>\n",
       "      <td>9782</td>\n",
       "      <td>109585</td>\n",
       "      <td>1548652</td>\n",
       "    </tr>\n",
       "    <tr>\n",
       "      <th>11</th>\n",
       "      <td>12</td>\n",
       "      <td>Jawa Barat</td>\n",
       "      <td>19659</td>\n",
       "      <td>212849</td>\n",
       "      <td>4450934</td>\n",
       "    </tr>\n",
       "    <tr>\n",
       "      <th>12</th>\n",
       "      <td>13</td>\n",
       "      <td>Jawa Tengah</td>\n",
       "      <td>18760</td>\n",
       "      <td>173671</td>\n",
       "      <td>2631174</td>\n",
       "    </tr>\n",
       "    <tr>\n",
       "      <th>14</th>\n",
       "      <td>15</td>\n",
       "      <td>Jawa Timur</td>\n",
       "      <td>19007</td>\n",
       "      <td>186798</td>\n",
       "      <td>2579913</td>\n",
       "    </tr>\n",
       "  </tbody>\n",
       "</table>\n",
       "</div>"
      ],
      "text/plain": [
       "    No        Provinsi  Sekolah    Guru    Murid\n",
       "1    2  Sumatera Utara     9782  109585  1548652\n",
       "11  12      Jawa Barat    19659  212849  4450934\n",
       "12  13     Jawa Tengah    18760  173671  2631174\n",
       "14  15      Jawa Timur    19007  186798  2579913"
      ]
     },
     "execution_count": 276,
     "metadata": {},
     "output_type": "execute_result"
    }
   ],
   "source": [
    "df_outlier"
   ]
  },
  {
   "cell_type": "markdown",
   "id": "596c32e0",
   "metadata": {},
   "source": [
    "Note : Semua data outlier masuk ke dalam klaster 0"
   ]
  },
  {
   "cell_type": "code",
   "execution_count": 277,
   "id": "4b01249e",
   "metadata": {},
   "outputs": [
    {
     "data": {
      "text/plain": [
       "[0, 0, 0, 0]"
      ]
     },
     "execution_count": 277,
     "metadata": {},
     "output_type": "execute_result"
    }
   ],
   "source": [
    "label_out = [0] * len(df_outlier)\n",
    "label_out"
   ]
  },
  {
   "cell_type": "code",
   "execution_count": 278,
   "id": "60ddba6c",
   "metadata": {},
   "outputs": [],
   "source": [
    "df_outlier['Label'] = label_out"
   ]
  },
  {
   "cell_type": "code",
   "execution_count": 279,
   "id": "34b54319",
   "metadata": {},
   "outputs": [
    {
     "data": {
      "text/html": [
       "<div>\n",
       "<style scoped>\n",
       "    .dataframe tbody tr th:only-of-type {\n",
       "        vertical-align: middle;\n",
       "    }\n",
       "\n",
       "    .dataframe tbody tr th {\n",
       "        vertical-align: top;\n",
       "    }\n",
       "\n",
       "    .dataframe thead th {\n",
       "        text-align: right;\n",
       "    }\n",
       "</style>\n",
       "<table border=\"1\" class=\"dataframe\">\n",
       "  <thead>\n",
       "    <tr style=\"text-align: right;\">\n",
       "      <th></th>\n",
       "      <th>No</th>\n",
       "      <th>Provinsi</th>\n",
       "      <th>Sekolah</th>\n",
       "      <th>Guru</th>\n",
       "      <th>Murid</th>\n",
       "      <th>Label</th>\n",
       "    </tr>\n",
       "  </thead>\n",
       "  <tbody>\n",
       "    <tr>\n",
       "      <th>1</th>\n",
       "      <td>2</td>\n",
       "      <td>Sumatera Utara</td>\n",
       "      <td>9782</td>\n",
       "      <td>109585</td>\n",
       "      <td>1548652</td>\n",
       "      <td>0</td>\n",
       "    </tr>\n",
       "    <tr>\n",
       "      <th>11</th>\n",
       "      <td>12</td>\n",
       "      <td>Jawa Barat</td>\n",
       "      <td>19659</td>\n",
       "      <td>212849</td>\n",
       "      <td>4450934</td>\n",
       "      <td>0</td>\n",
       "    </tr>\n",
       "    <tr>\n",
       "      <th>12</th>\n",
       "      <td>13</td>\n",
       "      <td>Jawa Tengah</td>\n",
       "      <td>18760</td>\n",
       "      <td>173671</td>\n",
       "      <td>2631174</td>\n",
       "      <td>0</td>\n",
       "    </tr>\n",
       "    <tr>\n",
       "      <th>14</th>\n",
       "      <td>15</td>\n",
       "      <td>Jawa Timur</td>\n",
       "      <td>19007</td>\n",
       "      <td>186798</td>\n",
       "      <td>2579913</td>\n",
       "      <td>0</td>\n",
       "    </tr>\n",
       "  </tbody>\n",
       "</table>\n",
       "</div>"
      ],
      "text/plain": [
       "    No        Provinsi  Sekolah    Guru    Murid  Label\n",
       "1    2  Sumatera Utara     9782  109585  1548652      0\n",
       "11  12      Jawa Barat    19659  212849  4450934      0\n",
       "12  13     Jawa Tengah    18760  173671  2631174      0\n",
       "14  15      Jawa Timur    19007  186798  2579913      0"
      ]
     },
     "execution_count": 279,
     "metadata": {},
     "output_type": "execute_result"
    }
   ],
   "source": [
    "df_outlier"
   ]
  },
  {
   "cell_type": "code",
   "execution_count": 280,
   "id": "fd001a6f",
   "metadata": {},
   "outputs": [],
   "source": [
    "df_new = df_clear.append(df_outlier).sort_values('No')"
   ]
  },
  {
   "cell_type": "code",
   "execution_count": 281,
   "id": "ffaca869",
   "metadata": {},
   "outputs": [
    {
     "data": {
      "text/html": [
       "<div>\n",
       "<style scoped>\n",
       "    .dataframe tbody tr th:only-of-type {\n",
       "        vertical-align: middle;\n",
       "    }\n",
       "\n",
       "    .dataframe tbody tr th {\n",
       "        vertical-align: top;\n",
       "    }\n",
       "\n",
       "    .dataframe thead th {\n",
       "        text-align: right;\n",
       "    }\n",
       "</style>\n",
       "<table border=\"1\" class=\"dataframe\">\n",
       "  <thead>\n",
       "    <tr style=\"text-align: right;\">\n",
       "      <th></th>\n",
       "      <th>No</th>\n",
       "      <th>Provinsi</th>\n",
       "      <th>Sekolah</th>\n",
       "      <th>Guru</th>\n",
       "      <th>Murid</th>\n",
       "      <th>Label</th>\n",
       "    </tr>\n",
       "  </thead>\n",
       "  <tbody>\n",
       "    <tr>\n",
       "      <th>0</th>\n",
       "      <td>1</td>\n",
       "      <td>Aceh</td>\n",
       "      <td>3529</td>\n",
       "      <td>48541</td>\n",
       "      <td>486958</td>\n",
       "      <td>1</td>\n",
       "    </tr>\n",
       "    <tr>\n",
       "      <th>1</th>\n",
       "      <td>2</td>\n",
       "      <td>Sumatera Utara</td>\n",
       "      <td>9782</td>\n",
       "      <td>109585</td>\n",
       "      <td>1548652</td>\n",
       "      <td>0</td>\n",
       "    </tr>\n",
       "    <tr>\n",
       "      <th>2</th>\n",
       "      <td>3</td>\n",
       "      <td>Sumatera Barat</td>\n",
       "      <td>4260</td>\n",
       "      <td>46833</td>\n",
       "      <td>597218</td>\n",
       "      <td>1</td>\n",
       "    </tr>\n",
       "    <tr>\n",
       "      <th>3</th>\n",
       "      <td>4</td>\n",
       "      <td>Riau</td>\n",
       "      <td>3791</td>\n",
       "      <td>51378</td>\n",
       "      <td>773526</td>\n",
       "      <td>0</td>\n",
       "    </tr>\n",
       "    <tr>\n",
       "      <th>4</th>\n",
       "      <td>5</td>\n",
       "      <td>Jambi</td>\n",
       "      <td>2463</td>\n",
       "      <td>27161</td>\n",
       "      <td>368694</td>\n",
       "      <td>1</td>\n",
       "    </tr>\n",
       "    <tr>\n",
       "      <th>5</th>\n",
       "      <td>6</td>\n",
       "      <td>Sumatera Selatan</td>\n",
       "      <td>4696</td>\n",
       "      <td>59861</td>\n",
       "      <td>882534</td>\n",
       "      <td>0</td>\n",
       "    </tr>\n",
       "    <tr>\n",
       "      <th>6</th>\n",
       "      <td>7</td>\n",
       "      <td>Bengkulu</td>\n",
       "      <td>1398</td>\n",
       "      <td>16035</td>\n",
       "      <td>194381</td>\n",
       "      <td>2</td>\n",
       "    </tr>\n",
       "    <tr>\n",
       "      <th>7</th>\n",
       "      <td>8</td>\n",
       "      <td>Lampung</td>\n",
       "      <td>4732</td>\n",
       "      <td>57711</td>\n",
       "      <td>799619</td>\n",
       "      <td>0</td>\n",
       "    </tr>\n",
       "    <tr>\n",
       "      <th>8</th>\n",
       "      <td>9</td>\n",
       "      <td>Kepulauan Bangka Belitung</td>\n",
       "      <td>832</td>\n",
       "      <td>9678</td>\n",
       "      <td>162722</td>\n",
       "      <td>2</td>\n",
       "    </tr>\n",
       "    <tr>\n",
       "      <th>9</th>\n",
       "      <td>10</td>\n",
       "      <td>Kepulauan Riau</td>\n",
       "      <td>973</td>\n",
       "      <td>14033</td>\n",
       "      <td>225575</td>\n",
       "      <td>2</td>\n",
       "    </tr>\n",
       "    <tr>\n",
       "      <th>10</th>\n",
       "      <td>11</td>\n",
       "      <td>DKI Jakarta</td>\n",
       "      <td>2239</td>\n",
       "      <td>40344</td>\n",
       "      <td>765090</td>\n",
       "      <td>0</td>\n",
       "    </tr>\n",
       "    <tr>\n",
       "      <th>11</th>\n",
       "      <td>12</td>\n",
       "      <td>Jawa Barat</td>\n",
       "      <td>19659</td>\n",
       "      <td>212849</td>\n",
       "      <td>4450934</td>\n",
       "      <td>0</td>\n",
       "    </tr>\n",
       "    <tr>\n",
       "      <th>12</th>\n",
       "      <td>13</td>\n",
       "      <td>Jawa Tengah</td>\n",
       "      <td>18760</td>\n",
       "      <td>173671</td>\n",
       "      <td>2631174</td>\n",
       "      <td>0</td>\n",
       "    </tr>\n",
       "    <tr>\n",
       "      <th>13</th>\n",
       "      <td>14</td>\n",
       "      <td>DI Yogyakarta</td>\n",
       "      <td>1848</td>\n",
       "      <td>20455</td>\n",
       "      <td>274438</td>\n",
       "      <td>2</td>\n",
       "    </tr>\n",
       "    <tr>\n",
       "      <th>14</th>\n",
       "      <td>15</td>\n",
       "      <td>Jawa Timur</td>\n",
       "      <td>19007</td>\n",
       "      <td>186798</td>\n",
       "      <td>2579913</td>\n",
       "      <td>0</td>\n",
       "    </tr>\n",
       "    <tr>\n",
       "      <th>15</th>\n",
       "      <td>16</td>\n",
       "      <td>Banten</td>\n",
       "      <td>4634</td>\n",
       "      <td>56887</td>\n",
       "      <td>1185883</td>\n",
       "      <td>0</td>\n",
       "    </tr>\n",
       "    <tr>\n",
       "      <th>16</th>\n",
       "      <td>17</td>\n",
       "      <td>Bali</td>\n",
       "      <td>2416</td>\n",
       "      <td>25719</td>\n",
       "      <td>382864</td>\n",
       "      <td>1</td>\n",
       "    </tr>\n",
       "    <tr>\n",
       "      <th>17</th>\n",
       "      <td>18</td>\n",
       "      <td>Nusa Tenggara Barat</td>\n",
       "      <td>3309</td>\n",
       "      <td>42159</td>\n",
       "      <td>509469</td>\n",
       "      <td>1</td>\n",
       "    </tr>\n",
       "    <tr>\n",
       "      <th>18</th>\n",
       "      <td>19</td>\n",
       "      <td>Nusa Tenggara Timur</td>\n",
       "      <td>5203</td>\n",
       "      <td>54285</td>\n",
       "      <td>669225</td>\n",
       "      <td>0</td>\n",
       "    </tr>\n",
       "    <tr>\n",
       "      <th>19</th>\n",
       "      <td>20</td>\n",
       "      <td>Kalimantan Barat</td>\n",
       "      <td>4438</td>\n",
       "      <td>39540</td>\n",
       "      <td>565648</td>\n",
       "      <td>1</td>\n",
       "    </tr>\n",
       "    <tr>\n",
       "      <th>20</th>\n",
       "      <td>21</td>\n",
       "      <td>Kalimantan Tengah</td>\n",
       "      <td>2648</td>\n",
       "      <td>25485</td>\n",
       "      <td>275040</td>\n",
       "      <td>2</td>\n",
       "    </tr>\n",
       "    <tr>\n",
       "      <th>21</th>\n",
       "      <td>22</td>\n",
       "      <td>Kalimantan Selatan</td>\n",
       "      <td>2915</td>\n",
       "      <td>30182</td>\n",
       "      <td>356919</td>\n",
       "      <td>1</td>\n",
       "    </tr>\n",
       "    <tr>\n",
       "      <th>22</th>\n",
       "      <td>23</td>\n",
       "      <td>Kalimantan Timur</td>\n",
       "      <td>1919</td>\n",
       "      <td>26112</td>\n",
       "      <td>412229</td>\n",
       "      <td>1</td>\n",
       "    </tr>\n",
       "    <tr>\n",
       "      <th>23</th>\n",
       "      <td>24</td>\n",
       "      <td>Kalimantan Utara</td>\n",
       "      <td>485</td>\n",
       "      <td>6095</td>\n",
       "      <td>78529</td>\n",
       "      <td>2</td>\n",
       "    </tr>\n",
       "    <tr>\n",
       "      <th>24</th>\n",
       "      <td>25</td>\n",
       "      <td>Sulawesi Utara</td>\n",
       "      <td>2203</td>\n",
       "      <td>18795</td>\n",
       "      <td>215237</td>\n",
       "      <td>2</td>\n",
       "    </tr>\n",
       "    <tr>\n",
       "      <th>25</th>\n",
       "      <td>26</td>\n",
       "      <td>Sulawesi Tengah</td>\n",
       "      <td>2926</td>\n",
       "      <td>27175</td>\n",
       "      <td>307722</td>\n",
       "      <td>2</td>\n",
       "    </tr>\n",
       "    <tr>\n",
       "      <th>26</th>\n",
       "      <td>27</td>\n",
       "      <td>Sulawesi Selatan</td>\n",
       "      <td>6438</td>\n",
       "      <td>70404</td>\n",
       "      <td>880177</td>\n",
       "      <td>0</td>\n",
       "    </tr>\n",
       "    <tr>\n",
       "      <th>27</th>\n",
       "      <td>28</td>\n",
       "      <td>Sulawesi Tenggara</td>\n",
       "      <td>2345</td>\n",
       "      <td>25567</td>\n",
       "      <td>291723</td>\n",
       "      <td>2</td>\n",
       "    </tr>\n",
       "    <tr>\n",
       "      <th>28</th>\n",
       "      <td>29</td>\n",
       "      <td>Gorontalo</td>\n",
       "      <td>928</td>\n",
       "      <td>8392</td>\n",
       "      <td>108142</td>\n",
       "      <td>2</td>\n",
       "    </tr>\n",
       "    <tr>\n",
       "      <th>29</th>\n",
       "      <td>30</td>\n",
       "      <td>Sulawesi Barat</td>\n",
       "      <td>1326</td>\n",
       "      <td>13755</td>\n",
       "      <td>143993</td>\n",
       "      <td>2</td>\n",
       "    </tr>\n",
       "    <tr>\n",
       "      <th>30</th>\n",
       "      <td>31</td>\n",
       "      <td>Maluku</td>\n",
       "      <td>1812</td>\n",
       "      <td>17969</td>\n",
       "      <td>207996</td>\n",
       "      <td>2</td>\n",
       "    </tr>\n",
       "    <tr>\n",
       "      <th>31</th>\n",
       "      <td>32</td>\n",
       "      <td>Maluku Utara</td>\n",
       "      <td>1315</td>\n",
       "      <td>12037</td>\n",
       "      <td>140564</td>\n",
       "      <td>2</td>\n",
       "    </tr>\n",
       "    <tr>\n",
       "      <th>32</th>\n",
       "      <td>33</td>\n",
       "      <td>Papua Barat</td>\n",
       "      <td>1104</td>\n",
       "      <td>9791</td>\n",
       "      <td>131171</td>\n",
       "      <td>2</td>\n",
       "    </tr>\n",
       "    <tr>\n",
       "      <th>33</th>\n",
       "      <td>34</td>\n",
       "      <td>Papua</td>\n",
       "      <td>2642</td>\n",
       "      <td>20227</td>\n",
       "      <td>472552</td>\n",
       "      <td>1</td>\n",
       "    </tr>\n",
       "  </tbody>\n",
       "</table>\n",
       "</div>"
      ],
      "text/plain": [
       "    No                   Provinsi  Sekolah    Guru    Murid  Label\n",
       "0    1                       Aceh     3529   48541   486958      1\n",
       "1    2             Sumatera Utara     9782  109585  1548652      0\n",
       "2    3             Sumatera Barat     4260   46833   597218      1\n",
       "3    4                       Riau     3791   51378   773526      0\n",
       "4    5                      Jambi     2463   27161   368694      1\n",
       "5    6           Sumatera Selatan     4696   59861   882534      0\n",
       "6    7                   Bengkulu     1398   16035   194381      2\n",
       "7    8                    Lampung     4732   57711   799619      0\n",
       "8    9  Kepulauan Bangka Belitung      832    9678   162722      2\n",
       "9   10             Kepulauan Riau      973   14033   225575      2\n",
       "10  11                DKI Jakarta     2239   40344   765090      0\n",
       "11  12                 Jawa Barat    19659  212849  4450934      0\n",
       "12  13                Jawa Tengah    18760  173671  2631174      0\n",
       "13  14              DI Yogyakarta     1848   20455   274438      2\n",
       "14  15                 Jawa Timur    19007  186798  2579913      0\n",
       "15  16                     Banten     4634   56887  1185883      0\n",
       "16  17                       Bali     2416   25719   382864      1\n",
       "17  18        Nusa Tenggara Barat     3309   42159   509469      1\n",
       "18  19        Nusa Tenggara Timur     5203   54285   669225      0\n",
       "19  20           Kalimantan Barat     4438   39540   565648      1\n",
       "20  21          Kalimantan Tengah     2648   25485   275040      2\n",
       "21  22         Kalimantan Selatan     2915   30182   356919      1\n",
       "22  23           Kalimantan Timur     1919   26112   412229      1\n",
       "23  24           Kalimantan Utara      485    6095    78529      2\n",
       "24  25             Sulawesi Utara     2203   18795   215237      2\n",
       "25  26            Sulawesi Tengah     2926   27175   307722      2\n",
       "26  27           Sulawesi Selatan     6438   70404   880177      0\n",
       "27  28          Sulawesi Tenggara     2345   25567   291723      2\n",
       "28  29                  Gorontalo      928    8392   108142      2\n",
       "29  30             Sulawesi Barat     1326   13755   143993      2\n",
       "30  31                     Maluku     1812   17969   207996      2\n",
       "31  32               Maluku Utara     1315   12037   140564      2\n",
       "32  33                Papua Barat     1104    9791   131171      2\n",
       "33  34                      Papua     2642   20227   472552      1"
      ]
     },
     "execution_count": 281,
     "metadata": {},
     "output_type": "execute_result"
    }
   ],
   "source": [
    "df_new"
   ]
  },
  {
   "cell_type": "markdown",
   "id": "28d821be",
   "metadata": {},
   "source": [
    "### Analisis Hasil Klasterisasi"
   ]
  },
  {
   "cell_type": "markdown",
   "id": "e09a5c97",
   "metadata": {},
   "source": [
    "Pada analisis ini akan ditampilkan dua skenario, yang pertama adalah dengan penghapusan outlier, kedua tanpa penghapusan outlier dengan pertimbangan bahwa provinsi yang masuk outlier memang sangat mendominasi "
   ]
  },
  {
   "cell_type": "markdown",
   "id": "c7f62fca",
   "metadata": {},
   "source": [
    "#### Dengan Outlier"
   ]
  },
  {
   "cell_type": "code",
   "execution_count": 282,
   "id": "0e2d1c24",
   "metadata": {},
   "outputs": [
    {
     "data": {
      "application/vnd.plotly.v1+json": {
       "config": {
        "plotlyServerURL": "https://plot.ly"
       },
       "data": [
        {
         "hovertemplate": "Guru=%{x}<br>Murid=%{y}<br>Sekolah=%{z}<br>Provinsi=%{text}<br>Label=%{marker.color}<extra></extra>",
         "legendgroup": "",
         "marker": {
          "color": [
           1,
           0,
           1,
           0,
           1,
           0,
           2,
           0,
           2,
           2,
           0,
           0,
           0,
           2,
           0,
           0,
           1,
           1,
           0,
           1,
           2,
           1,
           1,
           2,
           2,
           2,
           0,
           2,
           2,
           2,
           2,
           2,
           2,
           1
          ],
          "coloraxis": "coloraxis",
          "symbol": "circle"
         },
         "mode": "markers+text",
         "name": "",
         "scene": "scene",
         "showlegend": false,
         "text": [
          "Aceh",
          "Sumatera Utara",
          "Sumatera Barat",
          "Riau",
          "Jambi",
          "Sumatera Selatan",
          "Bengkulu",
          "Lampung",
          "Kepulauan Bangka Belitung",
          "Kepulauan Riau",
          "DKI Jakarta",
          "Jawa Barat",
          "Jawa Tengah",
          "DI Yogyakarta",
          "Jawa Timur",
          "Banten",
          "Bali",
          "Nusa Tenggara Barat",
          "Nusa Tenggara Timur",
          "Kalimantan Barat",
          "Kalimantan Tengah",
          "Kalimantan Selatan",
          "Kalimantan Timur",
          "Kalimantan Utara",
          "Sulawesi Utara",
          "Sulawesi Tengah",
          "Sulawesi Selatan",
          "Sulawesi Tenggara",
          "Gorontalo",
          "Sulawesi Barat",
          "Maluku",
          "Maluku Utara",
          "Papua Barat",
          "Papua"
         ],
         "type": "scatter3d",
         "x": [
          48541,
          109585,
          46833,
          51378,
          27161,
          59861,
          16035,
          57711,
          9678,
          14033,
          40344,
          212849,
          173671,
          20455,
          186798,
          56887,
          25719,
          42159,
          54285,
          39540,
          25485,
          30182,
          26112,
          6095,
          18795,
          27175,
          70404,
          25567,
          8392,
          13755,
          17969,
          12037,
          9791,
          20227
         ],
         "y": [
          486958,
          1548652,
          597218,
          773526,
          368694,
          882534,
          194381,
          799619,
          162722,
          225575,
          765090,
          4450934,
          2631174,
          274438,
          2579913,
          1185883,
          382864,
          509469,
          669225,
          565648,
          275040,
          356919,
          412229,
          78529,
          215237,
          307722,
          880177,
          291723,
          108142,
          143993,
          207996,
          140564,
          131171,
          472552
         ],
         "z": [
          3529,
          9782,
          4260,
          3791,
          2463,
          4696,
          1398,
          4732,
          832,
          973,
          2239,
          19659,
          18760,
          1848,
          19007,
          4634,
          2416,
          3309,
          5203,
          4438,
          2648,
          2915,
          1919,
          485,
          2203,
          2926,
          6438,
          2345,
          928,
          1326,
          1812,
          1315,
          1104,
          2642
         ]
        }
       ],
       "layout": {
        "coloraxis": {
         "colorbar": {
          "title": {
           "text": "Label"
          }
         },
         "colorscale": [
          [
           0,
           "#0d0887"
          ],
          [
           0.1111111111111111,
           "#46039f"
          ],
          [
           0.2222222222222222,
           "#7201a8"
          ],
          [
           0.3333333333333333,
           "#9c179e"
          ],
          [
           0.4444444444444444,
           "#bd3786"
          ],
          [
           0.5555555555555556,
           "#d8576b"
          ],
          [
           0.6666666666666666,
           "#ed7953"
          ],
          [
           0.7777777777777778,
           "#fb9f3a"
          ],
          [
           0.8888888888888888,
           "#fdca26"
          ],
          [
           1,
           "#f0f921"
          ]
         ]
        },
        "legend": {
         "tracegroupgap": 0
        },
        "scene": {
         "domain": {
          "x": [
           0,
           1
          ],
          "y": [
           0,
           1
          ]
         },
         "xaxis": {
          "title": {
           "text": "Guru"
          }
         },
         "yaxis": {
          "title": {
           "text": "Murid"
          }
         },
         "zaxis": {
          "title": {
           "text": "Sekolah"
          }
         }
        },
        "showlegend": true,
        "template": {
         "data": {
          "bar": [
           {
            "error_x": {
             "color": "#2a3f5f"
            },
            "error_y": {
             "color": "#2a3f5f"
            },
            "marker": {
             "line": {
              "color": "#E5ECF6",
              "width": 0.5
             },
             "pattern": {
              "fillmode": "overlay",
              "size": 10,
              "solidity": 0.2
             }
            },
            "type": "bar"
           }
          ],
          "barpolar": [
           {
            "marker": {
             "line": {
              "color": "#E5ECF6",
              "width": 0.5
             },
             "pattern": {
              "fillmode": "overlay",
              "size": 10,
              "solidity": 0.2
             }
            },
            "type": "barpolar"
           }
          ],
          "carpet": [
           {
            "aaxis": {
             "endlinecolor": "#2a3f5f",
             "gridcolor": "white",
             "linecolor": "white",
             "minorgridcolor": "white",
             "startlinecolor": "#2a3f5f"
            },
            "baxis": {
             "endlinecolor": "#2a3f5f",
             "gridcolor": "white",
             "linecolor": "white",
             "minorgridcolor": "white",
             "startlinecolor": "#2a3f5f"
            },
            "type": "carpet"
           }
          ],
          "choropleth": [
           {
            "colorbar": {
             "outlinewidth": 0,
             "ticks": ""
            },
            "type": "choropleth"
           }
          ],
          "contour": [
           {
            "colorbar": {
             "outlinewidth": 0,
             "ticks": ""
            },
            "colorscale": [
             [
              0,
              "#0d0887"
             ],
             [
              0.1111111111111111,
              "#46039f"
             ],
             [
              0.2222222222222222,
              "#7201a8"
             ],
             [
              0.3333333333333333,
              "#9c179e"
             ],
             [
              0.4444444444444444,
              "#bd3786"
             ],
             [
              0.5555555555555556,
              "#d8576b"
             ],
             [
              0.6666666666666666,
              "#ed7953"
             ],
             [
              0.7777777777777778,
              "#fb9f3a"
             ],
             [
              0.8888888888888888,
              "#fdca26"
             ],
             [
              1,
              "#f0f921"
             ]
            ],
            "type": "contour"
           }
          ],
          "contourcarpet": [
           {
            "colorbar": {
             "outlinewidth": 0,
             "ticks": ""
            },
            "type": "contourcarpet"
           }
          ],
          "heatmap": [
           {
            "colorbar": {
             "outlinewidth": 0,
             "ticks": ""
            },
            "colorscale": [
             [
              0,
              "#0d0887"
             ],
             [
              0.1111111111111111,
              "#46039f"
             ],
             [
              0.2222222222222222,
              "#7201a8"
             ],
             [
              0.3333333333333333,
              "#9c179e"
             ],
             [
              0.4444444444444444,
              "#bd3786"
             ],
             [
              0.5555555555555556,
              "#d8576b"
             ],
             [
              0.6666666666666666,
              "#ed7953"
             ],
             [
              0.7777777777777778,
              "#fb9f3a"
             ],
             [
              0.8888888888888888,
              "#fdca26"
             ],
             [
              1,
              "#f0f921"
             ]
            ],
            "type": "heatmap"
           }
          ],
          "heatmapgl": [
           {
            "colorbar": {
             "outlinewidth": 0,
             "ticks": ""
            },
            "colorscale": [
             [
              0,
              "#0d0887"
             ],
             [
              0.1111111111111111,
              "#46039f"
             ],
             [
              0.2222222222222222,
              "#7201a8"
             ],
             [
              0.3333333333333333,
              "#9c179e"
             ],
             [
              0.4444444444444444,
              "#bd3786"
             ],
             [
              0.5555555555555556,
              "#d8576b"
             ],
             [
              0.6666666666666666,
              "#ed7953"
             ],
             [
              0.7777777777777778,
              "#fb9f3a"
             ],
             [
              0.8888888888888888,
              "#fdca26"
             ],
             [
              1,
              "#f0f921"
             ]
            ],
            "type": "heatmapgl"
           }
          ],
          "histogram": [
           {
            "marker": {
             "pattern": {
              "fillmode": "overlay",
              "size": 10,
              "solidity": 0.2
             }
            },
            "type": "histogram"
           }
          ],
          "histogram2d": [
           {
            "colorbar": {
             "outlinewidth": 0,
             "ticks": ""
            },
            "colorscale": [
             [
              0,
              "#0d0887"
             ],
             [
              0.1111111111111111,
              "#46039f"
             ],
             [
              0.2222222222222222,
              "#7201a8"
             ],
             [
              0.3333333333333333,
              "#9c179e"
             ],
             [
              0.4444444444444444,
              "#bd3786"
             ],
             [
              0.5555555555555556,
              "#d8576b"
             ],
             [
              0.6666666666666666,
              "#ed7953"
             ],
             [
              0.7777777777777778,
              "#fb9f3a"
             ],
             [
              0.8888888888888888,
              "#fdca26"
             ],
             [
              1,
              "#f0f921"
             ]
            ],
            "type": "histogram2d"
           }
          ],
          "histogram2dcontour": [
           {
            "colorbar": {
             "outlinewidth": 0,
             "ticks": ""
            },
            "colorscale": [
             [
              0,
              "#0d0887"
             ],
             [
              0.1111111111111111,
              "#46039f"
             ],
             [
              0.2222222222222222,
              "#7201a8"
             ],
             [
              0.3333333333333333,
              "#9c179e"
             ],
             [
              0.4444444444444444,
              "#bd3786"
             ],
             [
              0.5555555555555556,
              "#d8576b"
             ],
             [
              0.6666666666666666,
              "#ed7953"
             ],
             [
              0.7777777777777778,
              "#fb9f3a"
             ],
             [
              0.8888888888888888,
              "#fdca26"
             ],
             [
              1,
              "#f0f921"
             ]
            ],
            "type": "histogram2dcontour"
           }
          ],
          "mesh3d": [
           {
            "colorbar": {
             "outlinewidth": 0,
             "ticks": ""
            },
            "type": "mesh3d"
           }
          ],
          "parcoords": [
           {
            "line": {
             "colorbar": {
              "outlinewidth": 0,
              "ticks": ""
             }
            },
            "type": "parcoords"
           }
          ],
          "pie": [
           {
            "automargin": true,
            "type": "pie"
           }
          ],
          "scatter": [
           {
            "fillpattern": {
             "fillmode": "overlay",
             "size": 10,
             "solidity": 0.2
            },
            "type": "scatter"
           }
          ],
          "scatter3d": [
           {
            "line": {
             "colorbar": {
              "outlinewidth": 0,
              "ticks": ""
             }
            },
            "marker": {
             "colorbar": {
              "outlinewidth": 0,
              "ticks": ""
             }
            },
            "type": "scatter3d"
           }
          ],
          "scattercarpet": [
           {
            "marker": {
             "colorbar": {
              "outlinewidth": 0,
              "ticks": ""
             }
            },
            "type": "scattercarpet"
           }
          ],
          "scattergeo": [
           {
            "marker": {
             "colorbar": {
              "outlinewidth": 0,
              "ticks": ""
             }
            },
            "type": "scattergeo"
           }
          ],
          "scattergl": [
           {
            "marker": {
             "colorbar": {
              "outlinewidth": 0,
              "ticks": ""
             }
            },
            "type": "scattergl"
           }
          ],
          "scattermapbox": [
           {
            "marker": {
             "colorbar": {
              "outlinewidth": 0,
              "ticks": ""
             }
            },
            "type": "scattermapbox"
           }
          ],
          "scatterpolar": [
           {
            "marker": {
             "colorbar": {
              "outlinewidth": 0,
              "ticks": ""
             }
            },
            "type": "scatterpolar"
           }
          ],
          "scatterpolargl": [
           {
            "marker": {
             "colorbar": {
              "outlinewidth": 0,
              "ticks": ""
             }
            },
            "type": "scatterpolargl"
           }
          ],
          "scatterternary": [
           {
            "marker": {
             "colorbar": {
              "outlinewidth": 0,
              "ticks": ""
             }
            },
            "type": "scatterternary"
           }
          ],
          "surface": [
           {
            "colorbar": {
             "outlinewidth": 0,
             "ticks": ""
            },
            "colorscale": [
             [
              0,
              "#0d0887"
             ],
             [
              0.1111111111111111,
              "#46039f"
             ],
             [
              0.2222222222222222,
              "#7201a8"
             ],
             [
              0.3333333333333333,
              "#9c179e"
             ],
             [
              0.4444444444444444,
              "#bd3786"
             ],
             [
              0.5555555555555556,
              "#d8576b"
             ],
             [
              0.6666666666666666,
              "#ed7953"
             ],
             [
              0.7777777777777778,
              "#fb9f3a"
             ],
             [
              0.8888888888888888,
              "#fdca26"
             ],
             [
              1,
              "#f0f921"
             ]
            ],
            "type": "surface"
           }
          ],
          "table": [
           {
            "cells": {
             "fill": {
              "color": "#EBF0F8"
             },
             "line": {
              "color": "white"
             }
            },
            "header": {
             "fill": {
              "color": "#C8D4E3"
             },
             "line": {
              "color": "white"
             }
            },
            "type": "table"
           }
          ]
         },
         "layout": {
          "annotationdefaults": {
           "arrowcolor": "#2a3f5f",
           "arrowhead": 0,
           "arrowwidth": 1
          },
          "autotypenumbers": "strict",
          "coloraxis": {
           "colorbar": {
            "outlinewidth": 0,
            "ticks": ""
           }
          },
          "colorscale": {
           "diverging": [
            [
             0,
             "#8e0152"
            ],
            [
             0.1,
             "#c51b7d"
            ],
            [
             0.2,
             "#de77ae"
            ],
            [
             0.3,
             "#f1b6da"
            ],
            [
             0.4,
             "#fde0ef"
            ],
            [
             0.5,
             "#f7f7f7"
            ],
            [
             0.6,
             "#e6f5d0"
            ],
            [
             0.7,
             "#b8e186"
            ],
            [
             0.8,
             "#7fbc41"
            ],
            [
             0.9,
             "#4d9221"
            ],
            [
             1,
             "#276419"
            ]
           ],
           "sequential": [
            [
             0,
             "#0d0887"
            ],
            [
             0.1111111111111111,
             "#46039f"
            ],
            [
             0.2222222222222222,
             "#7201a8"
            ],
            [
             0.3333333333333333,
             "#9c179e"
            ],
            [
             0.4444444444444444,
             "#bd3786"
            ],
            [
             0.5555555555555556,
             "#d8576b"
            ],
            [
             0.6666666666666666,
             "#ed7953"
            ],
            [
             0.7777777777777778,
             "#fb9f3a"
            ],
            [
             0.8888888888888888,
             "#fdca26"
            ],
            [
             1,
             "#f0f921"
            ]
           ],
           "sequentialminus": [
            [
             0,
             "#0d0887"
            ],
            [
             0.1111111111111111,
             "#46039f"
            ],
            [
             0.2222222222222222,
             "#7201a8"
            ],
            [
             0.3333333333333333,
             "#9c179e"
            ],
            [
             0.4444444444444444,
             "#bd3786"
            ],
            [
             0.5555555555555556,
             "#d8576b"
            ],
            [
             0.6666666666666666,
             "#ed7953"
            ],
            [
             0.7777777777777778,
             "#fb9f3a"
            ],
            [
             0.8888888888888888,
             "#fdca26"
            ],
            [
             1,
             "#f0f921"
            ]
           ]
          },
          "colorway": [
           "#636efa",
           "#EF553B",
           "#00cc96",
           "#ab63fa",
           "#FFA15A",
           "#19d3f3",
           "#FF6692",
           "#B6E880",
           "#FF97FF",
           "#FECB52"
          ],
          "font": {
           "color": "#2a3f5f"
          },
          "geo": {
           "bgcolor": "white",
           "lakecolor": "white",
           "landcolor": "#E5ECF6",
           "showlakes": true,
           "showland": true,
           "subunitcolor": "white"
          },
          "hoverlabel": {
           "align": "left"
          },
          "hovermode": "closest",
          "mapbox": {
           "style": "light"
          },
          "paper_bgcolor": "white",
          "plot_bgcolor": "#E5ECF6",
          "polar": {
           "angularaxis": {
            "gridcolor": "white",
            "linecolor": "white",
            "ticks": ""
           },
           "bgcolor": "#E5ECF6",
           "radialaxis": {
            "gridcolor": "white",
            "linecolor": "white",
            "ticks": ""
           }
          },
          "scene": {
           "xaxis": {
            "backgroundcolor": "#E5ECF6",
            "gridcolor": "white",
            "gridwidth": 2,
            "linecolor": "white",
            "showbackground": true,
            "ticks": "",
            "zerolinecolor": "white"
           },
           "yaxis": {
            "backgroundcolor": "#E5ECF6",
            "gridcolor": "white",
            "gridwidth": 2,
            "linecolor": "white",
            "showbackground": true,
            "ticks": "",
            "zerolinecolor": "white"
           },
           "zaxis": {
            "backgroundcolor": "#E5ECF6",
            "gridcolor": "white",
            "gridwidth": 2,
            "linecolor": "white",
            "showbackground": true,
            "ticks": "",
            "zerolinecolor": "white"
           }
          },
          "shapedefaults": {
           "line": {
            "color": "#2a3f5f"
           }
          },
          "ternary": {
           "aaxis": {
            "gridcolor": "white",
            "linecolor": "white",
            "ticks": ""
           },
           "baxis": {
            "gridcolor": "white",
            "linecolor": "white",
            "ticks": ""
           },
           "bgcolor": "#E5ECF6",
           "caxis": {
            "gridcolor": "white",
            "linecolor": "white",
            "ticks": ""
           }
          },
          "title": {
           "x": 0.05
          },
          "xaxis": {
           "automargin": true,
           "gridcolor": "white",
           "linecolor": "white",
           "ticks": "",
           "title": {
            "standoff": 15
           },
           "zerolinecolor": "white",
           "zerolinewidth": 2
          },
          "yaxis": {
           "automargin": true,
           "gridcolor": "white",
           "linecolor": "white",
           "ticks": "",
           "title": {
            "standoff": 15
           },
           "zerolinecolor": "white",
           "zerolinewidth": 2
          }
         }
        },
        "title": {
         "text": "Sebaran Provinsi Berdasarkan Data Sekolah Dasar"
        }
       }
      },
      "text/html": [
       "<div>                            <div id=\"7a864260-b094-481e-ade5-19e83a2e8b6d\" class=\"plotly-graph-div\" style=\"height:525px; width:100%;\"></div>            <script type=\"text/javascript\">                require([\"plotly\"], function(Plotly) {                    window.PLOTLYENV=window.PLOTLYENV || {};                                    if (document.getElementById(\"7a864260-b094-481e-ade5-19e83a2e8b6d\")) {                    Plotly.newPlot(                        \"7a864260-b094-481e-ade5-19e83a2e8b6d\",                        [{\"hovertemplate\":\"Guru=%{x}<br>Murid=%{y}<br>Sekolah=%{z}<br>Provinsi=%{text}<br>Label=%{marker.color}<extra></extra>\",\"legendgroup\":\"\",\"marker\":{\"color\":[1,0,1,0,1,0,2,0,2,2,0,0,0,2,0,0,1,1,0,1,2,1,1,2,2,2,0,2,2,2,2,2,2,1],\"coloraxis\":\"coloraxis\",\"symbol\":\"circle\"},\"mode\":\"markers+text\",\"name\":\"\",\"scene\":\"scene\",\"showlegend\":false,\"text\":[\"Aceh\",\"Sumatera Utara\",\"Sumatera Barat\",\"Riau\",\"Jambi\",\"Sumatera Selatan\",\"Bengkulu\",\"Lampung\",\"Kepulauan Bangka Belitung\",\"Kepulauan Riau\",\"DKI Jakarta\",\"Jawa Barat\",\"Jawa Tengah\",\"DI Yogyakarta\",\"Jawa Timur\",\"Banten\",\"Bali\",\"Nusa Tenggara Barat\",\"Nusa Tenggara Timur\",\"Kalimantan Barat\",\"Kalimantan Tengah\",\"Kalimantan Selatan\",\"Kalimantan Timur\",\"Kalimantan Utara\",\"Sulawesi Utara\",\"Sulawesi Tengah\",\"Sulawesi Selatan\",\"Sulawesi Tenggara\",\"Gorontalo\",\"Sulawesi Barat\",\"Maluku\",\"Maluku Utara\",\"Papua Barat\",\"Papua\"],\"x\":[48541,109585,46833,51378,27161,59861,16035,57711,9678,14033,40344,212849,173671,20455,186798,56887,25719,42159,54285,39540,25485,30182,26112,6095,18795,27175,70404,25567,8392,13755,17969,12037,9791,20227],\"y\":[486958,1548652,597218,773526,368694,882534,194381,799619,162722,225575,765090,4450934,2631174,274438,2579913,1185883,382864,509469,669225,565648,275040,356919,412229,78529,215237,307722,880177,291723,108142,143993,207996,140564,131171,472552],\"z\":[3529,9782,4260,3791,2463,4696,1398,4732,832,973,2239,19659,18760,1848,19007,4634,2416,3309,5203,4438,2648,2915,1919,485,2203,2926,6438,2345,928,1326,1812,1315,1104,2642],\"type\":\"scatter3d\"}],                        {\"template\":{\"data\":{\"histogram2dcontour\":[{\"type\":\"histogram2dcontour\",\"colorbar\":{\"outlinewidth\":0,\"ticks\":\"\"},\"colorscale\":[[0.0,\"#0d0887\"],[0.1111111111111111,\"#46039f\"],[0.2222222222222222,\"#7201a8\"],[0.3333333333333333,\"#9c179e\"],[0.4444444444444444,\"#bd3786\"],[0.5555555555555556,\"#d8576b\"],[0.6666666666666666,\"#ed7953\"],[0.7777777777777778,\"#fb9f3a\"],[0.8888888888888888,\"#fdca26\"],[1.0,\"#f0f921\"]]}],\"choropleth\":[{\"type\":\"choropleth\",\"colorbar\":{\"outlinewidth\":0,\"ticks\":\"\"}}],\"histogram2d\":[{\"type\":\"histogram2d\",\"colorbar\":{\"outlinewidth\":0,\"ticks\":\"\"},\"colorscale\":[[0.0,\"#0d0887\"],[0.1111111111111111,\"#46039f\"],[0.2222222222222222,\"#7201a8\"],[0.3333333333333333,\"#9c179e\"],[0.4444444444444444,\"#bd3786\"],[0.5555555555555556,\"#d8576b\"],[0.6666666666666666,\"#ed7953\"],[0.7777777777777778,\"#fb9f3a\"],[0.8888888888888888,\"#fdca26\"],[1.0,\"#f0f921\"]]}],\"heatmap\":[{\"type\":\"heatmap\",\"colorbar\":{\"outlinewidth\":0,\"ticks\":\"\"},\"colorscale\":[[0.0,\"#0d0887\"],[0.1111111111111111,\"#46039f\"],[0.2222222222222222,\"#7201a8\"],[0.3333333333333333,\"#9c179e\"],[0.4444444444444444,\"#bd3786\"],[0.5555555555555556,\"#d8576b\"],[0.6666666666666666,\"#ed7953\"],[0.7777777777777778,\"#fb9f3a\"],[0.8888888888888888,\"#fdca26\"],[1.0,\"#f0f921\"]]}],\"heatmapgl\":[{\"type\":\"heatmapgl\",\"colorbar\":{\"outlinewidth\":0,\"ticks\":\"\"},\"colorscale\":[[0.0,\"#0d0887\"],[0.1111111111111111,\"#46039f\"],[0.2222222222222222,\"#7201a8\"],[0.3333333333333333,\"#9c179e\"],[0.4444444444444444,\"#bd3786\"],[0.5555555555555556,\"#d8576b\"],[0.6666666666666666,\"#ed7953\"],[0.7777777777777778,\"#fb9f3a\"],[0.8888888888888888,\"#fdca26\"],[1.0,\"#f0f921\"]]}],\"contourcarpet\":[{\"type\":\"contourcarpet\",\"colorbar\":{\"outlinewidth\":0,\"ticks\":\"\"}}],\"contour\":[{\"type\":\"contour\",\"colorbar\":{\"outlinewidth\":0,\"ticks\":\"\"},\"colorscale\":[[0.0,\"#0d0887\"],[0.1111111111111111,\"#46039f\"],[0.2222222222222222,\"#7201a8\"],[0.3333333333333333,\"#9c179e\"],[0.4444444444444444,\"#bd3786\"],[0.5555555555555556,\"#d8576b\"],[0.6666666666666666,\"#ed7953\"],[0.7777777777777778,\"#fb9f3a\"],[0.8888888888888888,\"#fdca26\"],[1.0,\"#f0f921\"]]}],\"surface\":[{\"type\":\"surface\",\"colorbar\":{\"outlinewidth\":0,\"ticks\":\"\"},\"colorscale\":[[0.0,\"#0d0887\"],[0.1111111111111111,\"#46039f\"],[0.2222222222222222,\"#7201a8\"],[0.3333333333333333,\"#9c179e\"],[0.4444444444444444,\"#bd3786\"],[0.5555555555555556,\"#d8576b\"],[0.6666666666666666,\"#ed7953\"],[0.7777777777777778,\"#fb9f3a\"],[0.8888888888888888,\"#fdca26\"],[1.0,\"#f0f921\"]]}],\"mesh3d\":[{\"type\":\"mesh3d\",\"colorbar\":{\"outlinewidth\":0,\"ticks\":\"\"}}],\"scatter\":[{\"fillpattern\":{\"fillmode\":\"overlay\",\"size\":10,\"solidity\":0.2},\"type\":\"scatter\"}],\"parcoords\":[{\"type\":\"parcoords\",\"line\":{\"colorbar\":{\"outlinewidth\":0,\"ticks\":\"\"}}}],\"scatterpolargl\":[{\"type\":\"scatterpolargl\",\"marker\":{\"colorbar\":{\"outlinewidth\":0,\"ticks\":\"\"}}}],\"bar\":[{\"error_x\":{\"color\":\"#2a3f5f\"},\"error_y\":{\"color\":\"#2a3f5f\"},\"marker\":{\"line\":{\"color\":\"#E5ECF6\",\"width\":0.5},\"pattern\":{\"fillmode\":\"overlay\",\"size\":10,\"solidity\":0.2}},\"type\":\"bar\"}],\"scattergeo\":[{\"type\":\"scattergeo\",\"marker\":{\"colorbar\":{\"outlinewidth\":0,\"ticks\":\"\"}}}],\"scatterpolar\":[{\"type\":\"scatterpolar\",\"marker\":{\"colorbar\":{\"outlinewidth\":0,\"ticks\":\"\"}}}],\"histogram\":[{\"marker\":{\"pattern\":{\"fillmode\":\"overlay\",\"size\":10,\"solidity\":0.2}},\"type\":\"histogram\"}],\"scattergl\":[{\"type\":\"scattergl\",\"marker\":{\"colorbar\":{\"outlinewidth\":0,\"ticks\":\"\"}}}],\"scatter3d\":[{\"type\":\"scatter3d\",\"line\":{\"colorbar\":{\"outlinewidth\":0,\"ticks\":\"\"}},\"marker\":{\"colorbar\":{\"outlinewidth\":0,\"ticks\":\"\"}}}],\"scattermapbox\":[{\"type\":\"scattermapbox\",\"marker\":{\"colorbar\":{\"outlinewidth\":0,\"ticks\":\"\"}}}],\"scatterternary\":[{\"type\":\"scatterternary\",\"marker\":{\"colorbar\":{\"outlinewidth\":0,\"ticks\":\"\"}}}],\"scattercarpet\":[{\"type\":\"scattercarpet\",\"marker\":{\"colorbar\":{\"outlinewidth\":0,\"ticks\":\"\"}}}],\"carpet\":[{\"aaxis\":{\"endlinecolor\":\"#2a3f5f\",\"gridcolor\":\"white\",\"linecolor\":\"white\",\"minorgridcolor\":\"white\",\"startlinecolor\":\"#2a3f5f\"},\"baxis\":{\"endlinecolor\":\"#2a3f5f\",\"gridcolor\":\"white\",\"linecolor\":\"white\",\"minorgridcolor\":\"white\",\"startlinecolor\":\"#2a3f5f\"},\"type\":\"carpet\"}],\"table\":[{\"cells\":{\"fill\":{\"color\":\"#EBF0F8\"},\"line\":{\"color\":\"white\"}},\"header\":{\"fill\":{\"color\":\"#C8D4E3\"},\"line\":{\"color\":\"white\"}},\"type\":\"table\"}],\"barpolar\":[{\"marker\":{\"line\":{\"color\":\"#E5ECF6\",\"width\":0.5},\"pattern\":{\"fillmode\":\"overlay\",\"size\":10,\"solidity\":0.2}},\"type\":\"barpolar\"}],\"pie\":[{\"automargin\":true,\"type\":\"pie\"}]},\"layout\":{\"autotypenumbers\":\"strict\",\"colorway\":[\"#636efa\",\"#EF553B\",\"#00cc96\",\"#ab63fa\",\"#FFA15A\",\"#19d3f3\",\"#FF6692\",\"#B6E880\",\"#FF97FF\",\"#FECB52\"],\"font\":{\"color\":\"#2a3f5f\"},\"hovermode\":\"closest\",\"hoverlabel\":{\"align\":\"left\"},\"paper_bgcolor\":\"white\",\"plot_bgcolor\":\"#E5ECF6\",\"polar\":{\"bgcolor\":\"#E5ECF6\",\"angularaxis\":{\"gridcolor\":\"white\",\"linecolor\":\"white\",\"ticks\":\"\"},\"radialaxis\":{\"gridcolor\":\"white\",\"linecolor\":\"white\",\"ticks\":\"\"}},\"ternary\":{\"bgcolor\":\"#E5ECF6\",\"aaxis\":{\"gridcolor\":\"white\",\"linecolor\":\"white\",\"ticks\":\"\"},\"baxis\":{\"gridcolor\":\"white\",\"linecolor\":\"white\",\"ticks\":\"\"},\"caxis\":{\"gridcolor\":\"white\",\"linecolor\":\"white\",\"ticks\":\"\"}},\"coloraxis\":{\"colorbar\":{\"outlinewidth\":0,\"ticks\":\"\"}},\"colorscale\":{\"sequential\":[[0.0,\"#0d0887\"],[0.1111111111111111,\"#46039f\"],[0.2222222222222222,\"#7201a8\"],[0.3333333333333333,\"#9c179e\"],[0.4444444444444444,\"#bd3786\"],[0.5555555555555556,\"#d8576b\"],[0.6666666666666666,\"#ed7953\"],[0.7777777777777778,\"#fb9f3a\"],[0.8888888888888888,\"#fdca26\"],[1.0,\"#f0f921\"]],\"sequentialminus\":[[0.0,\"#0d0887\"],[0.1111111111111111,\"#46039f\"],[0.2222222222222222,\"#7201a8\"],[0.3333333333333333,\"#9c179e\"],[0.4444444444444444,\"#bd3786\"],[0.5555555555555556,\"#d8576b\"],[0.6666666666666666,\"#ed7953\"],[0.7777777777777778,\"#fb9f3a\"],[0.8888888888888888,\"#fdca26\"],[1.0,\"#f0f921\"]],\"diverging\":[[0,\"#8e0152\"],[0.1,\"#c51b7d\"],[0.2,\"#de77ae\"],[0.3,\"#f1b6da\"],[0.4,\"#fde0ef\"],[0.5,\"#f7f7f7\"],[0.6,\"#e6f5d0\"],[0.7,\"#b8e186\"],[0.8,\"#7fbc41\"],[0.9,\"#4d9221\"],[1,\"#276419\"]]},\"xaxis\":{\"gridcolor\":\"white\",\"linecolor\":\"white\",\"ticks\":\"\",\"title\":{\"standoff\":15},\"zerolinecolor\":\"white\",\"automargin\":true,\"zerolinewidth\":2},\"yaxis\":{\"gridcolor\":\"white\",\"linecolor\":\"white\",\"ticks\":\"\",\"title\":{\"standoff\":15},\"zerolinecolor\":\"white\",\"automargin\":true,\"zerolinewidth\":2},\"scene\":{\"xaxis\":{\"backgroundcolor\":\"#E5ECF6\",\"gridcolor\":\"white\",\"linecolor\":\"white\",\"showbackground\":true,\"ticks\":\"\",\"zerolinecolor\":\"white\",\"gridwidth\":2},\"yaxis\":{\"backgroundcolor\":\"#E5ECF6\",\"gridcolor\":\"white\",\"linecolor\":\"white\",\"showbackground\":true,\"ticks\":\"\",\"zerolinecolor\":\"white\",\"gridwidth\":2},\"zaxis\":{\"backgroundcolor\":\"#E5ECF6\",\"gridcolor\":\"white\",\"linecolor\":\"white\",\"showbackground\":true,\"ticks\":\"\",\"zerolinecolor\":\"white\",\"gridwidth\":2}},\"shapedefaults\":{\"line\":{\"color\":\"#2a3f5f\"}},\"annotationdefaults\":{\"arrowcolor\":\"#2a3f5f\",\"arrowhead\":0,\"arrowwidth\":1},\"geo\":{\"bgcolor\":\"white\",\"landcolor\":\"#E5ECF6\",\"subunitcolor\":\"white\",\"showland\":true,\"showlakes\":true,\"lakecolor\":\"white\"},\"title\":{\"x\":0.05},\"mapbox\":{\"style\":\"light\"}}},\"scene\":{\"domain\":{\"x\":[0.0,1.0],\"y\":[0.0,1.0]},\"xaxis\":{\"title\":{\"text\":\"Guru\"}},\"yaxis\":{\"title\":{\"text\":\"Murid\"}},\"zaxis\":{\"title\":{\"text\":\"Sekolah\"}}},\"coloraxis\":{\"colorbar\":{\"title\":{\"text\":\"Label\"}},\"colorscale\":[[0.0,\"#0d0887\"],[0.1111111111111111,\"#46039f\"],[0.2222222222222222,\"#7201a8\"],[0.3333333333333333,\"#9c179e\"],[0.4444444444444444,\"#bd3786\"],[0.5555555555555556,\"#d8576b\"],[0.6666666666666666,\"#ed7953\"],[0.7777777777777778,\"#fb9f3a\"],[0.8888888888888888,\"#fdca26\"],[1.0,\"#f0f921\"]]},\"legend\":{\"tracegroupgap\":0},\"title\":{\"text\":\"Sebaran Provinsi Berdasarkan Data Sekolah Dasar\"},\"showlegend\":true},                        {\"responsive\": true}                    ).then(function(){\n",
       "                            \n",
       "var gd = document.getElementById('7a864260-b094-481e-ade5-19e83a2e8b6d');\n",
       "var x = new MutationObserver(function (mutations, observer) {{\n",
       "        var display = window.getComputedStyle(gd).display;\n",
       "        if (!display || display === 'none') {{\n",
       "            console.log([gd, 'removed!']);\n",
       "            Plotly.purge(gd);\n",
       "            observer.disconnect();\n",
       "        }}\n",
       "}});\n",
       "\n",
       "// Listen for the removal of the full notebook cells\n",
       "var notebookContainer = gd.closest('#notebook-container');\n",
       "if (notebookContainer) {{\n",
       "    x.observe(notebookContainer, {childList: true});\n",
       "}}\n",
       "\n",
       "// Listen for the clearing of the current output cell\n",
       "var outputEl = gd.closest('.output');\n",
       "if (outputEl) {{\n",
       "    x.observe(outputEl, {childList: true});\n",
       "}}\n",
       "\n",
       "                        })                };                });            </script>        </div>"
      ]
     },
     "metadata": {},
     "output_type": "display_data"
    }
   ],
   "source": [
    "figure = plotly_express.scatter_3d(df_new,\n",
    "                 x='Guru', y='Murid',\n",
    "                 z='Sekolah', color=\"Label\", text=\"Provinsi\",\n",
    "                 title=\"Sebaran Provinsi Berdasarkan Data Sekolah Dasar\")\n",
    " \n",
    "figure.update_layout(showlegend=True)\n",
    " \n",
    "figure.show()"
   ]
  },
  {
   "cell_type": "code",
   "execution_count": 287,
   "id": "dfd9957d",
   "metadata": {},
   "outputs": [
    {
     "data": {
      "text/html": [
       "<div>\n",
       "<style scoped>\n",
       "    .dataframe tbody tr th:only-of-type {\n",
       "        vertical-align: middle;\n",
       "    }\n",
       "\n",
       "    .dataframe tbody tr th {\n",
       "        vertical-align: top;\n",
       "    }\n",
       "\n",
       "    .dataframe thead th {\n",
       "        text-align: right;\n",
       "    }\n",
       "</style>\n",
       "<table border=\"1\" class=\"dataframe\">\n",
       "  <thead>\n",
       "    <tr style=\"text-align: right;\">\n",
       "      <th></th>\n",
       "      <th>No</th>\n",
       "      <th>Provinsi</th>\n",
       "      <th>Sekolah</th>\n",
       "      <th>Guru</th>\n",
       "      <th>Murid</th>\n",
       "      <th>Label</th>\n",
       "    </tr>\n",
       "  </thead>\n",
       "  <tbody>\n",
       "    <tr>\n",
       "      <th>0</th>\n",
       "      <td>1</td>\n",
       "      <td>Aceh</td>\n",
       "      <td>3529</td>\n",
       "      <td>48541</td>\n",
       "      <td>486958</td>\n",
       "      <td>1</td>\n",
       "    </tr>\n",
       "    <tr>\n",
       "      <th>1</th>\n",
       "      <td>2</td>\n",
       "      <td>Sumatera Utara</td>\n",
       "      <td>9782</td>\n",
       "      <td>109585</td>\n",
       "      <td>1548652</td>\n",
       "      <td>0</td>\n",
       "    </tr>\n",
       "    <tr>\n",
       "      <th>2</th>\n",
       "      <td>3</td>\n",
       "      <td>Sumatera Barat</td>\n",
       "      <td>4260</td>\n",
       "      <td>46833</td>\n",
       "      <td>597218</td>\n",
       "      <td>1</td>\n",
       "    </tr>\n",
       "    <tr>\n",
       "      <th>3</th>\n",
       "      <td>4</td>\n",
       "      <td>Riau</td>\n",
       "      <td>3791</td>\n",
       "      <td>51378</td>\n",
       "      <td>773526</td>\n",
       "      <td>0</td>\n",
       "    </tr>\n",
       "    <tr>\n",
       "      <th>4</th>\n",
       "      <td>5</td>\n",
       "      <td>Jambi</td>\n",
       "      <td>2463</td>\n",
       "      <td>27161</td>\n",
       "      <td>368694</td>\n",
       "      <td>1</td>\n",
       "    </tr>\n",
       "    <tr>\n",
       "      <th>5</th>\n",
       "      <td>6</td>\n",
       "      <td>Sumatera Selatan</td>\n",
       "      <td>4696</td>\n",
       "      <td>59861</td>\n",
       "      <td>882534</td>\n",
       "      <td>0</td>\n",
       "    </tr>\n",
       "    <tr>\n",
       "      <th>6</th>\n",
       "      <td>7</td>\n",
       "      <td>Bengkulu</td>\n",
       "      <td>1398</td>\n",
       "      <td>16035</td>\n",
       "      <td>194381</td>\n",
       "      <td>2</td>\n",
       "    </tr>\n",
       "    <tr>\n",
       "      <th>7</th>\n",
       "      <td>8</td>\n",
       "      <td>Lampung</td>\n",
       "      <td>4732</td>\n",
       "      <td>57711</td>\n",
       "      <td>799619</td>\n",
       "      <td>0</td>\n",
       "    </tr>\n",
       "    <tr>\n",
       "      <th>8</th>\n",
       "      <td>9</td>\n",
       "      <td>Kepulauan Bangka Belitung</td>\n",
       "      <td>832</td>\n",
       "      <td>9678</td>\n",
       "      <td>162722</td>\n",
       "      <td>2</td>\n",
       "    </tr>\n",
       "    <tr>\n",
       "      <th>9</th>\n",
       "      <td>10</td>\n",
       "      <td>Kepulauan Riau</td>\n",
       "      <td>973</td>\n",
       "      <td>14033</td>\n",
       "      <td>225575</td>\n",
       "      <td>2</td>\n",
       "    </tr>\n",
       "    <tr>\n",
       "      <th>10</th>\n",
       "      <td>11</td>\n",
       "      <td>DKI Jakarta</td>\n",
       "      <td>2239</td>\n",
       "      <td>40344</td>\n",
       "      <td>765090</td>\n",
       "      <td>0</td>\n",
       "    </tr>\n",
       "    <tr>\n",
       "      <th>11</th>\n",
       "      <td>12</td>\n",
       "      <td>Jawa Barat</td>\n",
       "      <td>19659</td>\n",
       "      <td>212849</td>\n",
       "      <td>4450934</td>\n",
       "      <td>0</td>\n",
       "    </tr>\n",
       "    <tr>\n",
       "      <th>12</th>\n",
       "      <td>13</td>\n",
       "      <td>Jawa Tengah</td>\n",
       "      <td>18760</td>\n",
       "      <td>173671</td>\n",
       "      <td>2631174</td>\n",
       "      <td>0</td>\n",
       "    </tr>\n",
       "    <tr>\n",
       "      <th>13</th>\n",
       "      <td>14</td>\n",
       "      <td>DI Yogyakarta</td>\n",
       "      <td>1848</td>\n",
       "      <td>20455</td>\n",
       "      <td>274438</td>\n",
       "      <td>2</td>\n",
       "    </tr>\n",
       "    <tr>\n",
       "      <th>14</th>\n",
       "      <td>15</td>\n",
       "      <td>Jawa Timur</td>\n",
       "      <td>19007</td>\n",
       "      <td>186798</td>\n",
       "      <td>2579913</td>\n",
       "      <td>0</td>\n",
       "    </tr>\n",
       "    <tr>\n",
       "      <th>15</th>\n",
       "      <td>16</td>\n",
       "      <td>Banten</td>\n",
       "      <td>4634</td>\n",
       "      <td>56887</td>\n",
       "      <td>1185883</td>\n",
       "      <td>0</td>\n",
       "    </tr>\n",
       "    <tr>\n",
       "      <th>16</th>\n",
       "      <td>17</td>\n",
       "      <td>Bali</td>\n",
       "      <td>2416</td>\n",
       "      <td>25719</td>\n",
       "      <td>382864</td>\n",
       "      <td>1</td>\n",
       "    </tr>\n",
       "    <tr>\n",
       "      <th>17</th>\n",
       "      <td>18</td>\n",
       "      <td>Nusa Tenggara Barat</td>\n",
       "      <td>3309</td>\n",
       "      <td>42159</td>\n",
       "      <td>509469</td>\n",
       "      <td>1</td>\n",
       "    </tr>\n",
       "    <tr>\n",
       "      <th>18</th>\n",
       "      <td>19</td>\n",
       "      <td>Nusa Tenggara Timur</td>\n",
       "      <td>5203</td>\n",
       "      <td>54285</td>\n",
       "      <td>669225</td>\n",
       "      <td>0</td>\n",
       "    </tr>\n",
       "    <tr>\n",
       "      <th>19</th>\n",
       "      <td>20</td>\n",
       "      <td>Kalimantan Barat</td>\n",
       "      <td>4438</td>\n",
       "      <td>39540</td>\n",
       "      <td>565648</td>\n",
       "      <td>1</td>\n",
       "    </tr>\n",
       "    <tr>\n",
       "      <th>20</th>\n",
       "      <td>21</td>\n",
       "      <td>Kalimantan Tengah</td>\n",
       "      <td>2648</td>\n",
       "      <td>25485</td>\n",
       "      <td>275040</td>\n",
       "      <td>2</td>\n",
       "    </tr>\n",
       "    <tr>\n",
       "      <th>21</th>\n",
       "      <td>22</td>\n",
       "      <td>Kalimantan Selatan</td>\n",
       "      <td>2915</td>\n",
       "      <td>30182</td>\n",
       "      <td>356919</td>\n",
       "      <td>1</td>\n",
       "    </tr>\n",
       "    <tr>\n",
       "      <th>22</th>\n",
       "      <td>23</td>\n",
       "      <td>Kalimantan Timur</td>\n",
       "      <td>1919</td>\n",
       "      <td>26112</td>\n",
       "      <td>412229</td>\n",
       "      <td>1</td>\n",
       "    </tr>\n",
       "    <tr>\n",
       "      <th>23</th>\n",
       "      <td>24</td>\n",
       "      <td>Kalimantan Utara</td>\n",
       "      <td>485</td>\n",
       "      <td>6095</td>\n",
       "      <td>78529</td>\n",
       "      <td>2</td>\n",
       "    </tr>\n",
       "    <tr>\n",
       "      <th>24</th>\n",
       "      <td>25</td>\n",
       "      <td>Sulawesi Utara</td>\n",
       "      <td>2203</td>\n",
       "      <td>18795</td>\n",
       "      <td>215237</td>\n",
       "      <td>2</td>\n",
       "    </tr>\n",
       "    <tr>\n",
       "      <th>25</th>\n",
       "      <td>26</td>\n",
       "      <td>Sulawesi Tengah</td>\n",
       "      <td>2926</td>\n",
       "      <td>27175</td>\n",
       "      <td>307722</td>\n",
       "      <td>2</td>\n",
       "    </tr>\n",
       "    <tr>\n",
       "      <th>26</th>\n",
       "      <td>27</td>\n",
       "      <td>Sulawesi Selatan</td>\n",
       "      <td>6438</td>\n",
       "      <td>70404</td>\n",
       "      <td>880177</td>\n",
       "      <td>0</td>\n",
       "    </tr>\n",
       "    <tr>\n",
       "      <th>27</th>\n",
       "      <td>28</td>\n",
       "      <td>Sulawesi Tenggara</td>\n",
       "      <td>2345</td>\n",
       "      <td>25567</td>\n",
       "      <td>291723</td>\n",
       "      <td>2</td>\n",
       "    </tr>\n",
       "    <tr>\n",
       "      <th>28</th>\n",
       "      <td>29</td>\n",
       "      <td>Gorontalo</td>\n",
       "      <td>928</td>\n",
       "      <td>8392</td>\n",
       "      <td>108142</td>\n",
       "      <td>2</td>\n",
       "    </tr>\n",
       "    <tr>\n",
       "      <th>29</th>\n",
       "      <td>30</td>\n",
       "      <td>Sulawesi Barat</td>\n",
       "      <td>1326</td>\n",
       "      <td>13755</td>\n",
       "      <td>143993</td>\n",
       "      <td>2</td>\n",
       "    </tr>\n",
       "    <tr>\n",
       "      <th>30</th>\n",
       "      <td>31</td>\n",
       "      <td>Maluku</td>\n",
       "      <td>1812</td>\n",
       "      <td>17969</td>\n",
       "      <td>207996</td>\n",
       "      <td>2</td>\n",
       "    </tr>\n",
       "    <tr>\n",
       "      <th>31</th>\n",
       "      <td>32</td>\n",
       "      <td>Maluku Utara</td>\n",
       "      <td>1315</td>\n",
       "      <td>12037</td>\n",
       "      <td>140564</td>\n",
       "      <td>2</td>\n",
       "    </tr>\n",
       "    <tr>\n",
       "      <th>32</th>\n",
       "      <td>33</td>\n",
       "      <td>Papua Barat</td>\n",
       "      <td>1104</td>\n",
       "      <td>9791</td>\n",
       "      <td>131171</td>\n",
       "      <td>2</td>\n",
       "    </tr>\n",
       "    <tr>\n",
       "      <th>33</th>\n",
       "      <td>34</td>\n",
       "      <td>Papua</td>\n",
       "      <td>2642</td>\n",
       "      <td>20227</td>\n",
       "      <td>472552</td>\n",
       "      <td>1</td>\n",
       "    </tr>\n",
       "  </tbody>\n",
       "</table>\n",
       "</div>"
      ],
      "text/plain": [
       "    No                   Provinsi  Sekolah    Guru    Murid  Label\n",
       "0    1                       Aceh     3529   48541   486958      1\n",
       "1    2             Sumatera Utara     9782  109585  1548652      0\n",
       "2    3             Sumatera Barat     4260   46833   597218      1\n",
       "3    4                       Riau     3791   51378   773526      0\n",
       "4    5                      Jambi     2463   27161   368694      1\n",
       "5    6           Sumatera Selatan     4696   59861   882534      0\n",
       "6    7                   Bengkulu     1398   16035   194381      2\n",
       "7    8                    Lampung     4732   57711   799619      0\n",
       "8    9  Kepulauan Bangka Belitung      832    9678   162722      2\n",
       "9   10             Kepulauan Riau      973   14033   225575      2\n",
       "10  11                DKI Jakarta     2239   40344   765090      0\n",
       "11  12                 Jawa Barat    19659  212849  4450934      0\n",
       "12  13                Jawa Tengah    18760  173671  2631174      0\n",
       "13  14              DI Yogyakarta     1848   20455   274438      2\n",
       "14  15                 Jawa Timur    19007  186798  2579913      0\n",
       "15  16                     Banten     4634   56887  1185883      0\n",
       "16  17                       Bali     2416   25719   382864      1\n",
       "17  18        Nusa Tenggara Barat     3309   42159   509469      1\n",
       "18  19        Nusa Tenggara Timur     5203   54285   669225      0\n",
       "19  20           Kalimantan Barat     4438   39540   565648      1\n",
       "20  21          Kalimantan Tengah     2648   25485   275040      2\n",
       "21  22         Kalimantan Selatan     2915   30182   356919      1\n",
       "22  23           Kalimantan Timur     1919   26112   412229      1\n",
       "23  24           Kalimantan Utara      485    6095    78529      2\n",
       "24  25             Sulawesi Utara     2203   18795   215237      2\n",
       "25  26            Sulawesi Tengah     2926   27175   307722      2\n",
       "26  27           Sulawesi Selatan     6438   70404   880177      0\n",
       "27  28          Sulawesi Tenggara     2345   25567   291723      2\n",
       "28  29                  Gorontalo      928    8392   108142      2\n",
       "29  30             Sulawesi Barat     1326   13755   143993      2\n",
       "30  31                     Maluku     1812   17969   207996      2\n",
       "31  32               Maluku Utara     1315   12037   140564      2\n",
       "32  33                Papua Barat     1104    9791   131171      2\n",
       "33  34                      Papua     2642   20227   472552      1"
      ]
     },
     "execution_count": 287,
     "metadata": {},
     "output_type": "execute_result"
    }
   ],
   "source": [
    "df_new"
   ]
  },
  {
   "cell_type": "code",
   "execution_count": 289,
   "id": "9a2a6f7c",
   "metadata": {},
   "outputs": [
    {
     "data": {
      "text/html": [
       "<div>\n",
       "<style scoped>\n",
       "    .dataframe tbody tr th:only-of-type {\n",
       "        vertical-align: middle;\n",
       "    }\n",
       "\n",
       "    .dataframe tbody tr th {\n",
       "        vertical-align: top;\n",
       "    }\n",
       "\n",
       "    .dataframe thead th {\n",
       "        text-align: right;\n",
       "    }\n",
       "</style>\n",
       "<table border=\"1\" class=\"dataframe\">\n",
       "  <thead>\n",
       "    <tr style=\"text-align: right;\">\n",
       "      <th></th>\n",
       "      <th>Label</th>\n",
       "      <th>Sekolah</th>\n",
       "      <th>Guru</th>\n",
       "      <th>Murid</th>\n",
       "    </tr>\n",
       "  </thead>\n",
       "  <tbody>\n",
       "    <tr>\n",
       "      <th>0</th>\n",
       "      <td>0</td>\n",
       "      <td>8994.636364</td>\n",
       "      <td>97615.727273</td>\n",
       "      <td>1.560612e+06</td>\n",
       "    </tr>\n",
       "    <tr>\n",
       "      <th>1</th>\n",
       "      <td>1</td>\n",
       "      <td>3099.000000</td>\n",
       "      <td>34052.666667</td>\n",
       "      <td>4.613946e+05</td>\n",
       "    </tr>\n",
       "    <tr>\n",
       "      <th>2</th>\n",
       "      <td>2</td>\n",
       "      <td>1581.642857</td>\n",
       "      <td>16090.142857</td>\n",
       "      <td>1.969452e+05</td>\n",
       "    </tr>\n",
       "  </tbody>\n",
       "</table>\n",
       "</div>"
      ],
      "text/plain": [
       "   Label      Sekolah          Guru         Murid\n",
       "0      0  8994.636364  97615.727273  1.560612e+06\n",
       "1      1  3099.000000  34052.666667  4.613946e+05\n",
       "2      2  1581.642857  16090.142857  1.969452e+05"
      ]
     },
     "execution_count": 289,
     "metadata": {},
     "output_type": "execute_result"
    }
   ],
   "source": [
    "df_plot = df_new.groupby('Label').agg({\"Sekolah\":np.mean, \"Guru\":np.mean, \"Murid\":np.mean}).reset_index()\n",
    "df_plot\n",
    "\n",
    "# Menampilkan Rata2 Variabel "
   ]
  },
  {
   "cell_type": "code",
   "execution_count": 290,
   "id": "d6d32783",
   "metadata": {},
   "outputs": [
    {
     "data": {
      "text/plain": [
       "<Axes: xlabel='Label'>"
      ]
     },
     "execution_count": 290,
     "metadata": {},
     "output_type": "execute_result"
    },
    {
     "data": {
      "image/png": "[encoded data removed]",
      "text/plain": [
       "<Figure size 800x550 with 1 Axes>"
      ]
     },
     "metadata": {},
     "output_type": "display_data"
    }
   ],
   "source": [
    "df_new['Label']=df_new.Label.replace({0:\"Baik\", 1:\"Sedang\", 2:\"Rendah\"})\n",
    "df_plot = df_new.groupby('Label').agg({\"Sekolah\":np.mean, \"Guru\":np.mean, \"Murid\":np.mean}).reset_index()\n",
    "df_plot.plot(x=\"Label\", y=[\"Sekolah\", \"Guru\", \"Murid\"], kind=\"bar\")"
   ]
  },
  {
   "cell_type": "markdown",
   "id": "6552e866",
   "metadata": {},
   "source": [
    "Note : \n",
    "\n",
    "Label 0 : Klaster Baik\n",
    "\n",
    "Label 1 : Klaster Sedang\n",
    "\n",
    "Label 2 : Klaster Rendah"
   ]
  },
  {
   "cell_type": "code",
   "execution_count": 291,
   "id": "8d23bbdb",
   "metadata": {},
   "outputs": [
    {
     "data": {
      "text/html": [
       "<div>\n",
       "<style scoped>\n",
       "    .dataframe tbody tr th:only-of-type {\n",
       "        vertical-align: middle;\n",
       "    }\n",
       "\n",
       "    .dataframe tbody tr th {\n",
       "        vertical-align: top;\n",
       "    }\n",
       "\n",
       "    .dataframe thead th {\n",
       "        text-align: right;\n",
       "    }\n",
       "</style>\n",
       "<table border=\"1\" class=\"dataframe\">\n",
       "  <thead>\n",
       "    <tr style=\"text-align: right;\">\n",
       "      <th></th>\n",
       "      <th>No</th>\n",
       "      <th>Provinsi</th>\n",
       "      <th>Sekolah</th>\n",
       "      <th>Guru</th>\n",
       "      <th>Murid</th>\n",
       "      <th>Label</th>\n",
       "    </tr>\n",
       "  </thead>\n",
       "  <tbody>\n",
       "    <tr>\n",
       "      <th>0</th>\n",
       "      <td>1</td>\n",
       "      <td>Aceh</td>\n",
       "      <td>3529</td>\n",
       "      <td>48541</td>\n",
       "      <td>486958</td>\n",
       "      <td>Sedang</td>\n",
       "    </tr>\n",
       "    <tr>\n",
       "      <th>1</th>\n",
       "      <td>2</td>\n",
       "      <td>Sumatera Utara</td>\n",
       "      <td>9782</td>\n",
       "      <td>109585</td>\n",
       "      <td>1548652</td>\n",
       "      <td>Baik</td>\n",
       "    </tr>\n",
       "    <tr>\n",
       "      <th>2</th>\n",
       "      <td>3</td>\n",
       "      <td>Sumatera Barat</td>\n",
       "      <td>4260</td>\n",
       "      <td>46833</td>\n",
       "      <td>597218</td>\n",
       "      <td>Sedang</td>\n",
       "    </tr>\n",
       "    <tr>\n",
       "      <th>3</th>\n",
       "      <td>4</td>\n",
       "      <td>Riau</td>\n",
       "      <td>3791</td>\n",
       "      <td>51378</td>\n",
       "      <td>773526</td>\n",
       "      <td>Baik</td>\n",
       "    </tr>\n",
       "    <tr>\n",
       "      <th>4</th>\n",
       "      <td>5</td>\n",
       "      <td>Jambi</td>\n",
       "      <td>2463</td>\n",
       "      <td>27161</td>\n",
       "      <td>368694</td>\n",
       "      <td>Sedang</td>\n",
       "    </tr>\n",
       "    <tr>\n",
       "      <th>5</th>\n",
       "      <td>6</td>\n",
       "      <td>Sumatera Selatan</td>\n",
       "      <td>4696</td>\n",
       "      <td>59861</td>\n",
       "      <td>882534</td>\n",
       "      <td>Baik</td>\n",
       "    </tr>\n",
       "    <tr>\n",
       "      <th>6</th>\n",
       "      <td>7</td>\n",
       "      <td>Bengkulu</td>\n",
       "      <td>1398</td>\n",
       "      <td>16035</td>\n",
       "      <td>194381</td>\n",
       "      <td>Rendah</td>\n",
       "    </tr>\n",
       "    <tr>\n",
       "      <th>7</th>\n",
       "      <td>8</td>\n",
       "      <td>Lampung</td>\n",
       "      <td>4732</td>\n",
       "      <td>57711</td>\n",
       "      <td>799619</td>\n",
       "      <td>Baik</td>\n",
       "    </tr>\n",
       "    <tr>\n",
       "      <th>8</th>\n",
       "      <td>9</td>\n",
       "      <td>Kepulauan Bangka Belitung</td>\n",
       "      <td>832</td>\n",
       "      <td>9678</td>\n",
       "      <td>162722</td>\n",
       "      <td>Rendah</td>\n",
       "    </tr>\n",
       "    <tr>\n",
       "      <th>9</th>\n",
       "      <td>10</td>\n",
       "      <td>Kepulauan Riau</td>\n",
       "      <td>973</td>\n",
       "      <td>14033</td>\n",
       "      <td>225575</td>\n",
       "      <td>Rendah</td>\n",
       "    </tr>\n",
       "    <tr>\n",
       "      <th>10</th>\n",
       "      <td>11</td>\n",
       "      <td>DKI Jakarta</td>\n",
       "      <td>2239</td>\n",
       "      <td>40344</td>\n",
       "      <td>765090</td>\n",
       "      <td>Baik</td>\n",
       "    </tr>\n",
       "    <tr>\n",
       "      <th>11</th>\n",
       "      <td>12</td>\n",
       "      <td>Jawa Barat</td>\n",
       "      <td>19659</td>\n",
       "      <td>212849</td>\n",
       "      <td>4450934</td>\n",
       "      <td>Baik</td>\n",
       "    </tr>\n",
       "    <tr>\n",
       "      <th>12</th>\n",
       "      <td>13</td>\n",
       "      <td>Jawa Tengah</td>\n",
       "      <td>18760</td>\n",
       "      <td>173671</td>\n",
       "      <td>2631174</td>\n",
       "      <td>Baik</td>\n",
       "    </tr>\n",
       "    <tr>\n",
       "      <th>13</th>\n",
       "      <td>14</td>\n",
       "      <td>DI Yogyakarta</td>\n",
       "      <td>1848</td>\n",
       "      <td>20455</td>\n",
       "      <td>274438</td>\n",
       "      <td>Rendah</td>\n",
       "    </tr>\n",
       "    <tr>\n",
       "      <th>14</th>\n",
       "      <td>15</td>\n",
       "      <td>Jawa Timur</td>\n",
       "      <td>19007</td>\n",
       "      <td>186798</td>\n",
       "      <td>2579913</td>\n",
       "      <td>Baik</td>\n",
       "    </tr>\n",
       "    <tr>\n",
       "      <th>15</th>\n",
       "      <td>16</td>\n",
       "      <td>Banten</td>\n",
       "      <td>4634</td>\n",
       "      <td>56887</td>\n",
       "      <td>1185883</td>\n",
       "      <td>Baik</td>\n",
       "    </tr>\n",
       "    <tr>\n",
       "      <th>16</th>\n",
       "      <td>17</td>\n",
       "      <td>Bali</td>\n",
       "      <td>2416</td>\n",
       "      <td>25719</td>\n",
       "      <td>382864</td>\n",
       "      <td>Sedang</td>\n",
       "    </tr>\n",
       "    <tr>\n",
       "      <th>17</th>\n",
       "      <td>18</td>\n",
       "      <td>Nusa Tenggara Barat</td>\n",
       "      <td>3309</td>\n",
       "      <td>42159</td>\n",
       "      <td>509469</td>\n",
       "      <td>Sedang</td>\n",
       "    </tr>\n",
       "    <tr>\n",
       "      <th>18</th>\n",
       "      <td>19</td>\n",
       "      <td>Nusa Tenggara Timur</td>\n",
       "      <td>5203</td>\n",
       "      <td>54285</td>\n",
       "      <td>669225</td>\n",
       "      <td>Baik</td>\n",
       "    </tr>\n",
       "    <tr>\n",
       "      <th>19</th>\n",
       "      <td>20</td>\n",
       "      <td>Kalimantan Barat</td>\n",
       "      <td>4438</td>\n",
       "      <td>39540</td>\n",
       "      <td>565648</td>\n",
       "      <td>Sedang</td>\n",
       "    </tr>\n",
       "    <tr>\n",
       "      <th>20</th>\n",
       "      <td>21</td>\n",
       "      <td>Kalimantan Tengah</td>\n",
       "      <td>2648</td>\n",
       "      <td>25485</td>\n",
       "      <td>275040</td>\n",
       "      <td>Rendah</td>\n",
       "    </tr>\n",
       "    <tr>\n",
       "      <th>21</th>\n",
       "      <td>22</td>\n",
       "      <td>Kalimantan Selatan</td>\n",
       "      <td>2915</td>\n",
       "      <td>30182</td>\n",
       "      <td>356919</td>\n",
       "      <td>Sedang</td>\n",
       "    </tr>\n",
       "    <tr>\n",
       "      <th>22</th>\n",
       "      <td>23</td>\n",
       "      <td>Kalimantan Timur</td>\n",
       "      <td>1919</td>\n",
       "      <td>26112</td>\n",
       "      <td>412229</td>\n",
       "      <td>Sedang</td>\n",
       "    </tr>\n",
       "    <tr>\n",
       "      <th>23</th>\n",
       "      <td>24</td>\n",
       "      <td>Kalimantan Utara</td>\n",
       "      <td>485</td>\n",
       "      <td>6095</td>\n",
       "      <td>78529</td>\n",
       "      <td>Rendah</td>\n",
       "    </tr>\n",
       "    <tr>\n",
       "      <th>24</th>\n",
       "      <td>25</td>\n",
       "      <td>Sulawesi Utara</td>\n",
       "      <td>2203</td>\n",
       "      <td>18795</td>\n",
       "      <td>215237</td>\n",
       "      <td>Rendah</td>\n",
       "    </tr>\n",
       "    <tr>\n",
       "      <th>25</th>\n",
       "      <td>26</td>\n",
       "      <td>Sulawesi Tengah</td>\n",
       "      <td>2926</td>\n",
       "      <td>27175</td>\n",
       "      <td>307722</td>\n",
       "      <td>Rendah</td>\n",
       "    </tr>\n",
       "    <tr>\n",
       "      <th>26</th>\n",
       "      <td>27</td>\n",
       "      <td>Sulawesi Selatan</td>\n",
       "      <td>6438</td>\n",
       "      <td>70404</td>\n",
       "      <td>880177</td>\n",
       "      <td>Baik</td>\n",
       "    </tr>\n",
       "    <tr>\n",
       "      <th>27</th>\n",
       "      <td>28</td>\n",
       "      <td>Sulawesi Tenggara</td>\n",
       "      <td>2345</td>\n",
       "      <td>25567</td>\n",
       "      <td>291723</td>\n",
       "      <td>Rendah</td>\n",
       "    </tr>\n",
       "    <tr>\n",
       "      <th>28</th>\n",
       "      <td>29</td>\n",
       "      <td>Gorontalo</td>\n",
       "      <td>928</td>\n",
       "      <td>8392</td>\n",
       "      <td>108142</td>\n",
       "      <td>Rendah</td>\n",
       "    </tr>\n",
       "    <tr>\n",
       "      <th>29</th>\n",
       "      <td>30</td>\n",
       "      <td>Sulawesi Barat</td>\n",
       "      <td>1326</td>\n",
       "      <td>13755</td>\n",
       "      <td>143993</td>\n",
       "      <td>Rendah</td>\n",
       "    </tr>\n",
       "    <tr>\n",
       "      <th>30</th>\n",
       "      <td>31</td>\n",
       "      <td>Maluku</td>\n",
       "      <td>1812</td>\n",
       "      <td>17969</td>\n",
       "      <td>207996</td>\n",
       "      <td>Rendah</td>\n",
       "    </tr>\n",
       "    <tr>\n",
       "      <th>31</th>\n",
       "      <td>32</td>\n",
       "      <td>Maluku Utara</td>\n",
       "      <td>1315</td>\n",
       "      <td>12037</td>\n",
       "      <td>140564</td>\n",
       "      <td>Rendah</td>\n",
       "    </tr>\n",
       "    <tr>\n",
       "      <th>32</th>\n",
       "      <td>33</td>\n",
       "      <td>Papua Barat</td>\n",
       "      <td>1104</td>\n",
       "      <td>9791</td>\n",
       "      <td>131171</td>\n",
       "      <td>Rendah</td>\n",
       "    </tr>\n",
       "    <tr>\n",
       "      <th>33</th>\n",
       "      <td>34</td>\n",
       "      <td>Papua</td>\n",
       "      <td>2642</td>\n",
       "      <td>20227</td>\n",
       "      <td>472552</td>\n",
       "      <td>Sedang</td>\n",
       "    </tr>\n",
       "  </tbody>\n",
       "</table>\n",
       "</div>"
      ],
      "text/plain": [
       "    No                   Provinsi  Sekolah    Guru    Murid   Label\n",
       "0    1                       Aceh     3529   48541   486958  Sedang\n",
       "1    2             Sumatera Utara     9782  109585  1548652    Baik\n",
       "2    3             Sumatera Barat     4260   46833   597218  Sedang\n",
       "3    4                       Riau     3791   51378   773526    Baik\n",
       "4    5                      Jambi     2463   27161   368694  Sedang\n",
       "5    6           Sumatera Selatan     4696   59861   882534    Baik\n",
       "6    7                   Bengkulu     1398   16035   194381  Rendah\n",
       "7    8                    Lampung     4732   57711   799619    Baik\n",
       "8    9  Kepulauan Bangka Belitung      832    9678   162722  Rendah\n",
       "9   10             Kepulauan Riau      973   14033   225575  Rendah\n",
       "10  11                DKI Jakarta     2239   40344   765090    Baik\n",
       "11  12                 Jawa Barat    19659  212849  4450934    Baik\n",
       "12  13                Jawa Tengah    18760  173671  2631174    Baik\n",
       "13  14              DI Yogyakarta     1848   20455   274438  Rendah\n",
       "14  15                 Jawa Timur    19007  186798  2579913    Baik\n",
       "15  16                     Banten     4634   56887  1185883    Baik\n",
       "16  17                       Bali     2416   25719   382864  Sedang\n",
       "17  18        Nusa Tenggara Barat     3309   42159   509469  Sedang\n",
       "18  19        Nusa Tenggara Timur     5203   54285   669225    Baik\n",
       "19  20           Kalimantan Barat     4438   39540   565648  Sedang\n",
       "20  21          Kalimantan Tengah     2648   25485   275040  Rendah\n",
       "21  22         Kalimantan Selatan     2915   30182   356919  Sedang\n",
       "22  23           Kalimantan Timur     1919   26112   412229  Sedang\n",
       "23  24           Kalimantan Utara      485    6095    78529  Rendah\n",
       "24  25             Sulawesi Utara     2203   18795   215237  Rendah\n",
       "25  26            Sulawesi Tengah     2926   27175   307722  Rendah\n",
       "26  27           Sulawesi Selatan     6438   70404   880177    Baik\n",
       "27  28          Sulawesi Tenggara     2345   25567   291723  Rendah\n",
       "28  29                  Gorontalo      928    8392   108142  Rendah\n",
       "29  30             Sulawesi Barat     1326   13755   143993  Rendah\n",
       "30  31                     Maluku     1812   17969   207996  Rendah\n",
       "31  32               Maluku Utara     1315   12037   140564  Rendah\n",
       "32  33                Papua Barat     1104    9791   131171  Rendah\n",
       "33  34                      Papua     2642   20227   472552  Sedang"
      ]
     },
     "execution_count": 291,
     "metadata": {},
     "output_type": "execute_result"
    }
   ],
   "source": [
    "df_new"
   ]
  },
  {
   "cell_type": "code",
   "execution_count": 292,
   "id": "a83a8c58",
   "metadata": {},
   "outputs": [],
   "source": [
    "df_new.to_csv(\"SD_Klasterisasi_Dengan_Outlier.csv\")"
   ]
  },
  {
   "cell_type": "markdown",
   "id": "dd74bfbc",
   "metadata": {},
   "source": [
    "#### Tanpa Outlier"
   ]
  },
  {
   "cell_type": "code",
   "execution_count": 293,
   "id": "1cf33731",
   "metadata": {},
   "outputs": [],
   "source": [
    "df = pd.read_csv('https://raw.githubusercontent.com/jokoeliyanto/k_means_clustering/main/SD.csv', sep=';')"
   ]
  },
  {
   "cell_type": "code",
   "execution_count": 294,
   "id": "83872c82",
   "metadata": {},
   "outputs": [],
   "source": [
    "df3 = df[[\"Sekolah\", \"Guru\", \"Murid\"]]"
   ]
  },
  {
   "cell_type": "code",
   "execution_count": 295,
   "id": "6f555f8b",
   "metadata": {},
   "outputs": [],
   "source": [
    "km_model = KMeans(n_clusters=3, random_state=10)              # instatiate KMeans class and set the number of clusters\n",
    "cluster_result = km_model.fit_predict(df3)                    # call fit method with data \n",
    "centroids = km_model.cluster_centers_                         # coordinates of cluster center\n",
    "labels = km_model.labels_                                     # cluster label for each data point"
   ]
  },
  {
   "cell_type": "code",
   "execution_count": 296,
   "id": "1734a042",
   "metadata": {},
   "outputs": [],
   "source": [
    "df[\"Label\"] = labels"
   ]
  },
  {
   "cell_type": "code",
   "execution_count": 297,
   "id": "ad039228",
   "metadata": {},
   "outputs": [
    {
     "data": {
      "text/html": [
       "<div>\n",
       "<style scoped>\n",
       "    .dataframe tbody tr th:only-of-type {\n",
       "        vertical-align: middle;\n",
       "    }\n",
       "\n",
       "    .dataframe tbody tr th {\n",
       "        vertical-align: top;\n",
       "    }\n",
       "\n",
       "    .dataframe thead th {\n",
       "        text-align: right;\n",
       "    }\n",
       "</style>\n",
       "<table border=\"1\" class=\"dataframe\">\n",
       "  <thead>\n",
       "    <tr style=\"text-align: right;\">\n",
       "      <th></th>\n",
       "      <th>Label</th>\n",
       "      <th>Sekolah</th>\n",
       "      <th>Guru</th>\n",
       "      <th>Murid</th>\n",
       "    </tr>\n",
       "  </thead>\n",
       "  <tbody>\n",
       "    <tr>\n",
       "      <th>0</th>\n",
       "      <td>0</td>\n",
       "      <td>2725.566667</td>\n",
       "      <td>30753.533333</td>\n",
       "      <td>4.288613e+05</td>\n",
       "    </tr>\n",
       "    <tr>\n",
       "      <th>1</th>\n",
       "      <td>1</td>\n",
       "      <td>19659.000000</td>\n",
       "      <td>212849.000000</td>\n",
       "      <td>4.450934e+06</td>\n",
       "    </tr>\n",
       "    <tr>\n",
       "      <th>2</th>\n",
       "      <td>2</td>\n",
       "      <td>15849.666667</td>\n",
       "      <td>156684.666667</td>\n",
       "      <td>2.253246e+06</td>\n",
       "    </tr>\n",
       "  </tbody>\n",
       "</table>\n",
       "</div>"
      ],
      "text/plain": [
       "   Label       Sekolah           Guru         Murid\n",
       "0      0   2725.566667   30753.533333  4.288613e+05\n",
       "1      1  19659.000000  212849.000000  4.450934e+06\n",
       "2      2  15849.666667  156684.666667  2.253246e+06"
      ]
     },
     "execution_count": 297,
     "metadata": {},
     "output_type": "execute_result"
    }
   ],
   "source": [
    "df_plot = df.groupby('Label').agg({\"Sekolah\":np.mean, \"Guru\":np.mean, \"Murid\":np.mean}).reset_index()\n",
    "df_plot\n",
    "\n",
    "# Menampilkan Rata2 Variabel "
   ]
  },
  {
   "cell_type": "code",
   "execution_count": 298,
   "id": "04fdd917",
   "metadata": {},
   "outputs": [],
   "source": [
    "df['Label']=df.Label.replace({1:\"Baik\", 2:\"Sedang\", 0:\"Rendah\"})"
   ]
  },
  {
   "cell_type": "code",
   "execution_count": 299,
   "id": "63efef9c",
   "metadata": {},
   "outputs": [
    {
     "data": {
      "text/html": [
       "<div>\n",
       "<style scoped>\n",
       "    .dataframe tbody tr th:only-of-type {\n",
       "        vertical-align: middle;\n",
       "    }\n",
       "\n",
       "    .dataframe tbody tr th {\n",
       "        vertical-align: top;\n",
       "    }\n",
       "\n",
       "    .dataframe thead th {\n",
       "        text-align: right;\n",
       "    }\n",
       "</style>\n",
       "<table border=\"1\" class=\"dataframe\">\n",
       "  <thead>\n",
       "    <tr style=\"text-align: right;\">\n",
       "      <th></th>\n",
       "      <th>No</th>\n",
       "      <th>Provinsi</th>\n",
       "      <th>Sekolah</th>\n",
       "      <th>Guru</th>\n",
       "      <th>Murid</th>\n",
       "      <th>Label</th>\n",
       "    </tr>\n",
       "  </thead>\n",
       "  <tbody>\n",
       "    <tr>\n",
       "      <th>0</th>\n",
       "      <td>1</td>\n",
       "      <td>Aceh</td>\n",
       "      <td>3529</td>\n",
       "      <td>48541</td>\n",
       "      <td>486958</td>\n",
       "      <td>Rendah</td>\n",
       "    </tr>\n",
       "    <tr>\n",
       "      <th>1</th>\n",
       "      <td>2</td>\n",
       "      <td>Sumatera Utara</td>\n",
       "      <td>9782</td>\n",
       "      <td>109585</td>\n",
       "      <td>1548652</td>\n",
       "      <td>Sedang</td>\n",
       "    </tr>\n",
       "    <tr>\n",
       "      <th>2</th>\n",
       "      <td>3</td>\n",
       "      <td>Sumatera Barat</td>\n",
       "      <td>4260</td>\n",
       "      <td>46833</td>\n",
       "      <td>597218</td>\n",
       "      <td>Rendah</td>\n",
       "    </tr>\n",
       "    <tr>\n",
       "      <th>3</th>\n",
       "      <td>4</td>\n",
       "      <td>Riau</td>\n",
       "      <td>3791</td>\n",
       "      <td>51378</td>\n",
       "      <td>773526</td>\n",
       "      <td>Rendah</td>\n",
       "    </tr>\n",
       "    <tr>\n",
       "      <th>4</th>\n",
       "      <td>5</td>\n",
       "      <td>Jambi</td>\n",
       "      <td>2463</td>\n",
       "      <td>27161</td>\n",
       "      <td>368694</td>\n",
       "      <td>Rendah</td>\n",
       "    </tr>\n",
       "    <tr>\n",
       "      <th>5</th>\n",
       "      <td>6</td>\n",
       "      <td>Sumatera Selatan</td>\n",
       "      <td>4696</td>\n",
       "      <td>59861</td>\n",
       "      <td>882534</td>\n",
       "      <td>Rendah</td>\n",
       "    </tr>\n",
       "    <tr>\n",
       "      <th>6</th>\n",
       "      <td>7</td>\n",
       "      <td>Bengkulu</td>\n",
       "      <td>1398</td>\n",
       "      <td>16035</td>\n",
       "      <td>194381</td>\n",
       "      <td>Rendah</td>\n",
       "    </tr>\n",
       "    <tr>\n",
       "      <th>7</th>\n",
       "      <td>8</td>\n",
       "      <td>Lampung</td>\n",
       "      <td>4732</td>\n",
       "      <td>57711</td>\n",
       "      <td>799619</td>\n",
       "      <td>Rendah</td>\n",
       "    </tr>\n",
       "    <tr>\n",
       "      <th>8</th>\n",
       "      <td>9</td>\n",
       "      <td>Kepulauan Bangka Belitung</td>\n",
       "      <td>832</td>\n",
       "      <td>9678</td>\n",
       "      <td>162722</td>\n",
       "      <td>Rendah</td>\n",
       "    </tr>\n",
       "    <tr>\n",
       "      <th>9</th>\n",
       "      <td>10</td>\n",
       "      <td>Kepulauan Riau</td>\n",
       "      <td>973</td>\n",
       "      <td>14033</td>\n",
       "      <td>225575</td>\n",
       "      <td>Rendah</td>\n",
       "    </tr>\n",
       "    <tr>\n",
       "      <th>10</th>\n",
       "      <td>11</td>\n",
       "      <td>DKI Jakarta</td>\n",
       "      <td>2239</td>\n",
       "      <td>40344</td>\n",
       "      <td>765090</td>\n",
       "      <td>Rendah</td>\n",
       "    </tr>\n",
       "    <tr>\n",
       "      <th>11</th>\n",
       "      <td>12</td>\n",
       "      <td>Jawa Barat</td>\n",
       "      <td>19659</td>\n",
       "      <td>212849</td>\n",
       "      <td>4450934</td>\n",
       "      <td>Baik</td>\n",
       "    </tr>\n",
       "    <tr>\n",
       "      <th>12</th>\n",
       "      <td>13</td>\n",
       "      <td>Jawa Tengah</td>\n",
       "      <td>18760</td>\n",
       "      <td>173671</td>\n",
       "      <td>2631174</td>\n",
       "      <td>Sedang</td>\n",
       "    </tr>\n",
       "    <tr>\n",
       "      <th>13</th>\n",
       "      <td>14</td>\n",
       "      <td>DI Yogyakarta</td>\n",
       "      <td>1848</td>\n",
       "      <td>20455</td>\n",
       "      <td>274438</td>\n",
       "      <td>Rendah</td>\n",
       "    </tr>\n",
       "    <tr>\n",
       "      <th>14</th>\n",
       "      <td>15</td>\n",
       "      <td>Jawa Timur</td>\n",
       "      <td>19007</td>\n",
       "      <td>186798</td>\n",
       "      <td>2579913</td>\n",
       "      <td>Sedang</td>\n",
       "    </tr>\n",
       "    <tr>\n",
       "      <th>15</th>\n",
       "      <td>16</td>\n",
       "      <td>Banten</td>\n",
       "      <td>4634</td>\n",
       "      <td>56887</td>\n",
       "      <td>1185883</td>\n",
       "      <td>Rendah</td>\n",
       "    </tr>\n",
       "    <tr>\n",
       "      <th>16</th>\n",
       "      <td>17</td>\n",
       "      <td>Bali</td>\n",
       "      <td>2416</td>\n",
       "      <td>25719</td>\n",
       "      <td>382864</td>\n",
       "      <td>Rendah</td>\n",
       "    </tr>\n",
       "    <tr>\n",
       "      <th>17</th>\n",
       "      <td>18</td>\n",
       "      <td>Nusa Tenggara Barat</td>\n",
       "      <td>3309</td>\n",
       "      <td>42159</td>\n",
       "      <td>509469</td>\n",
       "      <td>Rendah</td>\n",
       "    </tr>\n",
       "    <tr>\n",
       "      <th>18</th>\n",
       "      <td>19</td>\n",
       "      <td>Nusa Tenggara Timur</td>\n",
       "      <td>5203</td>\n",
       "      <td>54285</td>\n",
       "      <td>669225</td>\n",
       "      <td>Rendah</td>\n",
       "    </tr>\n",
       "    <tr>\n",
       "      <th>19</th>\n",
       "      <td>20</td>\n",
       "      <td>Kalimantan Barat</td>\n",
       "      <td>4438</td>\n",
       "      <td>39540</td>\n",
       "      <td>565648</td>\n",
       "      <td>Rendah</td>\n",
       "    </tr>\n",
       "    <tr>\n",
       "      <th>20</th>\n",
       "      <td>21</td>\n",
       "      <td>Kalimantan Tengah</td>\n",
       "      <td>2648</td>\n",
       "      <td>25485</td>\n",
       "      <td>275040</td>\n",
       "      <td>Rendah</td>\n",
       "    </tr>\n",
       "    <tr>\n",
       "      <th>21</th>\n",
       "      <td>22</td>\n",
       "      <td>Kalimantan Selatan</td>\n",
       "      <td>2915</td>\n",
       "      <td>30182</td>\n",
       "      <td>356919</td>\n",
       "      <td>Rendah</td>\n",
       "    </tr>\n",
       "    <tr>\n",
       "      <th>22</th>\n",
       "      <td>23</td>\n",
       "      <td>Kalimantan Timur</td>\n",
       "      <td>1919</td>\n",
       "      <td>26112</td>\n",
       "      <td>412229</td>\n",
       "      <td>Rendah</td>\n",
       "    </tr>\n",
       "    <tr>\n",
       "      <th>23</th>\n",
       "      <td>24</td>\n",
       "      <td>Kalimantan Utara</td>\n",
       "      <td>485</td>\n",
       "      <td>6095</td>\n",
       "      <td>78529</td>\n",
       "      <td>Rendah</td>\n",
       "    </tr>\n",
       "    <tr>\n",
       "      <th>24</th>\n",
       "      <td>25</td>\n",
       "      <td>Sulawesi Utara</td>\n",
       "      <td>2203</td>\n",
       "      <td>18795</td>\n",
       "      <td>215237</td>\n",
       "      <td>Rendah</td>\n",
       "    </tr>\n",
       "    <tr>\n",
       "      <th>25</th>\n",
       "      <td>26</td>\n",
       "      <td>Sulawesi Tengah</td>\n",
       "      <td>2926</td>\n",
       "      <td>27175</td>\n",
       "      <td>307722</td>\n",
       "      <td>Rendah</td>\n",
       "    </tr>\n",
       "    <tr>\n",
       "      <th>26</th>\n",
       "      <td>27</td>\n",
       "      <td>Sulawesi Selatan</td>\n",
       "      <td>6438</td>\n",
       "      <td>70404</td>\n",
       "      <td>880177</td>\n",
       "      <td>Rendah</td>\n",
       "    </tr>\n",
       "    <tr>\n",
       "      <th>27</th>\n",
       "      <td>28</td>\n",
       "      <td>Sulawesi Tenggara</td>\n",
       "      <td>2345</td>\n",
       "      <td>25567</td>\n",
       "      <td>291723</td>\n",
       "      <td>Rendah</td>\n",
       "    </tr>\n",
       "    <tr>\n",
       "      <th>28</th>\n",
       "      <td>29</td>\n",
       "      <td>Gorontalo</td>\n",
       "      <td>928</td>\n",
       "      <td>8392</td>\n",
       "      <td>108142</td>\n",
       "      <td>Rendah</td>\n",
       "    </tr>\n",
       "    <tr>\n",
       "      <th>29</th>\n",
       "      <td>30</td>\n",
       "      <td>Sulawesi Barat</td>\n",
       "      <td>1326</td>\n",
       "      <td>13755</td>\n",
       "      <td>143993</td>\n",
       "      <td>Rendah</td>\n",
       "    </tr>\n",
       "    <tr>\n",
       "      <th>30</th>\n",
       "      <td>31</td>\n",
       "      <td>Maluku</td>\n",
       "      <td>1812</td>\n",
       "      <td>17969</td>\n",
       "      <td>207996</td>\n",
       "      <td>Rendah</td>\n",
       "    </tr>\n",
       "    <tr>\n",
       "      <th>31</th>\n",
       "      <td>32</td>\n",
       "      <td>Maluku Utara</td>\n",
       "      <td>1315</td>\n",
       "      <td>12037</td>\n",
       "      <td>140564</td>\n",
       "      <td>Rendah</td>\n",
       "    </tr>\n",
       "    <tr>\n",
       "      <th>32</th>\n",
       "      <td>33</td>\n",
       "      <td>Papua Barat</td>\n",
       "      <td>1104</td>\n",
       "      <td>9791</td>\n",
       "      <td>131171</td>\n",
       "      <td>Rendah</td>\n",
       "    </tr>\n",
       "    <tr>\n",
       "      <th>33</th>\n",
       "      <td>34</td>\n",
       "      <td>Papua</td>\n",
       "      <td>2642</td>\n",
       "      <td>20227</td>\n",
       "      <td>472552</td>\n",
       "      <td>Rendah</td>\n",
       "    </tr>\n",
       "  </tbody>\n",
       "</table>\n",
       "</div>"
      ],
      "text/plain": [
       "    No                   Provinsi  Sekolah    Guru    Murid   Label\n",
       "0    1                       Aceh     3529   48541   486958  Rendah\n",
       "1    2             Sumatera Utara     9782  109585  1548652  Sedang\n",
       "2    3             Sumatera Barat     4260   46833   597218  Rendah\n",
       "3    4                       Riau     3791   51378   773526  Rendah\n",
       "4    5                      Jambi     2463   27161   368694  Rendah\n",
       "5    6           Sumatera Selatan     4696   59861   882534  Rendah\n",
       "6    7                   Bengkulu     1398   16035   194381  Rendah\n",
       "7    8                    Lampung     4732   57711   799619  Rendah\n",
       "8    9  Kepulauan Bangka Belitung      832    9678   162722  Rendah\n",
       "9   10             Kepulauan Riau      973   14033   225575  Rendah\n",
       "10  11                DKI Jakarta     2239   40344   765090  Rendah\n",
       "11  12                 Jawa Barat    19659  212849  4450934    Baik\n",
       "12  13                Jawa Tengah    18760  173671  2631174  Sedang\n",
       "13  14              DI Yogyakarta     1848   20455   274438  Rendah\n",
       "14  15                 Jawa Timur    19007  186798  2579913  Sedang\n",
       "15  16                     Banten     4634   56887  1185883  Rendah\n",
       "16  17                       Bali     2416   25719   382864  Rendah\n",
       "17  18        Nusa Tenggara Barat     3309   42159   509469  Rendah\n",
       "18  19        Nusa Tenggara Timur     5203   54285   669225  Rendah\n",
       "19  20           Kalimantan Barat     4438   39540   565648  Rendah\n",
       "20  21          Kalimantan Tengah     2648   25485   275040  Rendah\n",
       "21  22         Kalimantan Selatan     2915   30182   356919  Rendah\n",
       "22  23           Kalimantan Timur     1919   26112   412229  Rendah\n",
       "23  24           Kalimantan Utara      485    6095    78529  Rendah\n",
       "24  25             Sulawesi Utara     2203   18795   215237  Rendah\n",
       "25  26            Sulawesi Tengah     2926   27175   307722  Rendah\n",
       "26  27           Sulawesi Selatan     6438   70404   880177  Rendah\n",
       "27  28          Sulawesi Tenggara     2345   25567   291723  Rendah\n",
       "28  29                  Gorontalo      928    8392   108142  Rendah\n",
       "29  30             Sulawesi Barat     1326   13755   143993  Rendah\n",
       "30  31                     Maluku     1812   17969   207996  Rendah\n",
       "31  32               Maluku Utara     1315   12037   140564  Rendah\n",
       "32  33                Papua Barat     1104    9791   131171  Rendah\n",
       "33  34                      Papua     2642   20227   472552  Rendah"
      ]
     },
     "execution_count": 299,
     "metadata": {},
     "output_type": "execute_result"
    }
   ],
   "source": [
    "df"
   ]
  },
  {
   "cell_type": "code",
   "execution_count": 300,
   "id": "76f1576d",
   "metadata": {},
   "outputs": [
    {
     "data": {
      "application/vnd.plotly.v1+json": {
       "config": {
        "plotlyServerURL": "https://plot.ly"
       },
       "data": [
        {
         "hovertemplate": "Label=Rendah<br>Guru=%{x}<br>Murid=%{y}<br>Sekolah=%{z}<br>Provinsi=%{text}<extra></extra>",
         "legendgroup": "Rendah",
         "marker": {
          "color": "#636efa",
          "symbol": "circle"
         },
         "mode": "markers+text",
         "name": "Rendah",
         "scene": "scene",
         "showlegend": true,
         "text": [
          "Aceh",
          "Sumatera Barat",
          "Riau",
          "Jambi",
          "Sumatera Selatan",
          "Bengkulu",
          "Lampung",
          "Kepulauan Bangka Belitung",
          "Kepulauan Riau",
          "DKI Jakarta",
          "DI Yogyakarta",
          "Banten",
          "Bali",
          "Nusa Tenggara Barat",
          "Nusa Tenggara Timur",
          "Kalimantan Barat",
          "Kalimantan Tengah",
          "Kalimantan Selatan",
          "Kalimantan Timur",
          "Kalimantan Utara",
          "Sulawesi Utara",
          "Sulawesi Tengah",
          "Sulawesi Selatan",
          "Sulawesi Tenggara",
          "Gorontalo",
          "Sulawesi Barat",
          "Maluku",
          "Maluku Utara",
          "Papua Barat",
          "Papua"
         ],
         "type": "scatter3d",
         "x": [
          48541,
          46833,
          51378,
          27161,
          59861,
          16035,
          57711,
          9678,
          14033,
          40344,
          20455,
          56887,
          25719,
          42159,
          54285,
          39540,
          25485,
          30182,
          26112,
          6095,
          18795,
          27175,
          70404,
          25567,
          8392,
          13755,
          17969,
          12037,
          9791,
          20227
         ],
         "y": [
          486958,
          597218,
          773526,
          368694,
          882534,
          194381,
          799619,
          162722,
          225575,
          765090,
          274438,
          1185883,
          382864,
          509469,
          669225,
          565648,
          275040,
          356919,
          412229,
          78529,
          215237,
          307722,
          880177,
          291723,
          108142,
          143993,
          207996,
          140564,
          131171,
          472552
         ],
         "z": [
          3529,
          4260,
          3791,
          2463,
          4696,
          1398,
          4732,
          832,
          973,
          2239,
          1848,
          4634,
          2416,
          3309,
          5203,
          4438,
          2648,
          2915,
          1919,
          485,
          2203,
          2926,
          6438,
          2345,
          928,
          1326,
          1812,
          1315,
          1104,
          2642
         ]
        },
        {
         "hovertemplate": "Label=Sedang<br>Guru=%{x}<br>Murid=%{y}<br>Sekolah=%{z}<br>Provinsi=%{text}<extra></extra>",
         "legendgroup": "Sedang",
         "marker": {
          "color": "#EF553B",
          "symbol": "circle"
         },
         "mode": "markers+text",
         "name": "Sedang",
         "scene": "scene",
         "showlegend": true,
         "text": [
          "Sumatera Utara",
          "Jawa Tengah",
          "Jawa Timur"
         ],
         "type": "scatter3d",
         "x": [
          109585,
          173671,
          186798
         ],
         "y": [
          1548652,
          2631174,
          2579913
         ],
         "z": [
          9782,
          18760,
          19007
         ]
        },
        {
         "hovertemplate": "Label=Baik<br>Guru=%{x}<br>Murid=%{y}<br>Sekolah=%{z}<br>Provinsi=%{text}<extra></extra>",
         "legendgroup": "Baik",
         "marker": {
          "color": "#00cc96",
          "symbol": "circle"
         },
         "mode": "markers+text",
         "name": "Baik",
         "scene": "scene",
         "showlegend": true,
         "text": [
          "Jawa Barat"
         ],
         "type": "scatter3d",
         "x": [
          212849
         ],
         "y": [
          4450934
         ],
         "z": [
          19659
         ]
        }
       ],
       "layout": {
        "legend": {
         "title": {
          "text": "Label"
         },
         "tracegroupgap": 0
        },
        "scene": {
         "domain": {
          "x": [
           0,
           1
          ],
          "y": [
           0,
           1
          ]
         },
         "xaxis": {
          "title": {
           "text": "Guru"
          }
         },
         "yaxis": {
          "title": {
           "text": "Murid"
          }
         },
         "zaxis": {
          "title": {
           "text": "Sekolah"
          }
         }
        },
        "showlegend": true,
        "template": {
         "data": {
          "bar": [
           {
            "error_x": {
             "color": "#2a3f5f"
            },
            "error_y": {
             "color": "#2a3f5f"
            },
            "marker": {
             "line": {
              "color": "#E5ECF6",
              "width": 0.5
             },
             "pattern": {
              "fillmode": "overlay",
              "size": 10,
              "solidity": 0.2
             }
            },
            "type": "bar"
           }
          ],
          "barpolar": [
           {
            "marker": {
             "line": {
              "color": "#E5ECF6",
              "width": 0.5
             },
             "pattern": {
              "fillmode": "overlay",
              "size": 10,
              "solidity": 0.2
             }
            },
            "type": "barpolar"
           }
          ],
          "carpet": [
           {
            "aaxis": {
             "endlinecolor": "#2a3f5f",
             "gridcolor": "white",
             "linecolor": "white",
             "minorgridcolor": "white",
             "startlinecolor": "#2a3f5f"
            },
            "baxis": {
             "endlinecolor": "#2a3f5f",
             "gridcolor": "white",
             "linecolor": "white",
             "minorgridcolor": "white",
             "startlinecolor": "#2a3f5f"
            },
            "type": "carpet"
           }
          ],
          "choropleth": [
           {
            "colorbar": {
             "outlinewidth": 0,
             "ticks": ""
            },
            "type": "choropleth"
           }
          ],
          "contour": [
           {
            "colorbar": {
             "outlinewidth": 0,
             "ticks": ""
            },
            "colorscale": [
             [
              0,
              "#0d0887"
             ],
             [
              0.1111111111111111,
              "#46039f"
             ],
             [
              0.2222222222222222,
              "#7201a8"
             ],
             [
              0.3333333333333333,
              "#9c179e"
             ],
             [
              0.4444444444444444,
              "#bd3786"
             ],
             [
              0.5555555555555556,
              "#d8576b"
             ],
             [
              0.6666666666666666,
              "#ed7953"
             ],
             [
              0.7777777777777778,
              "#fb9f3a"
             ],
             [
              0.8888888888888888,
              "#fdca26"
             ],
             [
              1,
              "#f0f921"
             ]
            ],
            "type": "contour"
           }
          ],
          "contourcarpet": [
           {
            "colorbar": {
             "outlinewidth": 0,
             "ticks": ""
            },
            "type": "contourcarpet"
           }
          ],
          "heatmap": [
           {
            "colorbar": {
             "outlinewidth": 0,
             "ticks": ""
            },
            "colorscale": [
             [
              0,
              "#0d0887"
             ],
             [
              0.1111111111111111,
              "#46039f"
             ],
             [
              0.2222222222222222,
              "#7201a8"
             ],
             [
              0.3333333333333333,
              "#9c179e"
             ],
             [
              0.4444444444444444,
              "#bd3786"
             ],
             [
              0.5555555555555556,
              "#d8576b"
             ],
             [
              0.6666666666666666,
              "#ed7953"
             ],
             [
              0.7777777777777778,
              "#fb9f3a"
             ],
             [
              0.8888888888888888,
              "#fdca26"
             ],
             [
              1,
              "#f0f921"
             ]
            ],
            "type": "heatmap"
           }
          ],
          "heatmapgl": [
           {
            "colorbar": {
             "outlinewidth": 0,
             "ticks": ""
            },
            "colorscale": [
             [
              0,
              "#0d0887"
             ],
             [
              0.1111111111111111,
              "#46039f"
             ],
             [
              0.2222222222222222,
              "#7201a8"
             ],
             [
              0.3333333333333333,
              "#9c179e"
             ],
             [
              0.4444444444444444,
              "#bd3786"
             ],
             [
              0.5555555555555556,
              "#d8576b"
             ],
             [
              0.6666666666666666,
              "#ed7953"
             ],
             [
              0.7777777777777778,
              "#fb9f3a"
             ],
             [
              0.8888888888888888,
              "#fdca26"
             ],
             [
              1,
              "#f0f921"
             ]
            ],
            "type": "heatmapgl"
           }
          ],
          "histogram": [
           {
            "marker": {
             "pattern": {
              "fillmode": "overlay",
              "size": 10,
              "solidity": 0.2
             }
            },
            "type": "histogram"
           }
          ],
          "histogram2d": [
           {
            "colorbar": {
             "outlinewidth": 0,
             "ticks": ""
            },
            "colorscale": [
             [
              0,
              "#0d0887"
             ],
             [
              0.1111111111111111,
              "#46039f"
             ],
             [
              0.2222222222222222,
              "#7201a8"
             ],
             [
              0.3333333333333333,
              "#9c179e"
             ],
             [
              0.4444444444444444,
              "#bd3786"
             ],
             [
              0.5555555555555556,
              "#d8576b"
             ],
             [
              0.6666666666666666,
              "#ed7953"
             ],
             [
              0.7777777777777778,
              "#fb9f3a"
             ],
             [
              0.8888888888888888,
              "#fdca26"
             ],
             [
              1,
              "#f0f921"
             ]
            ],
            "type": "histogram2d"
           }
          ],
          "histogram2dcontour": [
           {
            "colorbar": {
             "outlinewidth": 0,
             "ticks": ""
            },
            "colorscale": [
             [
              0,
              "#0d0887"
             ],
             [
              0.1111111111111111,
              "#46039f"
             ],
             [
              0.2222222222222222,
              "#7201a8"
             ],
             [
              0.3333333333333333,
              "#9c179e"
             ],
             [
              0.4444444444444444,
              "#bd3786"
             ],
             [
              0.5555555555555556,
              "#d8576b"
             ],
             [
              0.6666666666666666,
              "#ed7953"
             ],
             [
              0.7777777777777778,
              "#fb9f3a"
             ],
             [
              0.8888888888888888,
              "#fdca26"
             ],
             [
              1,
              "#f0f921"
             ]
            ],
            "type": "histogram2dcontour"
           }
          ],
          "mesh3d": [
           {
            "colorbar": {
             "outlinewidth": 0,
             "ticks": ""
            },
            "type": "mesh3d"
           }
          ],
          "parcoords": [
           {
            "line": {
             "colorbar": {
              "outlinewidth": 0,
              "ticks": ""
             }
            },
            "type": "parcoords"
           }
          ],
          "pie": [
           {
            "automargin": true,
            "type": "pie"
           }
          ],
          "scatter": [
           {
            "fillpattern": {
             "fillmode": "overlay",
             "size": 10,
             "solidity": 0.2
            },
            "type": "scatter"
           }
          ],
          "scatter3d": [
           {
            "line": {
             "colorbar": {
              "outlinewidth": 0,
              "ticks": ""
             }
            },
            "marker": {
             "colorbar": {
              "outlinewidth": 0,
              "ticks": ""
             }
            },
            "type": "scatter3d"
           }
          ],
          "scattercarpet": [
           {
            "marker": {
             "colorbar": {
              "outlinewidth": 0,
              "ticks": ""
             }
            },
            "type": "scattercarpet"
           }
          ],
          "scattergeo": [
           {
            "marker": {
             "colorbar": {
              "outlinewidth": 0,
              "ticks": ""
             }
            },
            "type": "scattergeo"
           }
          ],
          "scattergl": [
           {
            "marker": {
             "colorbar": {
              "outlinewidth": 0,
              "ticks": ""
             }
            },
            "type": "scattergl"
           }
          ],
          "scattermapbox": [
           {
            "marker": {
             "colorbar": {
              "outlinewidth": 0,
              "ticks": ""
             }
            },
            "type": "scattermapbox"
           }
          ],
          "scatterpolar": [
           {
            "marker": {
             "colorbar": {
              "outlinewidth": 0,
              "ticks": ""
             }
            },
            "type": "scatterpolar"
           }
          ],
          "scatterpolargl": [
           {
            "marker": {
             "colorbar": {
              "outlinewidth": 0,
              "ticks": ""
             }
            },
            "type": "scatterpolargl"
           }
          ],
          "scatterternary": [
           {
            "marker": {
             "colorbar": {
              "outlinewidth": 0,
              "ticks": ""
             }
            },
            "type": "scatterternary"
           }
          ],
          "surface": [
           {
            "colorbar": {
             "outlinewidth": 0,
             "ticks": ""
            },
            "colorscale": [
             [
              0,
              "#0d0887"
             ],
             [
              0.1111111111111111,
              "#46039f"
             ],
             [
              0.2222222222222222,
              "#7201a8"
             ],
             [
              0.3333333333333333,
              "#9c179e"
             ],
             [
              0.4444444444444444,
              "#bd3786"
             ],
             [
              0.5555555555555556,
              "#d8576b"
             ],
             [
              0.6666666666666666,
              "#ed7953"
             ],
             [
              0.7777777777777778,
              "#fb9f3a"
             ],
             [
              0.8888888888888888,
              "#fdca26"
             ],
             [
              1,
              "#f0f921"
             ]
            ],
            "type": "surface"
           }
          ],
          "table": [
           {
            "cells": {
             "fill": {
              "color": "#EBF0F8"
             },
             "line": {
              "color": "white"
             }
            },
            "header": {
             "fill": {
              "color": "#C8D4E3"
             },
             "line": {
              "color": "white"
             }
            },
            "type": "table"
           }
          ]
         },
         "layout": {
          "annotationdefaults": {
           "arrowcolor": "#2a3f5f",
           "arrowhead": 0,
           "arrowwidth": 1
          },
          "autotypenumbers": "strict",
          "coloraxis": {
           "colorbar": {
            "outlinewidth": 0,
            "ticks": ""
           }
          },
          "colorscale": {
           "diverging": [
            [
             0,
             "#8e0152"
            ],
            [
             0.1,
             "#c51b7d"
            ],
            [
             0.2,
             "#de77ae"
            ],
            [
             0.3,
             "#f1b6da"
            ],
            [
             0.4,
             "#fde0ef"
            ],
            [
             0.5,
             "#f7f7f7"
            ],
            [
             0.6,
             "#e6f5d0"
            ],
            [
             0.7,
             "#b8e186"
            ],
            [
             0.8,
             "#7fbc41"
            ],
            [
             0.9,
             "#4d9221"
            ],
            [
             1,
             "#276419"
            ]
           ],
           "sequential": [
            [
             0,
             "#0d0887"
            ],
            [
             0.1111111111111111,
             "#46039f"
            ],
            [
             0.2222222222222222,
             "#7201a8"
            ],
            [
             0.3333333333333333,
             "#9c179e"
            ],
            [
             0.4444444444444444,
             "#bd3786"
            ],
            [
             0.5555555555555556,
             "#d8576b"
            ],
            [
             0.6666666666666666,
             "#ed7953"
            ],
            [
             0.7777777777777778,
             "#fb9f3a"
            ],
            [
             0.8888888888888888,
             "#fdca26"
            ],
            [
             1,
             "#f0f921"
            ]
           ],
           "sequentialminus": [
            [
             0,
             "#0d0887"
            ],
            [
             0.1111111111111111,
             "#46039f"
            ],
            [
             0.2222222222222222,
             "#7201a8"
            ],
            [
             0.3333333333333333,
             "#9c179e"
            ],
            [
             0.4444444444444444,
             "#bd3786"
            ],
            [
             0.5555555555555556,
             "#d8576b"
            ],
            [
             0.6666666666666666,
             "#ed7953"
            ],
            [
             0.7777777777777778,
             "#fb9f3a"
            ],
            [
             0.8888888888888888,
             "#fdca26"
            ],
            [
             1,
             "#f0f921"
            ]
           ]
          },
          "colorway": [
           "#636efa",
           "#EF553B",
           "#00cc96",
           "#ab63fa",
           "#FFA15A",
           "#19d3f3",
           "#FF6692",
           "#B6E880",
           "#FF97FF",
           "#FECB52"
          ],
          "font": {
           "color": "#2a3f5f"
          },
          "geo": {
           "bgcolor": "white",
           "lakecolor": "white",
           "landcolor": "#E5ECF6",
           "showlakes": true,
           "showland": true,
           "subunitcolor": "white"
          },
          "hoverlabel": {
           "align": "left"
          },
          "hovermode": "closest",
          "mapbox": {
           "style": "light"
          },
          "paper_bgcolor": "white",
          "plot_bgcolor": "#E5ECF6",
          "polar": {
           "angularaxis": {
            "gridcolor": "white",
            "linecolor": "white",
            "ticks": ""
           },
           "bgcolor": "#E5ECF6",
           "radialaxis": {
            "gridcolor": "white",
            "linecolor": "white",
            "ticks": ""
           }
          },
          "scene": {
           "xaxis": {
            "backgroundcolor": "#E5ECF6",
            "gridcolor": "white",
            "gridwidth": 2,
            "linecolor": "white",
            "showbackground": true,
            "ticks": "",
            "zerolinecolor": "white"
           },
           "yaxis": {
            "backgroundcolor": "#E5ECF6",
            "gridcolor": "white",
            "gridwidth": 2,
            "linecolor": "white",
            "showbackground": true,
            "ticks": "",
            "zerolinecolor": "white"
           },
           "zaxis": {
            "backgroundcolor": "#E5ECF6",
            "gridcolor": "white",
            "gridwidth": 2,
            "linecolor": "white",
            "showbackground": true,
            "ticks": "",
            "zerolinecolor": "white"
           }
          },
          "shapedefaults": {
           "line": {
            "color": "#2a3f5f"
           }
          },
          "ternary": {
           "aaxis": {
            "gridcolor": "white",
            "linecolor": "white",
            "ticks": ""
           },
           "baxis": {
            "gridcolor": "white",
            "linecolor": "white",
            "ticks": ""
           },
           "bgcolor": "#E5ECF6",
           "caxis": {
            "gridcolor": "white",
            "linecolor": "white",
            "ticks": ""
           }
          },
          "title": {
           "x": 0.05
          },
          "xaxis": {
           "automargin": true,
           "gridcolor": "white",
           "linecolor": "white",
           "ticks": "",
           "title": {
            "standoff": 15
           },
           "zerolinecolor": "white",
           "zerolinewidth": 2
          },
          "yaxis": {
           "automargin": true,
           "gridcolor": "white",
           "linecolor": "white",
           "ticks": "",
           "title": {
            "standoff": 15
           },
           "zerolinecolor": "white",
           "zerolinewidth": 2
          }
         }
        },
        "title": {
         "text": "Sebaran Provinsi Berdasarkan Data Sekolah Dasar"
        }
       }
      },
      "text/html": [
       "<div>                            <div id=\"936130e6-dab1-4df7-a2a1-5c660b172ff3\" class=\"plotly-graph-div\" style=\"height:525px; width:100%;\"></div>            <script type=\"text/javascript\">                require([\"plotly\"], function(Plotly) {                    window.PLOTLYENV=window.PLOTLYENV || {};                                    if (document.getElementById(\"936130e6-dab1-4df7-a2a1-5c660b172ff3\")) {                    Plotly.newPlot(                        \"936130e6-dab1-4df7-a2a1-5c660b172ff3\",                        [{\"hovertemplate\":\"Label=Rendah<br>Guru=%{x}<br>Murid=%{y}<br>Sekolah=%{z}<br>Provinsi=%{text}<extra></extra>\",\"legendgroup\":\"Rendah\",\"marker\":{\"color\":\"#636efa\",\"symbol\":\"circle\"},\"mode\":\"markers+text\",\"name\":\"Rendah\",\"scene\":\"scene\",\"showlegend\":true,\"text\":[\"Aceh\",\"Sumatera Barat\",\"Riau\",\"Jambi\",\"Sumatera Selatan\",\"Bengkulu\",\"Lampung\",\"Kepulauan Bangka Belitung\",\"Kepulauan Riau\",\"DKI Jakarta\",\"DI Yogyakarta\",\"Banten\",\"Bali\",\"Nusa Tenggara Barat\",\"Nusa Tenggara Timur\",\"Kalimantan Barat\",\"Kalimantan Tengah\",\"Kalimantan Selatan\",\"Kalimantan Timur\",\"Kalimantan Utara\",\"Sulawesi Utara\",\"Sulawesi Tengah\",\"Sulawesi Selatan\",\"Sulawesi Tenggara\",\"Gorontalo\",\"Sulawesi Barat\",\"Maluku\",\"Maluku Utara\",\"Papua Barat\",\"Papua\"],\"x\":[48541,46833,51378,27161,59861,16035,57711,9678,14033,40344,20455,56887,25719,42159,54285,39540,25485,30182,26112,6095,18795,27175,70404,25567,8392,13755,17969,12037,9791,20227],\"y\":[486958,597218,773526,368694,882534,194381,799619,162722,225575,765090,274438,1185883,382864,509469,669225,565648,275040,356919,412229,78529,215237,307722,880177,291723,108142,143993,207996,140564,131171,472552],\"z\":[3529,4260,3791,2463,4696,1398,4732,832,973,2239,1848,4634,2416,3309,5203,4438,2648,2915,1919,485,2203,2926,6438,2345,928,1326,1812,1315,1104,2642],\"type\":\"scatter3d\"},{\"hovertemplate\":\"Label=Sedang<br>Guru=%{x}<br>Murid=%{y}<br>Sekolah=%{z}<br>Provinsi=%{text}<extra></extra>\",\"legendgroup\":\"Sedang\",\"marker\":{\"color\":\"#EF553B\",\"symbol\":\"circle\"},\"mode\":\"markers+text\",\"name\":\"Sedang\",\"scene\":\"scene\",\"showlegend\":true,\"text\":[\"Sumatera Utara\",\"Jawa Tengah\",\"Jawa Timur\"],\"x\":[109585,173671,186798],\"y\":[1548652,2631174,2579913],\"z\":[9782,18760,19007],\"type\":\"scatter3d\"},{\"hovertemplate\":\"Label=Baik<br>Guru=%{x}<br>Murid=%{y}<br>Sekolah=%{z}<br>Provinsi=%{text}<extra></extra>\",\"legendgroup\":\"Baik\",\"marker\":{\"color\":\"#00cc96\",\"symbol\":\"circle\"},\"mode\":\"markers+text\",\"name\":\"Baik\",\"scene\":\"scene\",\"showlegend\":true,\"text\":[\"Jawa Barat\"],\"x\":[212849],\"y\":[4450934],\"z\":[19659],\"type\":\"scatter3d\"}],                        {\"template\":{\"data\":{\"histogram2dcontour\":[{\"type\":\"histogram2dcontour\",\"colorbar\":{\"outlinewidth\":0,\"ticks\":\"\"},\"colorscale\":[[0.0,\"#0d0887\"],[0.1111111111111111,\"#46039f\"],[0.2222222222222222,\"#7201a8\"],[0.3333333333333333,\"#9c179e\"],[0.4444444444444444,\"#bd3786\"],[0.5555555555555556,\"#d8576b\"],[0.6666666666666666,\"#ed7953\"],[0.7777777777777778,\"#fb9f3a\"],[0.8888888888888888,\"#fdca26\"],[1.0,\"#f0f921\"]]}],\"choropleth\":[{\"type\":\"choropleth\",\"colorbar\":{\"outlinewidth\":0,\"ticks\":\"\"}}],\"histogram2d\":[{\"type\":\"histogram2d\",\"colorbar\":{\"outlinewidth\":0,\"ticks\":\"\"},\"colorscale\":[[0.0,\"#0d0887\"],[0.1111111111111111,\"#46039f\"],[0.2222222222222222,\"#7201a8\"],[0.3333333333333333,\"#9c179e\"],[0.4444444444444444,\"#bd3786\"],[0.5555555555555556,\"#d8576b\"],[0.6666666666666666,\"#ed7953\"],[0.7777777777777778,\"#fb9f3a\"],[0.8888888888888888,\"#fdca26\"],[1.0,\"#f0f921\"]]}],\"heatmap\":[{\"type\":\"heatmap\",\"colorbar\":{\"outlinewidth\":0,\"ticks\":\"\"},\"colorscale\":[[0.0,\"#0d0887\"],[0.1111111111111111,\"#46039f\"],[0.2222222222222222,\"#7201a8\"],[0.3333333333333333,\"#9c179e\"],[0.4444444444444444,\"#bd3786\"],[0.5555555555555556,\"#d8576b\"],[0.6666666666666666,\"#ed7953\"],[0.7777777777777778,\"#fb9f3a\"],[0.8888888888888888,\"#fdca26\"],[1.0,\"#f0f921\"]]}],\"heatmapgl\":[{\"type\":\"heatmapgl\",\"colorbar\":{\"outlinewidth\":0,\"ticks\":\"\"},\"colorscale\":[[0.0,\"#0d0887\"],[0.1111111111111111,\"#46039f\"],[0.2222222222222222,\"#7201a8\"],[0.3333333333333333,\"#9c179e\"],[0.4444444444444444,\"#bd3786\"],[0.5555555555555556,\"#d8576b\"],[0.6666666666666666,\"#ed7953\"],[0.7777777777777778,\"#fb9f3a\"],[0.8888888888888888,\"#fdca26\"],[1.0,\"#f0f921\"]]}],\"contourcarpet\":[{\"type\":\"contourcarpet\",\"colorbar\":{\"outlinewidth\":0,\"ticks\":\"\"}}],\"contour\":[{\"type\":\"contour\",\"colorbar\":{\"outlinewidth\":0,\"ticks\":\"\"},\"colorscale\":[[0.0,\"#0d0887\"],[0.1111111111111111,\"#46039f\"],[0.2222222222222222,\"#7201a8\"],[0.3333333333333333,\"#9c179e\"],[0.4444444444444444,\"#bd3786\"],[0.5555555555555556,\"#d8576b\"],[0.6666666666666666,\"#ed7953\"],[0.7777777777777778,\"#fb9f3a\"],[0.8888888888888888,\"#fdca26\"],[1.0,\"#f0f921\"]]}],\"surface\":[{\"type\":\"surface\",\"colorbar\":{\"outlinewidth\":0,\"ticks\":\"\"},\"colorscale\":[[0.0,\"#0d0887\"],[0.1111111111111111,\"#46039f\"],[0.2222222222222222,\"#7201a8\"],[0.3333333333333333,\"#9c179e\"],[0.4444444444444444,\"#bd3786\"],[0.5555555555555556,\"#d8576b\"],[0.6666666666666666,\"#ed7953\"],[0.7777777777777778,\"#fb9f3a\"],[0.8888888888888888,\"#fdca26\"],[1.0,\"#f0f921\"]]}],\"mesh3d\":[{\"type\":\"mesh3d\",\"colorbar\":{\"outlinewidth\":0,\"ticks\":\"\"}}],\"scatter\":[{\"fillpattern\":{\"fillmode\":\"overlay\",\"size\":10,\"solidity\":0.2},\"type\":\"scatter\"}],\"parcoords\":[{\"type\":\"parcoords\",\"line\":{\"colorbar\":{\"outlinewidth\":0,\"ticks\":\"\"}}}],\"scatterpolargl\":[{\"type\":\"scatterpolargl\",\"marker\":{\"colorbar\":{\"outlinewidth\":0,\"ticks\":\"\"}}}],\"bar\":[{\"error_x\":{\"color\":\"#2a3f5f\"},\"error_y\":{\"color\":\"#2a3f5f\"},\"marker\":{\"line\":{\"color\":\"#E5ECF6\",\"width\":0.5},\"pattern\":{\"fillmode\":\"overlay\",\"size\":10,\"solidity\":0.2}},\"type\":\"bar\"}],\"scattergeo\":[{\"type\":\"scattergeo\",\"marker\":{\"colorbar\":{\"outlinewidth\":0,\"ticks\":\"\"}}}],\"scatterpolar\":[{\"type\":\"scatterpolar\",\"marker\":{\"colorbar\":{\"outlinewidth\":0,\"ticks\":\"\"}}}],\"histogram\":[{\"marker\":{\"pattern\":{\"fillmode\":\"overlay\",\"size\":10,\"solidity\":0.2}},\"type\":\"histogram\"}],\"scattergl\":[{\"type\":\"scattergl\",\"marker\":{\"colorbar\":{\"outlinewidth\":0,\"ticks\":\"\"}}}],\"scatter3d\":[{\"type\":\"scatter3d\",\"line\":{\"colorbar\":{\"outlinewidth\":0,\"ticks\":\"\"}},\"marker\":{\"colorbar\":{\"outlinewidth\":0,\"ticks\":\"\"}}}],\"scattermapbox\":[{\"type\":\"scattermapbox\",\"marker\":{\"colorbar\":{\"outlinewidth\":0,\"ticks\":\"\"}}}],\"scatterternary\":[{\"type\":\"scatterternary\",\"marker\":{\"colorbar\":{\"outlinewidth\":0,\"ticks\":\"\"}}}],\"scattercarpet\":[{\"type\":\"scattercarpet\",\"marker\":{\"colorbar\":{\"outlinewidth\":0,\"ticks\":\"\"}}}],\"carpet\":[{\"aaxis\":{\"endlinecolor\":\"#2a3f5f\",\"gridcolor\":\"white\",\"linecolor\":\"white\",\"minorgridcolor\":\"white\",\"startlinecolor\":\"#2a3f5f\"},\"baxis\":{\"endlinecolor\":\"#2a3f5f\",\"gridcolor\":\"white\",\"linecolor\":\"white\",\"minorgridcolor\":\"white\",\"startlinecolor\":\"#2a3f5f\"},\"type\":\"carpet\"}],\"table\":[{\"cells\":{\"fill\":{\"color\":\"#EBF0F8\"},\"line\":{\"color\":\"white\"}},\"header\":{\"fill\":{\"color\":\"#C8D4E3\"},\"line\":{\"color\":\"white\"}},\"type\":\"table\"}],\"barpolar\":[{\"marker\":{\"line\":{\"color\":\"#E5ECF6\",\"width\":0.5},\"pattern\":{\"fillmode\":\"overlay\",\"size\":10,\"solidity\":0.2}},\"type\":\"barpolar\"}],\"pie\":[{\"automargin\":true,\"type\":\"pie\"}]},\"layout\":{\"autotypenumbers\":\"strict\",\"colorway\":[\"#636efa\",\"#EF553B\",\"#00cc96\",\"#ab63fa\",\"#FFA15A\",\"#19d3f3\",\"#FF6692\",\"#B6E880\",\"#FF97FF\",\"#FECB52\"],\"font\":{\"color\":\"#2a3f5f\"},\"hovermode\":\"closest\",\"hoverlabel\":{\"align\":\"left\"},\"paper_bgcolor\":\"white\",\"plot_bgcolor\":\"#E5ECF6\",\"polar\":{\"bgcolor\":\"#E5ECF6\",\"angularaxis\":{\"gridcolor\":\"white\",\"linecolor\":\"white\",\"ticks\":\"\"},\"radialaxis\":{\"gridcolor\":\"white\",\"linecolor\":\"white\",\"ticks\":\"\"}},\"ternary\":{\"bgcolor\":\"#E5ECF6\",\"aaxis\":{\"gridcolor\":\"white\",\"linecolor\":\"white\",\"ticks\":\"\"},\"baxis\":{\"gridcolor\":\"white\",\"linecolor\":\"white\",\"ticks\":\"\"},\"caxis\":{\"gridcolor\":\"white\",\"linecolor\":\"white\",\"ticks\":\"\"}},\"coloraxis\":{\"colorbar\":{\"outlinewidth\":0,\"ticks\":\"\"}},\"colorscale\":{\"sequential\":[[0.0,\"#0d0887\"],[0.1111111111111111,\"#46039f\"],[0.2222222222222222,\"#7201a8\"],[0.3333333333333333,\"#9c179e\"],[0.4444444444444444,\"#bd3786\"],[0.5555555555555556,\"#d8576b\"],[0.6666666666666666,\"#ed7953\"],[0.7777777777777778,\"#fb9f3a\"],[0.8888888888888888,\"#fdca26\"],[1.0,\"#f0f921\"]],\"sequentialminus\":[[0.0,\"#0d0887\"],[0.1111111111111111,\"#46039f\"],[0.2222222222222222,\"#7201a8\"],[0.3333333333333333,\"#9c179e\"],[0.4444444444444444,\"#bd3786\"],[0.5555555555555556,\"#d8576b\"],[0.6666666666666666,\"#ed7953\"],[0.7777777777777778,\"#fb9f3a\"],[0.8888888888888888,\"#fdca26\"],[1.0,\"#f0f921\"]],\"diverging\":[[0,\"#8e0152\"],[0.1,\"#c51b7d\"],[0.2,\"#de77ae\"],[0.3,\"#f1b6da\"],[0.4,\"#fde0ef\"],[0.5,\"#f7f7f7\"],[0.6,\"#e6f5d0\"],[0.7,\"#b8e186\"],[0.8,\"#7fbc41\"],[0.9,\"#4d9221\"],[1,\"#276419\"]]},\"xaxis\":{\"gridcolor\":\"white\",\"linecolor\":\"white\",\"ticks\":\"\",\"title\":{\"standoff\":15},\"zerolinecolor\":\"white\",\"automargin\":true,\"zerolinewidth\":2},\"yaxis\":{\"gridcolor\":\"white\",\"linecolor\":\"white\",\"ticks\":\"\",\"title\":{\"standoff\":15},\"zerolinecolor\":\"white\",\"automargin\":true,\"zerolinewidth\":2},\"scene\":{\"xaxis\":{\"backgroundcolor\":\"#E5ECF6\",\"gridcolor\":\"white\",\"linecolor\":\"white\",\"showbackground\":true,\"ticks\":\"\",\"zerolinecolor\":\"white\",\"gridwidth\":2},\"yaxis\":{\"backgroundcolor\":\"#E5ECF6\",\"gridcolor\":\"white\",\"linecolor\":\"white\",\"showbackground\":true,\"ticks\":\"\",\"zerolinecolor\":\"white\",\"gridwidth\":2},\"zaxis\":{\"backgroundcolor\":\"#E5ECF6\",\"gridcolor\":\"white\",\"linecolor\":\"white\",\"showbackground\":true,\"ticks\":\"\",\"zerolinecolor\":\"white\",\"gridwidth\":2}},\"shapedefaults\":{\"line\":{\"color\":\"#2a3f5f\"}},\"annotationdefaults\":{\"arrowcolor\":\"#2a3f5f\",\"arrowhead\":0,\"arrowwidth\":1},\"geo\":{\"bgcolor\":\"white\",\"landcolor\":\"#E5ECF6\",\"subunitcolor\":\"white\",\"showland\":true,\"showlakes\":true,\"lakecolor\":\"white\"},\"title\":{\"x\":0.05},\"mapbox\":{\"style\":\"light\"}}},\"scene\":{\"domain\":{\"x\":[0.0,1.0],\"y\":[0.0,1.0]},\"xaxis\":{\"title\":{\"text\":\"Guru\"}},\"yaxis\":{\"title\":{\"text\":\"Murid\"}},\"zaxis\":{\"title\":{\"text\":\"Sekolah\"}}},\"legend\":{\"title\":{\"text\":\"Label\"},\"tracegroupgap\":0},\"title\":{\"text\":\"Sebaran Provinsi Berdasarkan Data Sekolah Dasar\"},\"showlegend\":true},                        {\"responsive\": true}                    ).then(function(){\n",
       "                            \n",
       "var gd = document.getElementById('936130e6-dab1-4df7-a2a1-5c660b172ff3');\n",
       "var x = new MutationObserver(function (mutations, observer) {{\n",
       "        var display = window.getComputedStyle(gd).display;\n",
       "        if (!display || display === 'none') {{\n",
       "            console.log([gd, 'removed!']);\n",
       "            Plotly.purge(gd);\n",
       "            observer.disconnect();\n",
       "        }}\n",
       "}});\n",
       "\n",
       "// Listen for the removal of the full notebook cells\n",
       "var notebookContainer = gd.closest('#notebook-container');\n",
       "if (notebookContainer) {{\n",
       "    x.observe(notebookContainer, {childList: true});\n",
       "}}\n",
       "\n",
       "// Listen for the clearing of the current output cell\n",
       "var outputEl = gd.closest('.output');\n",
       "if (outputEl) {{\n",
       "    x.observe(outputEl, {childList: true});\n",
       "}}\n",
       "\n",
       "                        })                };                });            </script>        </div>"
      ]
     },
     "metadata": {},
     "output_type": "display_data"
    }
   ],
   "source": [
    "figure = plotly_express.scatter_3d(df,\n",
    "                 x='Guru', y='Murid',\n",
    "                 z='Sekolah', color=\"Label\", text=\"Provinsi\",\n",
    "                 title=\"Sebaran Provinsi Berdasarkan Data Sekolah Dasar\")\n",
    " \n",
    "figure.update_layout(showlegend=True)\n",
    " \n",
    "figure.show()"
   ]
  },
  {
   "cell_type": "code",
   "execution_count": 301,
   "id": "a7e95619",
   "metadata": {},
   "outputs": [
    {
     "data": {
      "text/plain": [
       "<Axes: xlabel='Label'>"
      ]
     },
     "execution_count": 301,
     "metadata": {},
     "output_type": "execute_result"
    },
    {
     "data": {
      "image/png": "[encoded data removed]",
      "text/plain": [
       "<Figure size 800x550 with 1 Axes>"
      ]
     },
     "metadata": {},
     "output_type": "display_data"
    }
   ],
   "source": [
    "df_plot = df.groupby('Label').agg({\"Sekolah\":np.mean, \"Guru\":np.mean, \"Murid\":np.mean}).reset_index()\n",
    "df_plot.plot(x=\"Label\", y=[\"Sekolah\", \"Guru\", \"Murid\"], kind=\"bar\")"
   ]
  },
  {
   "cell_type": "code",
   "execution_count": null,
   "id": "b6c0af79",
   "metadata": {},
   "outputs": [],
   "source": []
  }
 ],
 "metadata": {
  "kernelspec": {
   "display_name": "Python 3 (ipykernel)",
   "language": "python",
   "name": "python3"
  },
  "language_info": {
   "codemirror_mode": {
    "name": "ipython",
    "version": 3
   },
   "file_extension": ".py",
   "mimetype": "text/x-python",
   "name": "python",
   "nbconvert_exporter": "python",
   "pygments_lexer": "ipython3",
   "version": "3.10.9"
  }
 },
 "nbformat": 4,
 "nbformat_minor": 5
}
